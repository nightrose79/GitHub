{
 "cells": [
  {
   "cell_type": "markdown",
   "metadata": {
    "collapsed": true
   },
   "source": [
    "# ML: Time Series Analysis with zoo and dynlm\n",
    "In this notebook, we demonstrate simple time series analyses using the `zoo` package.\n",
    "\n",
    "        The package zoo provides an S3 class and methods for indexed totally ordered\n",
    "        observations, such as both regular and irregular time series.\n",
    "\n",
    "        An indexed object of class \"zoo\" can be thought of as data plus index\n",
    "        where the data are essentially vectors or matrices and the index can be\n",
    "        a vector of (in principle) arbitrary class.\n",
    "        \n",
    "Time Series regression is performed with the `dynlm` package."
   ]
  },
  {
   "cell_type": "markdown",
   "metadata": {
    "collapsed": true
   },
   "source": [
    "## Preparatory code"
   ]
  },
  {
   "cell_type": "code",
   "execution_count": null,
   "metadata": {
    "collapsed": false
   },
   "outputs": [],
   "source": [
    "# essentials\n",
    "library(dplyr)\n",
    "library(magrittr)\n",
    "library(ggplot2)\n",
    "\n",
    "# best package for dates\n",
    "# https://cran.r-project.org/web/packages/lubridate/vignettes/lubridate.html\n",
    "library(lubridate)\n",
    "\n",
    "google_stock <- readRDS(\"small_data/google_stock.RDS\")"
   ]
  },
  {
   "cell_type": "markdown",
   "metadata": {},
   "source": [
    "## Working with dates is simple with lubridate (and dplyr)"
   ]
  },
  {
   "cell_type": "code",
   "execution_count": null,
   "metadata": {
    "collapsed": false
   },
   "outputs": [],
   "source": [
    "google_stock$Date %<>% ymd"
   ]
  },
  {
   "cell_type": "code",
   "execution_count": null,
   "metadata": {
    "collapsed": false
   },
   "outputs": [],
   "source": [
    "google_stock %>% glimpse"
   ]
  },
  {
   "cell_type": "code",
   "execution_count": null,
   "metadata": {
    "collapsed": false
   },
   "outputs": [],
   "source": [
    "# easy filter with dplyr\n",
    "# note: jupyter seems to have an issue with `scale_x_date()`\n",
    "google_stock %>%\n",
    "    filter(Date > \"2015-01-01\") %>%\n",
    "    qplot(Date, Open, data=.) # + scale_x_date()"
   ]
  },
  {
   "cell_type": "code",
   "execution_count": null,
   "metadata": {
    "collapsed": false
   },
   "outputs": [],
   "source": [
    "#qplot(Date, Open, data=google_stock) + geom_line() + scale_x_date()"
   ]
  },
  {
   "cell_type": "markdown",
   "metadata": {},
   "source": [
    "## Time series analysis with zoo"
   ]
  },
  {
   "cell_type": "code",
   "execution_count": null,
   "metadata": {
    "collapsed": false
   },
   "outputs": [],
   "source": [
    "library(zoo)"
   ]
  },
  {
   "cell_type": "markdown",
   "metadata": {},
   "source": [
    "### Handling missing data\n",
    "Make sure this is appropriate!\n",
    "\n",
    "\n",
    "(need to have missing values. this data does not)\n",
    "\n",
    "    ## linear interpolation\n",
    "    interpolated  <- na.approx(google_stock$Date)\n",
    "\n",
    "    ## last observation carried forward\n",
    "    locf <- na.locf(google_stock$Date)"
   ]
  },
  {
   "cell_type": "markdown",
   "metadata": {},
   "source": [
    "### Convert a data frame to zoo object\n",
    "Details: https://cran.r-project.org/web/packages/zoo/vignettes/zoo-read.pdf"
   ]
  },
  {
   "cell_type": "code",
   "execution_count": null,
   "metadata": {
    "collapsed": true
   },
   "outputs": [],
   "source": [
    "# convert to zoo object\n",
    "google <- google_stock %>%\n",
    "    select(Date, Open, Close, Volume) %>% as.data.frame %>% read.zoo "
   ]
  },
  {
   "cell_type": "code",
   "execution_count": null,
   "metadata": {
    "collapsed": false
   },
   "outputs": [],
   "source": [
    "# use as.data.frame only for printing\n",
    "google %>% as.data.frame %>% head"
   ]
  },
  {
   "cell_type": "code",
   "execution_count": null,
   "metadata": {
    "collapsed": false
   },
   "outputs": [],
   "source": [
    "# automatic paneling with zoo object\n",
    "plot(google)"
   ]
  },
  {
   "cell_type": "code",
   "execution_count": null,
   "metadata": {
    "collapsed": false
   },
   "outputs": [],
   "source": [
    "plot(google %>% log %>% diff)"
   ]
  },
  {
   "cell_type": "markdown",
   "metadata": {},
   "source": [
    "### Obtain lagged values"
   ]
  },
  {
   "cell_type": "code",
   "execution_count": null,
   "metadata": {
    "collapsed": false
   },
   "outputs": [],
   "source": [
    "google$Open %>% as.data.frame %>% head"
   ]
  },
  {
   "cell_type": "code",
   "execution_count": null,
   "metadata": {
    "collapsed": false
   },
   "outputs": [],
   "source": [
    "# lag 2 values back\n",
    "lag(google$Open, 2) %>% as.data.frame %>% head"
   ]
  },
  {
   "cell_type": "markdown",
   "metadata": {},
   "source": [
    "### Compute rolling/moving average and other statistics"
   ]
  },
  {
   "cell_type": "code",
   "execution_count": null,
   "metadata": {
    "collapsed": false
   },
   "outputs": [],
   "source": [
    "## apply mean over a window of 2 time points\n",
    "rollapply(google, 2, mean) %>% as.data.frame %>% head"
   ]
  },
  {
   "cell_type": "code",
   "execution_count": null,
   "metadata": {
    "collapsed": true
   },
   "outputs": [],
   "source": [
    "# options: align and fill \n",
    "rollapply(google, 2, mean, align=\"right\") %>% as.data.frame %>% head\n",
    "rollapply(google, 2, mean, fill=NA, align = \"right\")%>% as.data.frame %>% head"
   ]
  },
  {
   "cell_type": "code",
   "execution_count": null,
   "metadata": {
    "collapsed": true
   },
   "outputs": [],
   "source": [
    "# more efficient implementation of common functions\n",
    "# rollmean(), rollmedian(), rollmax()\n",
    "rollmax(google, 2, align=\"right\", fill=NA) %>% as.data.frame %>% head"
   ]
  },
  {
   "cell_type": "markdown",
   "metadata": {},
   "source": [
    "## Regression with dynlm"
   ]
  },
  {
   "cell_type": "code",
   "execution_count": null,
   "metadata": {
    "collapsed": false
   },
   "outputs": [],
   "source": [
    "library(broom)\n",
    "library(dynlm)"
   ]
  },
  {
   "cell_type": "code",
   "execution_count": null,
   "metadata": {
    "collapsed": false
   },
   "outputs": [],
   "source": [
    "dynlm(Open ~ lag(Open, 1), data=google) %>% summary"
   ]
  },
  {
   "cell_type": "code",
   "execution_count": null,
   "metadata": {
    "collapsed": false
   },
   "outputs": [],
   "source": [
    "# tidy output with broom!\n",
    "dynlm(Open ~ lag(Open, 1), data=google) %>% tidy"
   ]
  },
  {
   "cell_type": "code",
   "execution_count": null,
   "metadata": {
    "collapsed": false
   },
   "outputs": [],
   "source": [
    "dynlm(Open ~ lag(Open, 1), data=google) %>% summary %>% glance"
   ]
  },
  {
   "cell_type": "code",
   "execution_count": null,
   "metadata": {
    "collapsed": false
   },
   "outputs": [],
   "source": [
    "# add more predictors\n",
    "dynlm(Open ~ lag(Open, 1) + lag(Volume, 2), data=google) %>% summary"
   ]
  },
  {
   "cell_type": "markdown",
   "metadata": {
    "collapsed": true
   },
   "source": [
    "## Resources\n",
    "\n",
    "[The lubridate vignette from CRAN](https://cran.r-project.org/web/packages/lubridate/vignettes/lubridate.html)\n",
    "\n",
    "[Convert a data frame to zoo object [PDF]](https://cran.r-project.org/web/packages/zoo/vignettes/zoo-read.pdf)"
   ]
  },
  {
   "cell_type": "markdown",
   "metadata": {},
   "source": [
    "*Copyright &copy; 2016 The Data Incubator.  All rights reserved.*"
   ]
  }
 ],
 "metadata": {
  "kernelspec": {
   "display_name": "R",
   "language": "R",
   "name": "ir"
  },
  "language_info": {
   "codemirror_mode": "r",
   "file_extension": ".r",
   "mimetype": "text/x-r-source",
   "name": "R",
   "pygments_lexer": "r",
   "version": "3.3.1"
  }
 },
 "nbformat": 4,
 "nbformat_minor": 1
}
