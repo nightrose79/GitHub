{
 "cells": [
  {
   "cell_type": "markdown",
   "metadata": {},
   "source": [
    "# ML: Clustering and Dimension Reduction"
   ]
  },
  {
   "cell_type": "markdown",
   "metadata": {
    "collapsed": true
   },
   "source": [
    "This notebook includes code examples of clustering and dimension reduction with:\n",
    "\n",
    "* Kmeans for clustering\n",
    "* PCA for dimension reduction"
   ]
  },
  {
   "cell_type": "markdown",
   "metadata": {},
   "source": [
    "## Prepare data"
   ]
  },
  {
   "cell_type": "code",
   "execution_count": null,
   "metadata": {
    "collapsed": false
   },
   "outputs": [],
   "source": [
    "library(dplyr)\n",
    "\n",
    "# read data\n",
    "wine <- readRDS(\"small_data/wine.RDS\")"
   ]
  },
  {
   "cell_type": "markdown",
   "metadata": {},
   "source": [
    "### EDA"
   ]
  },
  {
   "cell_type": "code",
   "execution_count": null,
   "metadata": {
    "collapsed": false
   },
   "outputs": [],
   "source": [
    "wine %>% head"
   ]
  },
  {
   "cell_type": "code",
   "execution_count": null,
   "metadata": {
    "collapsed": false
   },
   "outputs": [],
   "source": [
    "## check correlations\n",
    "cor(wine)\n",
    "\n",
    "## https://cran.r-project.org/web/packages/corrplot/vignettes/corrplot-intro.html\n",
    "library(corrplot)                       \n",
    "corrplot(wine %>% cor, method=\"ellipse\", order=\"FPC\")"
   ]
  },
  {
   "cell_type": "markdown",
   "metadata": {},
   "source": [
    "## Clustering\n",
    "Clustering may be used for exploratory purposes, or to reduce the number of features (X's) in your dataset."
   ]
  },
  {
   "cell_type": "code",
   "execution_count": null,
   "metadata": {
    "collapsed": true
   },
   "outputs": [],
   "source": [
    "# kmeans() is included in base R\n",
    "\n",
    "# specify K, and number of random starts (nstart)\n",
    "kk <- 3\n",
    "kmeans <- kmeans(wine, centers=kk, nstart = 100)"
   ]
  },
  {
   "cell_type": "code",
   "execution_count": null,
   "metadata": {
    "collapsed": false
   },
   "outputs": [],
   "source": [
    "kmeans"
   ]
  },
  {
   "cell_type": "code",
   "execution_count": null,
   "metadata": {
    "collapsed": false
   },
   "outputs": [],
   "source": [
    "# cluster labels for each row\n",
    "kmeans$cluster\n",
    "\n",
    "# size of cluster\n",
    "kmeans$size\n",
    "\n",
    "kmeans$centers"
   ]
  },
  {
   "cell_type": "code",
   "execution_count": null,
   "metadata": {
    "collapsed": true
   },
   "outputs": [],
   "source": [
    "library(cluster)"
   ]
  },
  {
   "cell_type": "code",
   "execution_count": null,
   "metadata": {
    "collapsed": false
   },
   "outputs": [],
   "source": [
    "# daisy(): Compute all the pairwise dissimilarities (distances) between observations in the data set.\n",
    "# The original variables may be of mixed types.\n",
    "dissimilarity <- daisy(wine)\n",
    "silhouette <- silhouette(kmeans$cluster, dissimilarity)"
   ]
  },
  {
   "cell_type": "code",
   "execution_count": null,
   "metadata": {
    "collapsed": false
   },
   "outputs": [],
   "source": [
    "plot(silhouette)"
   ]
  },
  {
   "cell_type": "code",
   "execution_count": null,
   "metadata": {
    "collapsed": false
   },
   "outputs": [],
   "source": [
    "clusplot(wine, kmeans$cluster, color=TRUE, labels = 5)"
   ]
  },
  {
   "cell_type": "markdown",
   "metadata": {},
   "source": [
    "## Dimension Reduction with PCA\n",
    "A fancy visualization of PCA can be found here:\n",
    "http://setosa.io/ev/principal-component-analysis/"
   ]
  },
  {
   "cell_type": "code",
   "execution_count": null,
   "metadata": {
    "collapsed": true
   },
   "outputs": [],
   "source": [
    "# princomp() is included in base R\n",
    "\n",
    "#wine_pca <- princomp(wine, cor=FALSE)\n",
    "#wine_pca %>% summary                    #why?\n",
    "#wine_pca %>% loadings\n",
    "\n",
    "wine_pca <- princomp(wine, cor=TRUE)"
   ]
  },
  {
   "cell_type": "code",
   "execution_count": null,
   "metadata": {
    "collapsed": false
   },
   "outputs": [],
   "source": [
    "wine_pca %>% summary"
   ]
  },
  {
   "cell_type": "code",
   "execution_count": null,
   "metadata": {
    "collapsed": false
   },
   "outputs": [],
   "source": [
    "wine_pca %>% loadings"
   ]
  },
  {
   "cell_type": "markdown",
   "metadata": {},
   "source": [
    "to choose the number of principal components moving forward:\n",
    "* pick enough PC's to explain 60-70% of data\n",
    "* look for a bend in the scree plot"
   ]
  },
  {
   "cell_type": "code",
   "execution_count": null,
   "metadata": {
    "collapsed": false
   },
   "outputs": [],
   "source": [
    "## visualize lambdas\n",
    "wine_pca$sdev**2\n",
    "wine_pca %>% screeplot"
   ]
  },
  {
   "cell_type": "code",
   "execution_count": null,
   "metadata": {
    "collapsed": true
   },
   "outputs": [],
   "source": [
    "#wine_pca$sdev %>% barplot"
   ]
  },
  {
   "cell_type": "code",
   "execution_count": null,
   "metadata": {
    "collapsed": false
   },
   "outputs": [],
   "source": [
    "## visualize first 2 components\n",
    "wine_predict <- predict(wine_pca)\n",
    "df <- as_data_frame(wine_predict)\n",
    "\n",
    "library(ggplot2)\n",
    "ggplot(df, aes(x=Comp.1, y=Comp.2, label=row.names(df))) +\n",
    "    geom_text() +\n",
    "    ggtitle(\"First 2 principal components\\n(with row labels)\") +\n",
    "    labs(x=\"First PC\", y=\"Second PC\")"
   ]
  },
  {
   "cell_type": "code",
   "execution_count": null,
   "metadata": {
    "collapsed": false
   },
   "outputs": [],
   "source": [
    "# showing variable loadings\n",
    "wine_pca %>% biplot"
   ]
  },
  {
   "cell_type": "markdown",
   "metadata": {},
   "source": [
    "### Boostrap CI for variance explained"
   ]
  },
  {
   "cell_type": "code",
   "execution_count": null,
   "metadata": {
    "collapsed": false
   },
   "outputs": [],
   "source": [
    "## create a bootstrapped confidence interval for % variance explained\n",
    "value <- 0\n",
    "repeats <- 10000\n",
    "for(i in 1:repeats){\n",
    "  a <- sample(1:180, size=180, replace=TRUE)\n",
    "  correlations <- cor(wine[a,])\n",
    "  value[i] <- sum(svd(correlations)$d[1:5])/13\n",
    "}\n",
    "\n",
    "## .803 = variance explained by first 5 PCs, from the data\n",
    "qplot(value, binwidth=0.001) +\n",
    "    geom_vline(aes(xintercept=0.803,\n",
    "                   colour=\"red\")) +\n",
    "    labs(x=\"Percentage of variance explained by first 5 principal components\")\n",
    "\n",
    "c(mean=mean(value),median=median(value))\n",
    "## the CI here bootstrap ci\n",
    "quantile(value,c(0.025,0.975))"
   ]
  },
  {
   "cell_type": "markdown",
   "metadata": {},
   "source": [
    "*Copyright &copy; 2016 The Data Incubator.  All rights reserved.*"
   ]
  }
 ],
 "metadata": {
  "kernelspec": {
   "display_name": "R",
   "language": "R",
   "name": "ir"
  },
  "language_info": {
   "codemirror_mode": "r",
   "file_extension": ".r",
   "mimetype": "text/x-r-source",
   "name": "R",
   "pygments_lexer": "r",
   "version": "3.3.1"
  }
 },
 "nbformat": 4,
 "nbformat_minor": 1
}
