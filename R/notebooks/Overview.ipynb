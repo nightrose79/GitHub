{
 "cells": [
  {
   "cell_type": "markdown",
   "metadata": {},
   "source": [
    "# Data Science with R"
   ]
  },
  {
   "cell_type": "markdown",
   "metadata": {},
   "source": [
    "R is one of the best tools for data analysis, especially due to [Tidy Tools](https://cran.r-project.org/web/packages/tidyverse/vignettes/manifesto.html). The \"tidyverse\" packages make data manipulation extremely easy and intuitive. Currently, effort is put into [a unified framework for modeling](https://github.com/hadley/modelr), as well as [interfacing R with tools like Spark](https://blog.rstudio.org/2016/09/27/sparklyr-r-interface-for-apache-spark/)."
   ]
  },
  {
   "cell_type": "markdown",
   "metadata": {},
   "source": [
    "# This Week"
   ]
  },
  {
   "cell_type": "markdown",
   "metadata": {},
   "source": [
    "## 1. Course material\n",
    "* Tuesday: Quick Introduction to R\n",
    "* Tuesday: Data Manipulation and Advanced ETL\n",
    "* Tuesday, Thursday: Modeling\n",
    "* Friday: Visualization, Flex Time \n",
    "\n",
    "## 2. Exercises\n",
    "* Lecture exercises\n",
    "* Miniproject"
   ]
  },
  {
   "cell_type": "markdown",
   "metadata": {
    "collapsed": false
   },
   "source": [
    "# References and News\n",
    "RStudio creates and collects [these extremely useful cheetsheats](https://www.rstudio.com/resources/cheatsheets/).\n",
    "\n",
    "Also, note that the [\"tidyverse\"](https://github.com/hadley/tidyverse) is out as of a month ago!\n",
    "\n",
    "Hadley Wickham's latest efforts seem to be focused on [modeling](https://github.com/hadley/modelr)."
   ]
  },
  {
   "cell_type": "markdown",
   "metadata": {},
   "source": [
    "*Copyright &copy; 2016 The Data Incubator.  All rights reserved.*"
   ]
  },
  {
   "cell_type": "code",
   "execution_count": null,
   "metadata": {
    "collapsed": true
   },
   "outputs": [],
   "source": []
  }
 ],
 "metadata": {
  "kernelspec": {
   "display_name": "R",
   "language": "R",
   "name": "ir"
  },
  "language_info": {
   "codemirror_mode": "r",
   "file_extension": ".r",
   "mimetype": "text/x-r-source",
   "name": "R",
   "pygments_lexer": "r",
   "version": "3.3.1"
  }
 },
 "nbformat": 4,
 "nbformat_minor": 1
}
