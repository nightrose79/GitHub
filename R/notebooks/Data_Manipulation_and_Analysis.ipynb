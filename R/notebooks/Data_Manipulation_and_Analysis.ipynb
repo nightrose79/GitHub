{
 "cells": [
  {
   "cell_type": "markdown",
   "metadata": {},
   "source": [
    "# Data Manipulation and Analysis\n",
    "\n",
    "Exploring data in R is an important part of most workflows and is one of the strengths of the language. Python's Pandas and other similar structures were inspired by R's data frames. Here we'll use many features of the ubiquitous library [dplyr](https://github.com/hadley/dplyr) to showcase the variety of options available.\n",
    "\n",
    "Dplyr defines a \"grammar of data manipulation\" which structures operations (verbs) and objects (nouns) consistently to allow for flexible and interchangable commands.\n",
    "\n",
    "We'll focus especially on some of the most common verbs:\n",
    "* Select\n",
    "* Filter\n",
    "* Mutate\n",
    "* Summarise\n",
    "* Arrange\n",
    "* Do"
   ]
  },
  {
   "cell_type": "code",
   "execution_count": null,
   "metadata": {
    "collapsed": false
   },
   "outputs": [],
   "source": [
    "library(dplyr)"
   ]
  },
  {
   "cell_type": "code",
   "execution_count": null,
   "metadata": {
    "collapsed": true
   },
   "outputs": [],
   "source": [
    "library(ggplot2)"
   ]
  },
  {
   "cell_type": "code",
   "execution_count": null,
   "metadata": {
    "collapsed": false
   },
   "outputs": [],
   "source": [
    "data()"
   ]
  },
  {
   "cell_type": "code",
   "execution_count": null,
   "metadata": {
    "collapsed": false
   },
   "outputs": [],
   "source": [
    "df <- airquality"
   ]
  },
  {
   "cell_type": "code",
   "execution_count": null,
   "metadata": {
    "collapsed": false
   },
   "outputs": [],
   "source": [
    "str(df)"
   ]
  },
  {
   "cell_type": "code",
   "execution_count": null,
   "metadata": {
    "collapsed": false
   },
   "outputs": [],
   "source": [
    "glimpse(df)"
   ]
  },
  {
   "cell_type": "markdown",
   "metadata": {},
   "source": [
    "All verbs take a data frame as input and output a data frame. This combined with R's functional nature allows for easy method chaining.\n",
    "\n",
    "In general:\n",
    "* The first argument is a data frame.\n",
    "* The subsequent arguments describe what to do with the data frame. You can refer to columns in the data frame directly without using $."
   ]
  },
  {
   "cell_type": "markdown",
   "metadata": {},
   "source": [
    "## Subsetting"
   ]
  },
  {
   "cell_type": "code",
   "execution_count": null,
   "metadata": {
    "collapsed": false
   },
   "outputs": [],
   "source": [
    "filter(df, Month == 9, Day == 1)"
   ]
  },
  {
   "cell_type": "code",
   "execution_count": null,
   "metadata": {
    "collapsed": false
   },
   "outputs": [],
   "source": [
    "filter(df, Month == 9 & Day == 1)"
   ]
  },
  {
   "cell_type": "code",
   "execution_count": null,
   "metadata": {
    "collapsed": false
   },
   "outputs": [],
   "source": [
    "filter(df, !(Wind > 10 | Temp > 60))"
   ]
  },
  {
   "cell_type": "code",
   "execution_count": null,
   "metadata": {
    "collapsed": false
   },
   "outputs": [],
   "source": [
    "head(filter(df, between(Wind, 10, 11)), 3)"
   ]
  },
  {
   "cell_type": "code",
   "execution_count": null,
   "metadata": {
    "collapsed": true
   },
   "outputs": [],
   "source": []
  },
  {
   "cell_type": "code",
   "execution_count": null,
   "metadata": {
    "collapsed": false
   },
   "outputs": [],
   "source": [
    "head(df, 3)"
   ]
  },
  {
   "cell_type": "code",
   "execution_count": null,
   "metadata": {
    "collapsed": false
   },
   "outputs": [],
   "source": [
    "# Remember to assign the result, dplyr doesn't overwrite data by default\n",
    "newyearsday <- filter(df, Month == 1, Day == 1)"
   ]
  },
  {
   "cell_type": "code",
   "execution_count": null,
   "metadata": {
    "collapsed": false
   },
   "outputs": [],
   "source": [
    "head(filter(df, Wind == 2 * 4), 3)"
   ]
  },
  {
   "cell_type": "code",
   "execution_count": null,
   "metadata": {
    "collapsed": false
   },
   "outputs": [],
   "source": [
    "filter(df, Wind == (sqrt(2) ^ 2) * 4)"
   ]
  },
  {
   "cell_type": "code",
   "execution_count": null,
   "metadata": {
    "collapsed": false
   },
   "outputs": [],
   "source": [
    "head(filter(df, near(Wind, (sqrt(2) ^ 2) * 4)), 3)"
   ]
  },
  {
   "cell_type": "markdown",
   "metadata": {},
   "source": [
    "### NA values"
   ]
  },
  {
   "cell_type": "code",
   "execution_count": null,
   "metadata": {
    "collapsed": false
   },
   "outputs": [],
   "source": [
    "head(filter(df, is.na(Solar.R)), 3)"
   ]
  },
  {
   "cell_type": "markdown",
   "metadata": {},
   "source": [
    "*Questions*:\n",
    "* Is NA ^ 0 missing?\n",
    "* Is NA | TRUE missing?\n",
    "* What about FALSE & NA?\n",
    "* Can you figure out the general rule? (NA * 0 is a tricky counterexample!)"
   ]
  },
  {
   "cell_type": "markdown",
   "metadata": {},
   "source": [
    "### Arrange"
   ]
  },
  {
   "cell_type": "code",
   "execution_count": null,
   "metadata": {
    "collapsed": false
   },
   "outputs": [],
   "source": [
    "head(arrange(df, desc(Month), desc(Day), Temp), 3)"
   ]
  },
  {
   "cell_type": "markdown",
   "metadata": {},
   "source": [
    "### Select"
   ]
  },
  {
   "cell_type": "code",
   "execution_count": null,
   "metadata": {
    "collapsed": false
   },
   "outputs": [],
   "source": [
    "head(select(df, Solar.R, Temp) == select(df, c(Solar.R, Temp)), 5)"
   ]
  },
  {
   "cell_type": "code",
   "execution_count": null,
   "metadata": {
    "collapsed": false
   },
   "outputs": [],
   "source": [
    "head(select(df, -(Month:Day)))"
   ]
  },
  {
   "cell_type": "code",
   "execution_count": null,
   "metadata": {
    "collapsed": false
   },
   "outputs": [],
   "source": [
    "head(rename(df, Solar = Solar.R), 3)"
   ]
  },
  {
   "cell_type": "markdown",
   "metadata": {},
   "source": [
    "*Exercise*: Use startswith(), endswith(), contains(), and matches() to specify columns. Note that matches uses regular expressions for pattern matching."
   ]
  },
  {
   "cell_type": "code",
   "execution_count": null,
   "metadata": {
    "collapsed": true
   },
   "outputs": [],
   "source": []
  },
  {
   "cell_type": "markdown",
   "metadata": {},
   "source": [
    "## Mutating and Transmuting"
   ]
  },
  {
   "cell_type": "code",
   "execution_count": null,
   "metadata": {
    "collapsed": false
   },
   "outputs": [],
   "source": [
    "head(\n",
    "    mutate(df,\n",
    "           knots = 0.868976 * Wind,\n",
    "           celsius = (Temp - 32) * (5/9),\n",
    "           kelvin = celsius + 273.15),\n",
    "    3)"
   ]
  },
  {
   "cell_type": "code",
   "execution_count": null,
   "metadata": {
    "collapsed": false
   },
   "outputs": [],
   "source": [
    "# transmute() works similarly but returns only the derived columns.\n",
    "head(\n",
    "    transmute(filter(df, !is.na(Ozone)),\n",
    "              pct_max_ozone = Ozone / max(Ozone)),\n",
    "    3)"
   ]
  },
  {
   "cell_type": "markdown",
   "metadata": {},
   "source": [
    "*Question*: What happens if we don't filter out NA elements?"
   ]
  },
  {
   "cell_type": "code",
   "execution_count": null,
   "metadata": {
    "collapsed": false
   },
   "outputs": [],
   "source": [
    "filter(mutate(df, new_months = (Month != lag(Month))), new_months == TRUE)"
   ]
  },
  {
   "cell_type": "markdown",
   "metadata": {},
   "source": [
    "...and more! Ranking, rolling aggregates, etc."
   ]
  },
  {
   "cell_type": "markdown",
   "metadata": {},
   "source": [
    "## Grouping, Aggregation, and the Pipe"
   ]
  },
  {
   "cell_type": "code",
   "execution_count": null,
   "metadata": {
    "collapsed": false
   },
   "outputs": [],
   "source": [
    "by_month <- group_by(df, Month)\n",
    "summarise(by_month,\n",
    "          avg_temp = mean(Temp, na.rm = TRUE),\n",
    "          avg_hot_temp = mean(Temp[Temp > 75], na.rm = TRUE),\n",
    "          days = n())\n",
    "# alternatively, sum(!is.na(x)) to count all non-NA values"
   ]
  },
  {
   "cell_type": "code",
   "execution_count": null,
   "metadata": {
    "collapsed": false
   },
   "outputs": [],
   "source": [
    "# Pipelining operations with \"then\"\n",
    "df %>%\n",
    "group_by(Month) %>%\n",
    "summarise(avg_temp = mean(Temp, na.rm = TRUE)) %>%\n",
    "filter(avg_temp > 80)"
   ]
  },
  {
   "cell_type": "code",
   "execution_count": null,
   "metadata": {
    "collapsed": false
   },
   "outputs": [],
   "source": [
    "df %>% summarise(n_distinct(Month))"
   ]
  },
  {
   "cell_type": "code",
   "execution_count": null,
   "metadata": {
    "collapsed": false
   },
   "outputs": [],
   "source": [
    "df %>% group_by(Month, Day) %>% summarise(n()) %>% head(3)"
   ]
  },
  {
   "cell_type": "code",
   "execution_count": null,
   "metadata": {
    "collapsed": false
   },
   "outputs": [],
   "source": [
    "df %>% group_by(Month, Day) %>% summarise(n()) %>% summarise(n()) %>% head(3)"
   ]
  },
  {
   "cell_type": "code",
   "execution_count": null,
   "metadata": {
    "collapsed": false
   },
   "outputs": [],
   "source": [
    "df %>% group_by(Month, Day) %>% ungroup() %>% summarise(n()) %>% head(3)"
   ]
  },
  {
   "cell_type": "code",
   "execution_count": null,
   "metadata": {
    "collapsed": false
   },
   "outputs": [],
   "source": [
    "# What question does this query answer?\n",
    "df %>% \n",
    "  group_by(Month) %>%\n",
    "  filter(rank(desc(Temp)) < 4)"
   ]
  },
  {
   "cell_type": "code",
   "execution_count": null,
   "metadata": {
    "collapsed": false
   },
   "outputs": [],
   "source": [
    "# What question does this query answer?\n",
    "df %>%\n",
    "  group_by(Temp) %>%\n",
    "  filter(n() > 10) %>%\n",
    "  arrange(Month, Day)"
   ]
  },
  {
   "cell_type": "markdown",
   "metadata": {},
   "source": [
    "There are an enormous amount of aggregation functions, including\n",
    "* first(), last()\n",
    "* min(), max(), nth(), quantile()\n",
    "* mean(), median()\n",
    "* sd(x), IQR(x), mad(x)\n",
    "* rank()\n",
    "\n",
    "*Exercise*: For the months we have data for, in how many cases is the windiest day of the month **below** the 25% quantile or **above** the 75% quantile for temperature?"
   ]
  },
  {
   "cell_type": "markdown",
   "metadata": {},
   "source": [
    "## Joins"
   ]
  },
  {
   "cell_type": "code",
   "execution_count": null,
   "metadata": {
    "collapsed": false
   },
   "outputs": [],
   "source": [
    "month_nums <- df %>% distinct(Month) %>% arrange(Month)\n",
    "print(month_nums)"
   ]
  },
  {
   "cell_type": "code",
   "execution_count": null,
   "metadata": {
    "collapsed": false
   },
   "outputs": [],
   "source": [
    "month_names <- c('May', 'June', 'July', 'August', 'September')\n",
    "months <- data.frame(month_nums, month_names)\n",
    "glimpse(months)"
   ]
  },
  {
   "cell_type": "code",
   "execution_count": null,
   "metadata": {
    "collapsed": false
   },
   "outputs": [],
   "source": [
    "joined_df <- inner_join(df, months)"
   ]
  },
  {
   "cell_type": "code",
   "execution_count": null,
   "metadata": {
    "collapsed": false
   },
   "outputs": [],
   "source": [
    "joined_df %>% group_by(Month) %>% summarise(name = first(month_names))"
   ]
  },
  {
   "cell_type": "markdown",
   "metadata": {},
   "source": [
    "*Question*: When would you not want to perform an inner join?\n",
    "\n",
    "*Note*: semi_join and anti_join are available for filtering joins on observations."
   ]
  },
  {
   "cell_type": "code",
   "execution_count": null,
   "metadata": {
    "collapsed": false
   },
   "outputs": [],
   "source": [
    "joined_df %>%\n",
    "  semi_join(joined_df %>% filter(Day == 31) %>% select(Day))"
   ]
  },
  {
   "cell_type": "markdown",
   "metadata": {},
   "source": [
    "## Summarise() and join\n",
    "Summarise() drops unused columns, and returns summary values. Sometimes, you want add back some columns, for which left_join() is very useful."
   ]
  },
  {
   "cell_type": "code",
   "execution_count": null,
   "metadata": {
    "collapsed": false
   },
   "outputs": [],
   "source": [
    "# summarise() only keeps necessary columns...\n",
    "joined_df %>%\n",
    "    group_by(Month) %>%\n",
    "    summarise(mean_temp=mean(Temp)) %>% head"
   ]
  },
  {
   "cell_type": "code",
   "execution_count": null,
   "metadata": {
    "collapsed": false
   },
   "outputs": [],
   "source": [
    "# ... therefore, add them back with a left_join\n",
    "joined_df %>%\n",
    "    group_by(Month) %>%\n",
    "    summarise(mean_temp=mean(Temp)) %>%\n",
    "    left_join(., months) %>%                     ## add back the month names \n",
    "    select(Month, month_names, mean_temp)        ## rearrange columns)"
   ]
  },
  {
   "cell_type": "markdown",
   "metadata": {},
   "source": [
    "## Extract columns from a dataframe"
   ]
  },
  {
   "cell_type": "code",
   "execution_count": null,
   "metadata": {
    "collapsed": false
   },
   "outputs": [],
   "source": [
    "# or, use magrittr::extract2\n",
    "joined_df %>% .$month_names"
   ]
  },
  {
   "cell_type": "markdown",
   "metadata": {},
   "source": [
    "## Plotting and Visual Analysis\n",
    "\n",
    "ggplot2 provides a standard and extensible interface for plotting data."
   ]
  },
  {
   "cell_type": "code",
   "execution_count": null,
   "metadata": {
    "collapsed": true
   },
   "outputs": [],
   "source": [
    "june <- df %>% filter(Month == 7) %>% select(Day, Temp, Wind)"
   ]
  },
  {
   "cell_type": "code",
   "execution_count": null,
   "metadata": {
    "collapsed": false
   },
   "outputs": [],
   "source": [
    "ggplot(data = june, mapping = aes(x = Day, y = Temp)) +\n",
    "  geom_point(aes(size = Wind), alpha = 1/3) +\n",
    "  geom_smooth(se = FALSE)"
   ]
  },
  {
   "cell_type": "code",
   "execution_count": null,
   "metadata": {
    "collapsed": true
   },
   "outputs": [],
   "source": [
    "temps = df %>% group_by(Temp) %>% summarise(ozone = mean(Ozone), rad = sd(Solar.R))"
   ]
  },
  {
   "cell_type": "code",
   "execution_count": null,
   "metadata": {
    "collapsed": false
   },
   "outputs": [],
   "source": [
    "ggplot(data = temps, mapping = aes(x = Temp, y = ozone)) + \n",
    "  geom_point(aes(size = rad), alpha = 1/2)"
   ]
  },
  {
   "cell_type": "markdown",
   "metadata": {},
   "source": [
    "We'll talk more about ggplot in the Visualization notebook."
   ]
  },
  {
   "cell_type": "markdown",
   "metadata": {},
   "source": [
    "*Exercise*: Load the nycflights13 dataset as well as the US precipitation dataset. Join the average precipitation data to the flight delays data frame in a way that makes sense, then make a scatterplot of precipitation vs. delay time."
   ]
  },
  {
   "cell_type": "markdown",
   "metadata": {},
   "source": [
    "*Copyright &copy; 2016 The Data Incubator.  All rights reserved.*"
   ]
  }
 ],
 "metadata": {
  "kernelspec": {
   "display_name": "R",
   "language": "R",
   "name": "ir"
  },
  "language_info": {
   "codemirror_mode": "r",
   "file_extension": ".r",
   "mimetype": "text/x-r-source",
   "name": "R",
   "pygments_lexer": "r",
   "version": "3.3.1"
  }
 },
 "nbformat": 4,
 "nbformat_minor": 0
}
