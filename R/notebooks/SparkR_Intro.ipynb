{
 "cells": [
  {
   "cell_type": "markdown",
   "metadata": {},
   "source": [
    "# SparkR\n",
    "\n",
    "Accessing Spark from an R interface.\n",
    "[SIGMOD paper](https://people.csail.mit.edu/matei/papers/2016/sigmod_sparkr.pdf)"
   ]
  },
  {
   "cell_type": "code",
   "execution_count": 5,
   "metadata": {
    "collapsed": false
   },
   "outputs": [
    {
     "name": "stderr",
     "output_type": "stream",
     "text": [
      "\n",
      "Attaching package: ‘SparkR’\n",
      "\n",
      "The following objects are masked from ‘package:stats’:\n",
      "\n",
      "    cov, filter, lag, na.omit, predict, sd, var, window\n",
      "\n",
      "The following objects are masked from ‘package:base’:\n",
      "\n",
      "    as.data.frame, colnames, colnames<-, drop, endsWith, intersect,\n",
      "    rank, rbind, sample, startsWith, subset, summary, transform, union\n",
      "\n"
     ]
    },
    {
     "name": "stdout",
     "output_type": "stream",
     "text": [
      "Launching java with spark-submit command /etc/spark/bin/spark-submit   --driver-memory \"2g\" sparkr-shell /tmp/Rtmp1KfiOV/backend_port41f961d00307 \n"
     ]
    },
    {
     "data": {
      "text/plain": [
       "Java ref type org.apache.spark.sql.SparkSession id 1 "
      ]
     },
     "metadata": {},
     "output_type": "display_data"
    }
   ],
   "source": [
    "library(SparkR, lib.loc = c(file.path(Sys.getenv(\"SPARK_HOME\"), \"R\", \"lib\")))\n",
    "sparkR.session(master = \"local[*]\", sparkConfig = list(spark.driver.memory = \"2g\"))"
   ]
  },
  {
   "cell_type": "code",
   "execution_count": 6,
   "metadata": {
    "collapsed": true
   },
   "outputs": [],
   "source": [
    "library(ggplot2)"
   ]
  },
  {
   "cell_type": "code",
   "execution_count": null,
   "metadata": {
    "collapsed": true
   },
   "outputs": [],
   "source": [
    "df1 <- as.DataFrame(faithful)"
   ]
  },
  {
   "cell_type": "code",
   "execution_count": null,
   "metadata": {
    "collapsed": false
   },
   "outputs": [],
   "source": [
    "system.time(printSchema(df1))"
   ]
  },
  {
   "cell_type": "code",
   "execution_count": null,
   "metadata": {
    "collapsed": false
   },
   "outputs": [],
   "source": [
    "df <- read.df(\"small_data/stackexchange/responses.csv\", \"csv\", header = \"true\", inferSchema = \"true\", na.strings = \"NA\")"
   ]
  },
  {
   "cell_type": "code",
   "execution_count": null,
   "metadata": {
    "collapsed": false
   },
   "outputs": [],
   "source": [
    "printSchema(df)"
   ]
  },
  {
   "cell_type": "code",
   "execution_count": null,
   "metadata": {
    "collapsed": false
   },
   "outputs": [],
   "source": [
    "head(df)"
   ]
  },
  {
   "cell_type": "code",
   "execution_count": null,
   "metadata": {
    "collapsed": false
   },
   "outputs": [],
   "source": [
    "head(select(df, \"self_identification\"))"
   ]
  },
  {
   "cell_type": "code",
   "execution_count": null,
   "metadata": {
    "collapsed": false
   },
   "outputs": [],
   "source": [
    "head(select(filter(df, df$collector != \"Facebook\"), df$self_identification))"
   ]
  },
  {
   "cell_type": "code",
   "execution_count": null,
   "metadata": {
    "collapsed": false
   },
   "outputs": [],
   "source": [
    "?summary"
   ]
  },
  {
   "cell_type": "code",
   "execution_count": null,
   "metadata": {
    "collapsed": false
   },
   "outputs": [],
   "source": [
    "summary(df)"
   ]
  },
  {
   "cell_type": "code",
   "execution_count": null,
   "metadata": {
    "collapsed": false
   },
   "outputs": [],
   "source": [
    "collect(summary(df))"
   ]
  },
  {
   "cell_type": "code",
   "execution_count": null,
   "metadata": {
    "collapsed": false
   },
   "outputs": [],
   "source": [
    "collect(select(summary(df), \"summary\", \"salary_midpoint\"))"
   ]
  },
  {
   "cell_type": "markdown",
   "metadata": {},
   "source": [
    "### Aggregation functions\n",
    "\n",
    "* avg\n",
    "* min\n",
    "* max\n",
    "* sum\n",
    "* countDistinct\n",
    "* sumDistinct"
   ]
  },
  {
   "cell_type": "code",
   "execution_count": null,
   "metadata": {
    "collapsed": false
   },
   "outputs": [],
   "source": [
    "collect(select(df, avg(df$salary_midpoint)))"
   ]
  },
  {
   "cell_type": "markdown",
   "metadata": {},
   "source": [
    "### Ordering"
   ]
  },
  {
   "cell_type": "code",
   "execution_count": null,
   "metadata": {
    "collapsed": false
   },
   "outputs": [],
   "source": [
    "head(arrange(select(df, \"country\", \"age_range\", \"salary_range\"), desc(df$salary_midpoint)))"
   ]
  },
  {
   "cell_type": "markdown",
   "metadata": {},
   "source": [
    "### Filtering"
   ]
  },
  {
   "cell_type": "code",
   "execution_count": null,
   "metadata": {
    "collapsed": false
   },
   "outputs": [],
   "source": [
    "sals <- select(df, \"salary_midpoint\", \"age_range\")"
   ]
  },
  {
   "cell_type": "code",
   "execution_count": null,
   "metadata": {
    "collapsed": false
   },
   "outputs": [],
   "source": [
    "head(sals)"
   ]
  },
  {
   "cell_type": "code",
   "execution_count": null,
   "metadata": {
    "collapsed": false
   },
   "outputs": [],
   "source": [
    "sals <- filter(sals, \"salary_midpoint > 0 and age_range != 'NA'\")"
   ]
  },
  {
   "cell_type": "code",
   "execution_count": null,
   "metadata": {
    "collapsed": false
   },
   "outputs": [],
   "source": [
    "head(sals)"
   ]
  },
  {
   "cell_type": "markdown",
   "metadata": {},
   "source": [
    "### Grouping\n",
    "\n",
    "Combine groupby with aggregation or summary."
   ]
  },
  {
   "cell_type": "code",
   "execution_count": null,
   "metadata": {
    "collapsed": false
   },
   "outputs": [],
   "source": [
    "age_groups <- agg(\n",
    "    groupBy(sals, \"age_range\"), \n",
    "    number = n(sals$salary_midpoint),\n",
    "    avg_sal = avg(sals$salary_midpoint), \n",
    "    max_sal = max(sals$salary_midpoint),\n",
    "    min_sal = min(sals$salary_midpoint)\n",
    ")"
   ]
  },
  {
   "cell_type": "code",
   "execution_count": null,
   "metadata": {
    "collapsed": false
   },
   "outputs": [],
   "source": [
    "age_df <- collect(age_groups)\n",
    "age_df"
   ]
  },
  {
   "cell_type": "code",
   "execution_count": null,
   "metadata": {
    "collapsed": false
   },
   "outputs": [],
   "source": [
    "sorted_age_df <- collect(arrange(age_groups, asc(age_groups$age_range)))\n",
    "sorted_age_df"
   ]
  },
  {
   "cell_type": "code",
   "execution_count": null,
   "metadata": {
    "collapsed": false
   },
   "outputs": [],
   "source": [
    "str(age_groups)"
   ]
  },
  {
   "cell_type": "code",
   "execution_count": null,
   "metadata": {
    "collapsed": true
   },
   "outputs": [],
   "source": [
    "?factor"
   ]
  },
  {
   "cell_type": "code",
   "execution_count": null,
   "metadata": {
    "collapsed": false
   },
   "outputs": [],
   "source": [
    "ages_vec <- sort(unique(collect(sals)$age_range))\n",
    "ages_vec"
   ]
  },
  {
   "cell_type": "code",
   "execution_count": null,
   "metadata": {
    "collapsed": true
   },
   "outputs": [],
   "source": [
    "sals$age_range <- factor(\n",
    "    x=sals$age_range, \n",
    "    levels=ages_vec\n",
    ")"
   ]
  },
  {
   "cell_type": "code",
   "execution_count": null,
   "metadata": {
    "collapsed": false
   },
   "outputs": [],
   "source": [
    "str(sals)"
   ]
  },
  {
   "cell_type": "code",
   "execution_count": null,
   "metadata": {
    "collapsed": false
   },
   "outputs": [],
   "source": [
    "str(sorted_age_df)"
   ]
  },
  {
   "cell_type": "code",
   "execution_count": null,
   "metadata": {
    "collapsed": false
   },
   "outputs": [],
   "source": [
    "sorted_age_df$age_range <- factor(\n",
    "    sorted_age_df$age_range,\n",
    "    ages_vec\n",
    ")\n",
    "str(sorted_age_df)"
   ]
  },
  {
   "cell_type": "code",
   "execution_count": null,
   "metadata": {
    "collapsed": false
   },
   "outputs": [],
   "source": [
    "resorted_age_df <- sorted_age_df[order(sorted_age_df$age_range),]\n",
    "resorted_age_df\n",
    "# of course, if we were using dplyr we could use the same \"arrange\" syntax..."
   ]
  },
  {
   "cell_type": "code",
   "execution_count": null,
   "metadata": {
    "collapsed": false
   },
   "outputs": [],
   "source": [
    "plot <- ggplot(data = head(resorted_age_df, -1), aes(x=age_range, y=avg_sal, group=1))\n",
    "plot + geom_line() + geom_point() + ylab(\"Average salary\") +xlab(\"Age range\")"
   ]
  },
  {
   "cell_type": "markdown",
   "metadata": {},
   "source": [
    "## Selecting using R and SQL"
   ]
  },
  {
   "cell_type": "code",
   "execution_count": null,
   "metadata": {
    "collapsed": false
   },
   "outputs": [],
   "source": [
    "head(select(sals, sals$salary_midpoint / 1000))"
   ]
  },
  {
   "cell_type": "code",
   "execution_count": null,
   "metadata": {
    "collapsed": false
   },
   "outputs": [],
   "source": [
    "head(selectExpr(sals, \"(salary_midpoint / 1000) as Salary_K\"))"
   ]
  },
  {
   "cell_type": "code",
   "execution_count": null,
   "metadata": {
    "collapsed": true
   },
   "outputs": [],
   "source": [
    "createOrReplaceTempView(df, \"data\")"
   ]
  },
  {
   "cell_type": "code",
   "execution_count": null,
   "metadata": {
    "collapsed": true
   },
   "outputs": [],
   "source": [
    "highpaid <- sql(\"select occupation, star_wars_vs_star_trek from data where salary_midpoint > 200000 and star_wars_vs_star_trek != 'NA'\")"
   ]
  },
  {
   "cell_type": "code",
   "execution_count": null,
   "metadata": {
    "collapsed": false
   },
   "outputs": [],
   "source": [
    "head(highpaid)"
   ]
  },
  {
   "cell_type": "code",
   "execution_count": null,
   "metadata": {
    "collapsed": false
   },
   "outputs": [],
   "source": [
    "head(subset(df, df$salary_midpoint > 200000, c(\"occupation\", \"age_range\")))"
   ]
  },
  {
   "cell_type": "markdown",
   "metadata": {},
   "source": [
    "Some other familiar operations to try:\n",
    "* nrow, ncol\n",
    "* rbind, cbind"
   ]
  },
  {
   "cell_type": "code",
   "execution_count": null,
   "metadata": {
    "collapsed": false
   },
   "outputs": [],
   "source": [
    "c <- ggplot(data=collect(df), aes(x=factor(age_range)))"
   ]
  },
  {
   "cell_type": "markdown",
   "metadata": {},
   "source": [
    "*Question:* Why do we need to collect?"
   ]
  },
  {
   "cell_type": "code",
   "execution_count": null,
   "metadata": {
    "collapsed": false
   },
   "outputs": [],
   "source": [
    "c + geom_bar() + xlab(\"Age\")"
   ]
  },
  {
   "cell_type": "markdown",
   "metadata": {
    "collapsed": true
   },
   "source": [
    "## Modeling"
   ]
  },
  {
   "cell_type": "code",
   "execution_count": 7,
   "metadata": {
    "collapsed": false
   },
   "outputs": [],
   "source": [
    "titanic <- as.data.frame(Titanic)"
   ]
  },
  {
   "cell_type": "code",
   "execution_count": 8,
   "metadata": {
    "collapsed": false
   },
   "outputs": [],
   "source": [
    "titanicDF <- createDataFrame(titanic[titanic$Freq > 0, -5])\n",
    "nbDF <- titanicDF\n",
    "nbTestDF <- titanicDF"
   ]
  },
  {
   "cell_type": "code",
   "execution_count": 13,
   "metadata": {
    "collapsed": false
   },
   "outputs": [
    {
     "data": {
      "text/html": [
       "<table>\n",
       "<thead><tr><th scope=col>Class</th><th scope=col>Sex</th><th scope=col>Age</th><th scope=col>Survived</th></tr></thead>\n",
       "<tbody>\n",
       "\t<tr><td>3rd   </td><td>Male  </td><td>Child </td><td>No    </td></tr>\n",
       "\t<tr><td>3rd   </td><td>Female</td><td>Child </td><td>No    </td></tr>\n",
       "\t<tr><td>1st   </td><td>Male  </td><td>Adult </td><td>No    </td></tr>\n",
       "\t<tr><td>2nd   </td><td>Male  </td><td>Adult </td><td>No    </td></tr>\n",
       "\t<tr><td>3rd   </td><td>Male  </td><td>Adult </td><td>No    </td></tr>\n",
       "\t<tr><td>Crew  </td><td>Male  </td><td>Adult </td><td>No    </td></tr>\n",
       "</tbody>\n",
       "</table>\n"
      ],
      "text/latex": [
       "\\begin{tabular}{r|llll}\n",
       " Class & Sex & Age & Survived\\\\\n",
       "\\hline\n",
       "\t 3rd    & Male   & Child  & No    \\\\\n",
       "\t 3rd    & Female & Child  & No    \\\\\n",
       "\t 1st    & Male   & Adult  & No    \\\\\n",
       "\t 2nd    & Male   & Adult  & No    \\\\\n",
       "\t 3rd    & Male   & Adult  & No    \\\\\n",
       "\t Crew   & Male   & Adult  & No    \\\\\n",
       "\\end{tabular}\n"
      ],
      "text/plain": [
       "  Class Sex    Age   Survived\n",
       "1 3rd   Male   Child No      \n",
       "2 3rd   Female Child No      \n",
       "3 1st   Male   Adult No      \n",
       "4 2nd   Male   Adult No      \n",
       "5 3rd   Male   Adult No      \n",
       "6 Crew  Male   Adult No      "
      ]
     },
     "metadata": {},
     "output_type": "display_data"
    }
   ],
   "source": [
    "head(titanicDF)"
   ]
  },
  {
   "cell_type": "code",
   "execution_count": 14,
   "metadata": {
    "collapsed": true
   },
   "outputs": [],
   "source": [
    "nbModel <- spark.naiveBayes(nbDF, Survived ~ Class + Sex + Age)"
   ]
  },
  {
   "cell_type": "code",
   "execution_count": 15,
   "metadata": {
    "collapsed": false
   },
   "outputs": [
    {
     "data": {
      "text/html": [
       "<dl>\n",
       "\t<dt>$apriori</dt>\n",
       "\t\t<dd><table>\n",
       "<thead><tr><th scope=col>Yes</th><th scope=col>No</th></tr></thead>\n",
       "<tbody>\n",
       "\t<tr><td>0.5769231</td><td>0.4230769</td></tr>\n",
       "</tbody>\n",
       "</table>\n",
       "</dd>\n",
       "\t<dt>$tables</dt>\n",
       "\t\t<dd><table>\n",
       "<thead><tr><th></th><th scope=col>Class_3rd</th><th scope=col>Class_1st</th><th scope=col>Class_2nd</th><th scope=col>Sex_Male</th><th scope=col>Age_Adult</th></tr></thead>\n",
       "<tbody>\n",
       "\t<tr><th scope=row>Yes</th><td>0.3125</td><td>0.3125</td><td>0.3125</td><td>0.5   </td><td>0.5625</td></tr>\n",
       "\t<tr><th scope=row>No</th><td>0.4166667</td><td>0.25     </td><td>0.25     </td><td>0.5      </td><td>0.75     </td></tr>\n",
       "</tbody>\n",
       "</table>\n",
       "</dd>\n",
       "</dl>\n"
      ],
      "text/latex": [
       "\\begin{description}\n",
       "\\item[\\$apriori] \\begin{tabular}{ll}\n",
       " Yes & No\\\\\n",
       "\\hline\n",
       "\t 0.5769231 & 0.4230769\\\\\n",
       "\\end{tabular}\n",
       "\n",
       "\\item[\\$tables] \\begin{tabular}{r|lllll}\n",
       "  & Class\\_3rd & Class\\_1st & Class\\_2nd & Sex\\_Male & Age\\_Adult\\\\\n",
       "\\hline\n",
       "\tYes & 0.3125 & 0.3125 & 0.3125 & 0.5    & 0.5625\\\\\n",
       "\tNo & 0.4166667 & 0.25      & 0.25      & 0.5       & 0.75     \\\\\n",
       "\\end{tabular}\n",
       "\n",
       "\\end{description}\n"
      ],
      "text/markdown": [
       "$apriori\n",
       ":   1. 0.576923076923077\n",
       "2. 0.423076923076923\n",
       "\n",
       "\n",
       "\n",
       "$tables\n",
       ":   1. 0.3125\n",
       "2. 0.416666666666667\n",
       "3. 0.3125\n",
       "4. 0.25\n",
       "5. 0.3125\n",
       "6. 0.25\n",
       "7. 0.5\n",
       "8. 0.5\n",
       "9. 0.5625\n",
       "10. 0.75\n",
       "\n",
       "\n",
       "\n",
       "\n",
       "\n"
      ],
      "text/plain": [
       "$apriori\n",
       "           Yes        No\n",
       "[1,] 0.5769231 0.4230769\n",
       "\n",
       "$tables\n",
       "    Class_3rd Class_1st Class_2nd Sex_Male Age_Adult\n",
       "Yes 0.3125    0.3125    0.3125    0.5      0.5625   \n",
       "No  0.4166667 0.25      0.25      0.5      0.75     \n"
      ]
     },
     "metadata": {},
     "output_type": "display_data"
    }
   ],
   "source": [
    "summary(nbModel)"
   ]
  },
  {
   "cell_type": "code",
   "execution_count": 16,
   "metadata": {
    "collapsed": false
   },
   "outputs": [
    {
     "name": "stdout",
     "output_type": "stream",
     "text": [
      "+-----+------+-----+--------+-----+--------------------+--------------------+----------+\n",
      "|Class|   Sex|  Age|Survived|label|       rawPrediction|         probability|prediction|\n",
      "+-----+------+-----+--------+-----+--------------------+--------------------+----------+\n",
      "|  3rd|  Male|Child|      No|  1.0|[-3.9824097993521...|[0.60062402496099...|       Yes|\n",
      "|  3rd|Female|Child|      No|  1.0|[-3.9824097993521...|[0.60062402496099...|       Yes|\n",
      "|  1st|  Male|Adult|      No|  1.0|[-3.7310953710712...|[0.58003280993672...|       Yes|\n",
      "|  2nd|  Male|Adult|      No|  1.0|[-3.7310953710712...|[0.58003280993672...|       Yes|\n",
      "|  3rd|  Male|Adult|      No|  1.0|[-3.7310953710712...|[0.39192399049881...|        No|\n",
      "| Crew|  Male|Adult|      No|  1.0|[-2.9426380107070...|[0.50318824507901...|       Yes|\n",
      "|  1st|Female|Adult|      No|  1.0|[-3.7310953710712...|[0.58003280993672...|       Yes|\n",
      "|  2nd|Female|Adult|      No|  1.0|[-3.7310953710712...|[0.58003280993672...|       Yes|\n",
      "|  3rd|Female|Adult|      No|  1.0|[-3.7310953710712...|[0.39192399049881...|        No|\n",
      "| Crew|Female|Adult|      No|  1.0|[-2.9426380107070...|[0.50318824507901...|       Yes|\n",
      "|  1st|  Male|Child|     Yes|  0.0|[-3.9824097993521...|[0.76318223866790...|       Yes|\n",
      "|  2nd|  Male|Child|     Yes|  0.0|[-3.9824097993521...|[0.76318223866790...|       Yes|\n",
      "|  3rd|  Male|Child|     Yes|  0.0|[-3.9824097993521...|[0.60062402496099...|       Yes|\n",
      "|  1st|Female|Child|     Yes|  0.0|[-3.9824097993521...|[0.76318223866790...|       Yes|\n",
      "|  2nd|Female|Child|     Yes|  0.0|[-3.9824097993521...|[0.76318223866790...|       Yes|\n",
      "|  3rd|Female|Child|     Yes|  0.0|[-3.9824097993521...|[0.60062402496099...|       Yes|\n",
      "|  1st|  Male|Adult|     Yes|  0.0|[-3.7310953710712...|[0.58003280993672...|       Yes|\n",
      "|  2nd|  Male|Adult|     Yes|  0.0|[-3.7310953710712...|[0.58003280993672...|       Yes|\n",
      "|  3rd|  Male|Adult|     Yes|  0.0|[-3.7310953710712...|[0.39192399049881...|        No|\n",
      "| Crew|  Male|Adult|     Yes|  0.0|[-2.9426380107070...|[0.50318824507901...|       Yes|\n",
      "+-----+------+-----+--------+-----+--------------------+--------------------+----------+\n",
      "only showing top 20 rows\n"
     ]
    }
   ],
   "source": [
    "nbPredictions <- predict(nbModel, nbTestDF)\n",
    "showDF(nbPredictions)"
   ]
  },
  {
   "cell_type": "markdown",
   "metadata": {},
   "source": [
    "More examples can be found on [GitHub](https://github.com/apache/spark/blob/master/examples/src/main/r/ml.R)."
   ]
  },
  {
   "cell_type": "markdown",
   "metadata": {},
   "source": [
    "*Copyright &copy; 2016 The Data Incubator.  All rights reserved.*"
   ]
  }
 ],
 "metadata": {
  "kernelspec": {
   "display_name": "R",
   "language": "R",
   "name": "ir"
  },
  "language_info": {
   "codemirror_mode": "r",
   "file_extension": ".r",
   "mimetype": "text/x-r-source",
   "name": "R",
   "pygments_lexer": "r",
   "version": "3.3.1"
  }
 },
 "nbformat": 4,
 "nbformat_minor": 0
}
