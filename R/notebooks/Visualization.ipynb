{
 "cells": [
  {
   "cell_type": "markdown",
   "metadata": {
    "collapsed": true
   },
   "source": [
    "# Visualization\n",
    "\n",
    "Visualizing data can be a great way of understanding both variance within variables and covariance between variables. A typical workflow consists of:\n",
    "\n",
    "1. Coming up with questions about your data\n",
    "1. Filtering, mutating, and visualizing in different ways\n",
    "1. Refine or generate new questions based on curiosity or skepticism\n",
    "\n",
    "This is a bit like a multi-armed bandit. We can initially explore freely but over time, we want to hone in on promising ideas and refine those for further processing and modeling."
   ]
  },
  {
   "cell_type": "code",
   "execution_count": null,
   "metadata": {
    "collapsed": false
   },
   "outputs": [],
   "source": [
    "library(dplyr)\n",
    "library(ggplot2)"
   ]
  },
  {
   "cell_type": "code",
   "execution_count": null,
   "metadata": {
    "collapsed": false
   },
   "outputs": [],
   "source": [
    "str(anscombe)"
   ]
  },
  {
   "cell_type": "code",
   "execution_count": null,
   "metadata": {
    "collapsed": false
   },
   "outputs": [],
   "source": [
    "summary(anscombe)"
   ]
  },
  {
   "cell_type": "code",
   "execution_count": null,
   "metadata": {
    "collapsed": false
   },
   "outputs": [],
   "source": [
    "ggplot(data = anscombe) +\n",
    "  geom_point(aes(x = x1, y = y1), colour = \"red\") +\n",
    "  geom_point(aes(x = x2, y = y2), colour = \"blue\") +\n",
    "  geom_point(aes(x = x3, y = y3), colour = \"green\") +\n",
    "  geom_point(aes(x = x4, y = y4), colour = \"black\")"
   ]
  },
  {
   "cell_type": "code",
   "execution_count": null,
   "metadata": {
    "collapsed": false
   },
   "outputs": [],
   "source": [
    "library(nycflights13)"
   ]
  },
  {
   "cell_type": "code",
   "execution_count": null,
   "metadata": {
    "collapsed": false
   },
   "outputs": [],
   "source": [
    "str(flights)"
   ]
  },
  {
   "cell_type": "markdown",
   "metadata": {},
   "source": [
    "### Histograms"
   ]
  },
  {
   "cell_type": "code",
   "execution_count": null,
   "metadata": {
    "collapsed": false
   },
   "outputs": [],
   "source": [
    "ggplot(data = flights) +\n",
    "  geom_bar(mapping = aes(x = carrier))"
   ]
  },
  {
   "cell_type": "markdown",
   "metadata": {},
   "source": [
    "*Question*: How would you sort this plot?"
   ]
  },
  {
   "cell_type": "code",
   "execution_count": null,
   "metadata": {
    "collapsed": false
   },
   "outputs": [],
   "source": [
    "ggplot(data = flights) +\n",
    "  geom_histogram(mapping = aes(x = distance), binwidth = 100)"
   ]
  },
  {
   "cell_type": "code",
   "execution_count": null,
   "metadata": {
    "collapsed": false
   },
   "outputs": [],
   "source": [
    "# Use geom.freqpoly if you need to overlay multiple histograms\n",
    "# Why do we have to use factor(month)?\n",
    "ggplot(data = flights) +\n",
    "  geom_freqpoly(mapping = aes(x = distance, color = factor(month)), binwidth = 100)"
   ]
  },
  {
   "cell_type": "code",
   "execution_count": null,
   "metadata": {
    "collapsed": false
   },
   "outputs": [],
   "source": [
    "ggplot(data = flights) +\n",
    "  geom_freqpoly(mapping = aes(x = distance, color = factor(month)), binwidth = 100) +\n",
    "  coord_cartesian(xlim = c(2400, 2600), ylim = c(1000, 2000))"
   ]
  },
  {
   "cell_type": "code",
   "execution_count": null,
   "metadata": {
    "collapsed": false
   },
   "outputs": [],
   "source": [
    "ggplot(data = faithful, mapping = aes(x = eruptions)) + \n",
    "  geom_histogram(binwidth = 0.25)"
   ]
  },
  {
   "cell_type": "markdown",
   "metadata": {},
   "source": [
    "Can you explain the distribution? If not, what steps could you take to explore the relationship?"
   ]
  },
  {
   "cell_type": "code",
   "execution_count": null,
   "metadata": {
    "collapsed": true
   },
   "outputs": [],
   "source": []
  },
  {
   "cell_type": "code",
   "execution_count": null,
   "metadata": {
    "collapsed": false
   },
   "outputs": [],
   "source": [
    "flights %>% \n",
    "  mutate(\n",
    "    cancelled = is.na(dep_time),\n",
    "    sched_hour = sched_dep_time %/% 100,\n",
    "    sched_min = sched_dep_time %% 100,\n",
    "    sched_dep_time = sched_hour + sched_min / 60\n",
    "  ) %>% \n",
    "  ggplot(mapping = aes(sched_dep_time)) + \n",
    "    geom_freqpoly(mapping = aes(colour = cancelled), binwidth = 1/4)"
   ]
  },
  {
   "cell_type": "markdown",
   "metadata": {},
   "source": [
    "### Boxplots\n",
    "\n",
    "Boxplots are a more abstract way of visualizing distributions.\n",
    "They display the 25th, 50th, and 75th percentile, and usually add a whisker that ranges to the farthest non-outlier point.\n",
    "\n",
    "Outlier points greater than 1.5x the IQR (Inter-quartile range) are marked separately which makes them easy to distinguish."
   ]
  },
  {
   "cell_type": "code",
   "execution_count": null,
   "metadata": {
    "collapsed": false
   },
   "outputs": [],
   "source": [
    "ggplot(data = mpg, mapping = aes(x = class, y = hwy)) +\n",
    "  geom_boxplot()"
   ]
  },
  {
   "cell_type": "code",
   "execution_count": null,
   "metadata": {
    "collapsed": false
   },
   "outputs": [],
   "source": [
    "ggplot(data = mpg) +\n",
    "  geom_boxplot(mapping = aes(x = reorder(class, hwy, FUN = median), y = hwy))"
   ]
  },
  {
   "cell_type": "code",
   "execution_count": null,
   "metadata": {
    "collapsed": false
   },
   "outputs": [],
   "source": [
    "ggplot(data = mpg) +\n",
    "  geom_boxplot(mapping = aes(x = reorder(class, hwy, FUN = median), y = hwy)) +\n",
    "  coord_flip()"
   ]
  },
  {
   "cell_type": "code",
   "execution_count": null,
   "metadata": {
    "collapsed": true
   },
   "outputs": [],
   "source": []
  },
  {
   "cell_type": "markdown",
   "metadata": {},
   "source": [
    "### Comparing two discrete values"
   ]
  },
  {
   "cell_type": "code",
   "execution_count": null,
   "metadata": {
    "collapsed": false
   },
   "outputs": [],
   "source": [
    "ggplot(data = diamonds) +\n",
    "  geom_count(mapping = aes(x = cut, y = color))"
   ]
  },
  {
   "cell_type": "code",
   "execution_count": null,
   "metadata": {
    "collapsed": false
   },
   "outputs": [],
   "source": [
    "diamonds %>% \n",
    "  count(color, cut) %>%  \n",
    "  ggplot(mapping = aes(x = color, y = cut)) +\n",
    "    geom_tile(mapping = aes(fill = n))"
   ]
  },
  {
   "cell_type": "code",
   "execution_count": null,
   "metadata": {
    "collapsed": false
   },
   "outputs": [],
   "source": [
    "ggplot(data = flights) + \n",
    "  geom_point(mapping = aes(x = dep_delay, y = arr_delay))"
   ]
  },
  {
   "cell_type": "code",
   "execution_count": null,
   "metadata": {
    "collapsed": false
   },
   "outputs": [],
   "source": [
    "ggplot(data = flights) +\n",
    "  geom_bin2d(mapping = aes(x = arr_delay, y = dep_delay))"
   ]
  },
  {
   "cell_type": "code",
   "execution_count": null,
   "metadata": {
    "collapsed": true
   },
   "outputs": [],
   "source": []
  },
  {
   "cell_type": "markdown",
   "metadata": {},
   "source": [
    "*Note*: Modeling relationships between variables and using that to subtract the residual can help disentangle convolutions."
   ]
  },
  {
   "cell_type": "code",
   "execution_count": null,
   "metadata": {
    "collapsed": false
   },
   "outputs": [],
   "source": [
    "library(lattice)"
   ]
  },
  {
   "cell_type": "markdown",
   "metadata": {},
   "source": [
    "## Lattice\n",
    "\n",
    "Usage: graph_type(formula, data =)\n",
    "\n",
    "* y~x -> scatterplot\n",
    "* z~x*y|A -> 3D scatterplot\n",
    "* z~x*y -> 3D contour plot or wireframe\n",
    "* ~x|A*B -> KDE\n",
    "* ~x -> histogram"
   ]
  },
  {
   "cell_type": "code",
   "execution_count": null,
   "metadata": {
    "collapsed": false
   },
   "outputs": [],
   "source": [
    "str(mtcars)"
   ]
  },
  {
   "cell_type": "code",
   "execution_count": null,
   "metadata": {
    "collapsed": false
   },
   "outputs": [],
   "source": [
    "# create factors with value labels \n",
    "gear_f <- factor(mtcars$gear, levels = c(3,4,5), labels = c(\"3_gears\",\"4_gears\",\"5_gears\")) \n",
    "cyl_f <- factor(mtcars$cyl, levels = c(4,6,8), labels=c(\"4_cyl\",\"6_cyl\",\"8_cyl\")) "
   ]
  },
  {
   "cell_type": "code",
   "execution_count": null,
   "metadata": {
    "collapsed": false
   },
   "outputs": [],
   "source": [
    "mtcars <- mtcars %>%\n",
    "    mutate(gear_f = gear_f,\n",
    "           cyl_f = cyl_f)"
   ]
  },
  {
   "cell_type": "code",
   "execution_count": null,
   "metadata": {
    "collapsed": false
   },
   "outputs": [],
   "source": [
    "mtcars %>% head(3)"
   ]
  },
  {
   "cell_type": "code",
   "execution_count": null,
   "metadata": {
    "collapsed": false
   },
   "outputs": [],
   "source": [
    "splom(mtcars[c(1,3,4,5,6)], main=\"MTCARS Data\")"
   ]
  },
  {
   "cell_type": "code",
   "execution_count": null,
   "metadata": {
    "collapsed": false
   },
   "outputs": [],
   "source": [
    "xyplot(mpg~wt, data = mtcars)"
   ]
  },
  {
   "cell_type": "code",
   "execution_count": null,
   "metadata": {
    "collapsed": false
   },
   "outputs": [],
   "source": [
    "barchart(mpg~wt,\n",
    "         data = mtcars)"
   ]
  },
  {
   "cell_type": "code",
   "execution_count": null,
   "metadata": {
    "collapsed": false
   },
   "outputs": [],
   "source": [
    "xyplot(mpg~wt|gear_f, data = mtcars)"
   ]
  },
  {
   "cell_type": "code",
   "execution_count": null,
   "metadata": {
    "collapsed": false
   },
   "outputs": [],
   "source": [
    "xyplot(mpg~wt|cyl_f*gear_f,\n",
    "    data = mtcars,\n",
    "    main = \"Every combination of conditioning vars\",\n",
    "    ylab = \"MPG\", xlab = \"Weight\")"
   ]
  },
  {
   "cell_type": "code",
   "execution_count": null,
   "metadata": {
    "collapsed": false
   },
   "outputs": [],
   "source": [
    "xyplot(mpg~wt, data = mtcars,\n",
    "       groups = cyl_f,\n",
    "       auto.key = list(columns = 3),\n",
    "       type=c(\"p\",\"g\"))"
   ]
  },
  {
   "cell_type": "code",
   "execution_count": null,
   "metadata": {
    "collapsed": false
   },
   "outputs": [],
   "source": [
    "histogram(~mpg|cyl_f,\n",
    "          data = mtcars)"
   ]
  },
  {
   "cell_type": "code",
   "execution_count": null,
   "metadata": {
    "collapsed": false
   },
   "outputs": [],
   "source": [
    "bwplot(~hp|cyl_f,\n",
    "       data = mtcars)"
   ]
  },
  {
   "cell_type": "markdown",
   "metadata": {},
   "source": [
    "### Kernel Density Estimation\n",
    "\n",
    "A way to essentially estimate a PDF based on smoothing discrete data.\n",
    "\n",
    "* [Michael Lerner's motivation of KDE based on histograms](http://www.mglerner.com/blog/?p=28)"
   ]
  },
  {
   "cell_type": "code",
   "execution_count": null,
   "metadata": {
    "collapsed": false
   },
   "outputs": [],
   "source": [
    "densityplot(~mpg,\n",
    "            data = mtcars)"
   ]
  },
  {
   "cell_type": "code",
   "execution_count": null,
   "metadata": {
    "collapsed": false
   },
   "outputs": [],
   "source": [
    "densityplot(~mpg|cyl_f,\n",
    "            data = mtcars,\n",
    "            layout=c(1,3))"
   ]
  },
  {
   "cell_type": "code",
   "execution_count": null,
   "metadata": {
    "collapsed": true
   },
   "outputs": [],
   "source": [
    "help(lattice)"
   ]
  },
  {
   "cell_type": "code",
   "execution_count": null,
   "metadata": {
    "collapsed": false
   },
   "outputs": [],
   "source": [
    "levelplot(mpg~wt*hp,\n",
    "          data = mtcars)"
   ]
  },
  {
   "cell_type": "code",
   "execution_count": null,
   "metadata": {
    "collapsed": false
   },
   "outputs": [],
   "source": [
    "cloud(mpg~cyl_f*gear_f,\n",
    "      data = mtcars)"
   ]
  },
  {
   "cell_type": "code",
   "execution_count": null,
   "metadata": {
    "collapsed": true
   },
   "outputs": [],
   "source": []
  },
  {
   "cell_type": "markdown",
   "metadata": {
    "collapsed": true
   },
   "source": [
    "## Publishing to the web\n",
    "\n",
    "[ggvis](http://ggvis.rstudio.com/) and [Rcharts](https://ramnathv.github.io/rCharts/) are visualization packages for R that focus publishing to the web.\n",
    "\n",
    "ggvis renders plots in HTML and can plug into Shiny for public interactability.\n",
    "\n",
    "Rcharts focuses on JavaScript and lets you use libraries like NVD3 to create embeddable visualizations."
   ]
  },
  {
   "cell_type": "code",
   "execution_count": null,
   "metadata": {
    "collapsed": true
   },
   "outputs": [],
   "source": []
  },
  {
   "cell_type": "markdown",
   "metadata": {},
   "source": [
    "*Exercise*: Load the iris dataset and explore the distribution of the variables conditioned by the type of flower. Produce some violin plots which illustrate the differences."
   ]
  },
  {
   "cell_type": "markdown",
   "metadata": {},
   "source": [
    "Sources:\n",
    "```\n",
    "* https://www.r-bloggers.com/conditioning-and-grouping-with-lattice-graphics/\n",
    "* http://www.statmethods.net/advgraphs/trellis.html\n",
    "* http://r4ds.had.co.nz/exploratory-data-analysis.html\n",
    "```"
   ]
  },
  {
   "cell_type": "markdown",
   "metadata": {},
   "source": [
    "*Copyright &copy; 2016 The Data Incubator.  All rights reserved.*"
   ]
  }
 ],
 "metadata": {
  "kernelspec": {
   "display_name": "R",
   "language": "R",
   "name": "ir"
  },
  "language_info": {
   "codemirror_mode": "r",
   "file_extension": ".r",
   "mimetype": "text/x-r-source",
   "name": "R",
   "pygments_lexer": "r",
   "version": "3.3.1"
  }
 },
 "nbformat": 4,
 "nbformat_minor": 0
}
