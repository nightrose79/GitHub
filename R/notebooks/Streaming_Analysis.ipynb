{
 "cells": [
  {
   "cell_type": "markdown",
   "metadata": {},
   "source": [
    "## Goals\n",
    "* Ingest data from persistent storage\n",
    "* Explore and manipulate data using RDDs, DataFrames (and SQL), and simple visualization"
   ]
  },
  {
   "cell_type": "code",
   "execution_count": null,
   "metadata": {
    "collapsed": false
   },
   "outputs": [],
   "source": [
    "from pyspark import SparkContext\n",
    "from pyspark.sql import SQLContext\n",
    "\n",
    "from datetime import datetime\n",
    "import json\n",
    "\n",
    "%matplotlib inline\n",
    "import matplotlib.pyplot as plt"
   ]
  },
  {
   "cell_type": "code",
   "execution_count": null,
   "metadata": {
    "collapsed": false
   },
   "outputs": [],
   "source": [
    "spark = SparkContext(\"local[*]\", \"demo\")\n",
    "print spark.version"
   ]
  },
  {
   "cell_type": "code",
   "execution_count": null,
   "metadata": {
    "collapsed": false
   },
   "outputs": [],
   "source": [
    "sqlContext = SQLContext(spark)"
   ]
  },
  {
   "cell_type": "code",
   "execution_count": null,
   "metadata": {
    "collapsed": false
   },
   "outputs": [],
   "source": [
    "# Creating an RDD from data on disk\n",
    "jsonRDD = spark.textFile(\"data/*/part*\", minPartitions = 100)"
   ]
  },
  {
   "cell_type": "code",
   "execution_count": null,
   "metadata": {
    "collapsed": false
   },
   "outputs": [],
   "source": [
    "# Experiment with changing the number of partitions. You can also use transformations like `repartition` or `coalesce`.\n",
    "print jsonRDD.getNumPartitions()"
   ]
  },
  {
   "cell_type": "code",
   "execution_count": null,
   "metadata": {
    "collapsed": false
   },
   "outputs": [],
   "source": [
    "# Open up the UI on port 4040 in another tab\n",
    "print jsonRDD.count()"
   ]
  },
  {
   "cell_type": "code",
   "execution_count": null,
   "metadata": {
    "collapsed": false
   },
   "outputs": [],
   "source": [
    "samples = jsonRDD.take(5)\n",
    "print type(samples[0])\n",
    "print samples[0]"
   ]
  },
  {
   "cell_type": "code",
   "execution_count": null,
   "metadata": {
    "collapsed": false
   },
   "outputs": [],
   "source": [
    "json_sample = json.loads(samples[0])\n",
    "print type(json_sample)"
   ]
  },
  {
   "cell_type": "code",
   "execution_count": null,
   "metadata": {
    "collapsed": false
   },
   "outputs": [],
   "source": [
    "print json.dumps(json_sample, indent=4, sort_keys=True)"
   ]
  },
  {
   "cell_type": "code",
   "execution_count": null,
   "metadata": {
    "collapsed": false
   },
   "outputs": [],
   "source": [
    "# Twitter\n",
    "print json_sample[\"text\"]\n",
    "print json_sample[\"createdAt\"]\n",
    "\n",
    "# Wikipedia\n",
    "# print json_sample[\"comment\"]\n",
    "# print json_sample[\"timestamp\"]"
   ]
  },
  {
   "cell_type": "markdown",
   "metadata": {},
   "source": [
    "Let's look at how we can access individual elements across the entire dataset!"
   ]
  },
  {
   "cell_type": "markdown",
   "metadata": {},
   "source": [
    "## Spark SQL and DataFrames - a convenient abstraction"
   ]
  },
  {
   "cell_type": "code",
   "execution_count": null,
   "metadata": {
    "collapsed": false
   },
   "outputs": [],
   "source": [
    "# Twitter\n",
    "# Creating a DataFrame from data on disk, and registering it in the temporary Hive metastore\n",
    "raw_df = sqlContext.read.json(\"data/*/part-*\").registerTempTable(\"data\")\n",
    "raw_df.filter(raw_df[\"user\"][\"followers_count\"] > 50).select([\"text\", \"favorited\"]).show(5)\n",
    "df = sqlContext.sql(\"SELECT user.lang, COUNT(*) as cnt FROM data GROUP BY user.lang ORDER BY cnt DESC LIMIT 25\")\n",
    "df.show()"
   ]
  },
  {
   "cell_type": "code",
   "execution_count": null,
   "metadata": {
    "collapsed": false
   },
   "outputs": [],
   "source": [
    "# Wikipedia\n",
    "# Creating a DataFrame from data on disk, and registering it in the temporary Hive metastore\n",
    "raw_df = sqlContext.read.json(\"data/*/part-*\")\n",
    "raw_df.filter(raw_df.delta > 50).select([\"channel\", \"page\"]).show(5)\n",
    "raw_df_extra = raw_df.withColumn(\"loc\", raw_df[\"channel\"][2:2]).registerTempTable(\"data\")\n",
    "df = sqlContext.sql(\"SELECT loc, COUNT(*) as cnt FROM data GROUP BY loc ORDER BY cnt DESC LIMIT 25\")\n",
    "df.show()"
   ]
  },
  {
   "cell_type": "markdown",
   "metadata": {},
   "source": [
    "For more complicated operations, pre-defined or user-defined functions may be necessary. You can always drop down to the RDD level for more granular manipulation."
   ]
  },
  {
   "cell_type": "code",
   "execution_count": null,
   "metadata": {
    "collapsed": false
   },
   "outputs": [],
   "source": [
    "# Twitter\n",
    "timestamps = jsonRDD.map(lambda x: json.loads(x)) \\\n",
    "                    .map(lambda x: (x, x[\"createdAt\"])) \\\n",
    "                    .mapValues(lambda x: datetime.strptime(x, \"%b %d, %Y %I:%M:%S %p\")) \\\n",
    "                    .cache()\n",
    "print timestamps.count()"
   ]
  },
  {
   "cell_type": "code",
   "execution_count": null,
   "metadata": {
    "collapsed": false
   },
   "outputs": [],
   "source": [
    "# Wikipedia\n",
    "# Be aware that the following strptime call will ONLY work for timestamps ending in Z (Zulu/UTC time)\n",
    "timestamps = jsonRDD.map(lambda x: json.loads(x)) \\\n",
    "                    .map(lambda x: (x, x[\"timestamp\"])) \\\n",
    "                    .mapValues(lambda x: datetime.strptime(x, \"%Y-%m-%dT%H:%M:%S.%fZ\")) \\\n",
    "                    .cache()\n",
    "print timestamps.count()"
   ]
  },
  {
   "cell_type": "code",
   "execution_count": null,
   "metadata": {
    "collapsed": true
   },
   "outputs": [],
   "source": []
  },
  {
   "cell_type": "markdown",
   "metadata": {},
   "source": [
    "*Note:* Many common transformations work across Spark: on DStreams, DataFrames, and RDDs."
   ]
  },
  {
   "cell_type": "markdown",
   "metadata": {},
   "source": [
    "## Caching and persistence - the key to Spark's speed"
   ]
  },
  {
   "cell_type": "code",
   "execution_count": null,
   "metadata": {
    "collapsed": false
   },
   "outputs": [],
   "source": [
    "timestamps.filter(lambda x: x[1].minute == 57).count()"
   ]
  },
  {
   "cell_type": "code",
   "execution_count": null,
   "metadata": {
    "collapsed": false
   },
   "outputs": [],
   "source": [
    "# A bit easier to read\n",
    "timestamps.filter(lambda (blob, time): time.minute == 58).count()"
   ]
  },
  {
   "cell_type": "code",
   "execution_count": null,
   "metadata": {
    "collapsed": false
   },
   "outputs": [],
   "source": [
    "# Twitter\n",
    "def string_to_boolean_tuple(target, string):\n",
    "    if target in string:\n",
    "        return (1, 1)\n",
    "    else:\n",
    "        return (0, 1)\n",
    "\n",
    "plot_data = timestamps.map(lambda (key, value): (value, key)) \\\n",
    "                      .map(lambda (time, tweet): (time.minute, string_to_boolean_tuple(\"RT\", tweet[\"text\"]))) \\\n",
    "                      .reduceByKey(lambda x, y: (x[0] + y[0], x[1] + y[1])) \\\n",
    "                      .mapValues(lambda (rts, total): 1.0 * rts / total) \\\n",
    "                      .collect()"
   ]
  },
  {
   "cell_type": "code",
   "execution_count": null,
   "metadata": {
    "collapsed": false
   },
   "outputs": [],
   "source": [
    "# Wikipedia\n",
    "def bool_to_boolean_tuple(val):\n",
    "    if val is True:\n",
    "        return (1, 1)\n",
    "    else:\n",
    "        return (0, 1)\n",
    "plot_data = timestamps.map(lambda (key, value): (value, key)) \\\n",
    "                      .map(lambda (time, json): (time.minute, bool_to_boolean_tuple(json[\"isAnonymous\"]))) \\\n",
    "                      .reduceByKey(lambda x, y: (x[0] + y[0], x[1] + y[1])) \\\n",
    "                      .mapValues(lambda (anons, total): 1.0 * anons / total) \\\n",
    "                      .collect()"
   ]
  },
  {
   "cell_type": "markdown",
   "metadata": {},
   "source": [
    "*Note:* Scala makes helper functions like the above easier to write inline, which helps with code readability and succintness. The Python API has less freedom in this regard."
   ]
  },
  {
   "cell_type": "code",
   "execution_count": null,
   "metadata": {
    "collapsed": false
   },
   "outputs": [],
   "source": [
    "print type(plot_data)\n",
    "print len(plot_data)\n",
    "print plot_data[0]\n",
    "x_data = [tup[0] for tup in plot_data]\n",
    "y_data = [tup[1] for tup in plot_data]"
   ]
  },
  {
   "cell_type": "code",
   "execution_count": null,
   "metadata": {
    "collapsed": false
   },
   "outputs": [],
   "source": [
    "plt.plot(x_data, y_data)"
   ]
  },
  {
   "cell_type": "markdown",
   "metadata": {},
   "source": [
    "*Extension:* Perform the same analysis, but directly on the DStream. Note the difference in the Streaming UI."
   ]
  },
  {
   "cell_type": "code",
   "execution_count": null,
   "metadata": {
    "collapsed": true
   },
   "outputs": [],
   "source": [
    "spark.stop()"
   ]
  }
 ],
 "metadata": {
  "kernelspec": {
   "display_name": "Python 2",
   "language": "python",
   "name": "python2"
  },
  "language_info": {
   "codemirror_mode": {
    "name": "ipython",
    "version": 2
   },
   "file_extension": ".py",
   "mimetype": "text/x-python",
   "name": "python",
   "nbconvert_exporter": "python",
   "pygments_lexer": "ipython2",
   "version": "2.7.12"
  }
 },
 "nbformat": 4,
 "nbformat_minor": 0
}
