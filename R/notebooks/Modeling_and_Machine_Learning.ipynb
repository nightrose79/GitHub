{
 "cells": [
  {
   "cell_type": "markdown",
   "metadata": {
    "ein.tags": [
     "worksheet-0"
    ]
   },
   "source": [
    "# Modeling and ML\n",
    "\n",
    "* machine learning workflow with `caret`:\n",
    "    * training/testing splits\n",
    "    * cross-validation\n",
    "    * model fitting\n",
    "* Extracting trained parameters with `broom`"
   ]
  },
  {
   "cell_type": "code",
   "execution_count": 2,
   "metadata": {
    "collapsed": false
   },
   "outputs": [],
   "source": [
    "# essentials\n",
    "library(dplyr)\n",
    "library(ggplot2)\n",
    "\n",
    "inpatient <- readRDS(\"small_data/Medicare_Provider_Charge_Inpatient_DRGALL_FY2014_clean.RDS\")\n",
    "cardiac <- readRDS(\"small_data/inpatient_charges_2014_clean_cardiac_50plus.RDS\")"
   ]
  },
  {
   "cell_type": "markdown",
   "metadata": {
    "collapsed": true
   },
   "source": [
    "# 1. Caret: machine learning in R"
   ]
  },
  {
   "cell_type": "markdown",
   "metadata": {},
   "source": [
    "The caret package includes useful functions for creating machine learning pipelines (train/test splits, model fitting, and cross-validation)."
   ]
  },
  {
   "cell_type": "markdown",
   "metadata": {},
   "source": [
    "## Caret: concepts"
   ]
  },
  {
   "cell_type": "code",
   "execution_count": 3,
   "metadata": {
    "collapsed": false
   },
   "outputs": [
    {
     "name": "stderr",
     "output_type": "stream",
     "text": [
      "Loading required package: lattice\n"
     ]
    }
   ],
   "source": [
    "library(caret)"
   ]
  },
  {
   "cell_type": "code",
   "execution_count": 4,
   "metadata": {
    "collapsed": true
   },
   "outputs": [],
   "source": [
    "myvars <- c(\"Average.Total.Payments\", \"Provider.State\", \"Total.Discharges\")\n",
    "df <- cardiac %>% select_(.dots = myvars) %>% filter(Provider.State %in% c(\"DC\", \"MD\", \"VA\"))"
   ]
  },
  {
   "cell_type": "code",
   "execution_count": 5,
   "metadata": {
    "collapsed": false
   },
   "outputs": [
    {
     "data": {
      "text/html": [
       "<ol class=list-inline>\n",
       "\t<li>1097</li>\n",
       "\t<li>3</li>\n",
       "</ol>\n"
      ],
      "text/latex": [
       "\\begin{enumerate*}\n",
       "\\item 1097\n",
       "\\item 3\n",
       "\\end{enumerate*}\n"
      ],
      "text/markdown": [
       "1. 1097\n",
       "2. 3\n",
       "\n",
       "\n"
      ],
      "text/plain": [
       "[1] 1097    3"
      ]
     },
     "metadata": {},
     "output_type": "display_data"
    }
   ],
   "source": [
    "df %>% dim"
   ]
  },
  {
   "cell_type": "markdown",
   "metadata": {},
   "source": [
    "### Obtain train-test splits"
   ]
  },
  {
   "cell_type": "code",
   "execution_count": 6,
   "metadata": {
    "collapsed": false
   },
   "outputs": [],
   "source": [
    "## it uses Y to preserve class distributions\n",
    "split <- createDataPartition(y=df$Average.Total.Payments,\n",
    "                             p=0.80,\n",
    "                             list=FALSE)\n",
    "\n",
    "train <- df[split,]\n",
    "test <- df[-split,]"
   ]
  },
  {
   "cell_type": "code",
   "execution_count": 7,
   "metadata": {
    "collapsed": true
   },
   "outputs": [],
   "source": [
    "?createDataPartition"
   ]
  },
  {
   "cell_type": "code",
   "execution_count": 8,
   "metadata": {
    "collapsed": false
   },
   "outputs": [
    {
     "data": {
      "text/html": [
       "<ol class=list-inline>\n",
       "\t<li>880</li>\n",
       "\t<li>3</li>\n",
       "</ol>\n"
      ],
      "text/latex": [
       "\\begin{enumerate*}\n",
       "\\item 880\n",
       "\\item 3\n",
       "\\end{enumerate*}\n"
      ],
      "text/markdown": [
       "1. 880\n",
       "2. 3\n",
       "\n",
       "\n"
      ],
      "text/plain": [
       "[1] 880   3"
      ]
     },
     "metadata": {},
     "output_type": "display_data"
    }
   ],
   "source": [
    "train %>% dim"
   ]
  },
  {
   "cell_type": "markdown",
   "metadata": {},
   "source": [
    "### Preprocessing data by scaling"
   ]
  },
  {
   "cell_type": "code",
   "execution_count": 9,
   "metadata": {
    "collapsed": false
   },
   "outputs": [
    {
     "data": {
      "text/plain": [
       "Created from 880 samples and 3 variables\n",
       "\n",
       "Pre-processing:\n",
       "  - centered (2)\n",
       "  - ignored (1)\n",
       "  - scaled (2)\n"
      ]
     },
     "metadata": {},
     "output_type": "display_data"
    }
   ],
   "source": [
    "# the pre-processing 'method'...\n",
    "process <- preProcess(train, method = c(\"center\", \"scale\"))\n",
    "process"
   ]
  },
  {
   "cell_type": "code",
   "execution_count": 10,
   "metadata": {
    "collapsed": false
   },
   "outputs": [
    {
     "data": {
      "text/html": [
       "<table>\n",
       "<thead><tr><th scope=col>Average.Total.Payments</th><th scope=col>Provider.State</th><th scope=col>Total.Discharges</th></tr></thead>\n",
       "<tbody>\n",
       "\t<tr><td>3.225056  </td><td>DC        </td><td> 2.2024801</td></tr>\n",
       "\t<tr><td>4.863915  </td><td>MD        </td><td>-0.6229644</td></tr>\n",
       "\t<tr><td>4.303953  </td><td>MD        </td><td>-0.1882806</td></tr>\n",
       "\t<tr><td>2.725234  </td><td>MD        </td><td>-0.4056225</td></tr>\n",
       "\t<tr><td>3.361615  </td><td>MD        </td><td>-0.7678590</td></tr>\n",
       "\t<tr><td>2.886824  </td><td>VA        </td><td> 0.5361923</td></tr>\n",
       "</tbody>\n",
       "</table>\n"
      ],
      "text/latex": [
       "\\begin{tabular}{r|lll}\n",
       " Average.Total.Payments & Provider.State & Total.Discharges\\\\\n",
       "\\hline\n",
       "\t 3.225056   & DC         &  2.2024801\\\\\n",
       "\t 4.863915   & MD         & -0.6229644\\\\\n",
       "\t 4.303953   & MD         & -0.1882806\\\\\n",
       "\t 2.725234   & MD         & -0.4056225\\\\\n",
       "\t 3.361615   & MD         & -0.7678590\\\\\n",
       "\t 2.886824   & VA         &  0.5361923\\\\\n",
       "\\end{tabular}\n"
      ],
      "text/plain": [
       "  Average.Total.Payments Provider.State Total.Discharges\n",
       "1 3.225056               DC              2.2024801      \n",
       "2 4.863915               MD             -0.6229644      \n",
       "3 4.303953               MD             -0.1882806      \n",
       "4 2.725234               MD             -0.4056225      \n",
       "5 3.361615               MD             -0.7678590      \n",
       "6 2.886824               VA              0.5361923      "
      ]
     },
     "metadata": {},
     "output_type": "display_data"
    }
   ],
   "source": [
    "# ... and the returned dataset\n",
    "train_processed <- predict(process, train)\n",
    "train_processed %>% head"
   ]
  },
  {
   "cell_type": "code",
   "execution_count": 11,
   "metadata": {
    "collapsed": false
   },
   "outputs": [],
   "source": [
    "# exercise: create a summary table showing that the pre-processing worked"
   ]
  },
  {
   "cell_type": "markdown",
   "metadata": {},
   "source": [
    "### Create your own cross-valiation folds"
   ]
  },
  {
   "cell_type": "code",
   "execution_count": 12,
   "metadata": {
    "collapsed": false
   },
   "outputs": [],
   "source": [
    "folds  <- createFolds(y=df$Average.Total.Payments, k=5)"
   ]
  },
  {
   "cell_type": "code",
   "execution_count": 13,
   "metadata": {
    "collapsed": false
   },
   "outputs": [
    {
     "data": {},
     "metadata": {},
     "output_type": "display_data"
    }
   ],
   "source": [
    "vignette(\"caret\")"
   ]
  },
  {
   "cell_type": "markdown",
   "metadata": {},
   "source": [
    "### Modeling with train(): notes"
   ]
  },
  {
   "cell_type": "markdown",
   "metadata": {},
   "source": [
    "* Available models can be obtained with `names(getModelInfo())` and are listed here: http://topepo.github.io/caret/modelList.html.\n",
    "* `train()` is like a lightweight Python scikit-learn pipeline\n",
    "* \"By default, the train function chooses the model with the largest performance value (or smallest, for mean squared error in regression models).\"\n",
    "* `train()` automatically resamples data into train/test splits, fits the model, and calculates average performance across hold-out predictions. This can be customized."
   ]
  },
  {
   "cell_type": "code",
   "execution_count": 14,
   "metadata": {
    "collapsed": true
   },
   "outputs": [],
   "source": [
    "# create new data frame with dummy variables\n",
    "df_dummies <- dummyVars(\" ~ .\", data=df, fullRank = TRUE) %>%\n",
    "    predict(., newdata = df)"
   ]
  },
  {
   "cell_type": "code",
   "execution_count": 15,
   "metadata": {
    "collapsed": false
   },
   "outputs": [
    {
     "data": {
      "text/html": [
       "<table>\n",
       "<thead><tr><th></th><th scope=col>Average.Total.Payments</th><th scope=col>Provider.StateMD</th><th scope=col>Provider.StateVA</th><th scope=col>Total.Discharges</th></tr></thead>\n",
       "<tbody>\n",
       "\t<tr><th scope=row>1</th><td> 75435.71</td><td>0        </td><td>0        </td><td>96       </td></tr>\n",
       "\t<tr><th scope=row>2</th><td>103678.78</td><td>1        </td><td>0        </td><td>18       </td></tr>\n",
       "\t<tr><th scope=row>3</th><td> 94028.73</td><td>1        </td><td>0        </td><td>30       </td></tr>\n",
       "\t<tr><th scope=row>4</th><td> 66822.08</td><td>1        </td><td>0        </td><td>24       </td></tr>\n",
       "\t<tr><th scope=row>5</th><td> 77789.07</td><td>1        </td><td>0        </td><td>14       </td></tr>\n",
       "\t<tr><th scope=row>6</th><td> 69606.82</td><td>0        </td><td>1        </td><td>50       </td></tr>\n",
       "</tbody>\n",
       "</table>\n"
      ],
      "text/latex": [
       "\\begin{tabular}{r|llll}\n",
       "  & Average.Total.Payments & Provider.StateMD & Provider.StateVA & Total.Discharges\\\\\n",
       "\\hline\n",
       "\t1 &  75435.71 & 0         & 0         & 96       \\\\\n",
       "\t2 & 103678.78 & 1         & 0         & 18       \\\\\n",
       "\t3 &  94028.73 & 1         & 0         & 30       \\\\\n",
       "\t4 &  66822.08 & 1         & 0         & 24       \\\\\n",
       "\t5 &  77789.07 & 1         & 0         & 14       \\\\\n",
       "\t6 &  69606.82 & 0         & 1         & 50       \\\\\n",
       "\\end{tabular}\n"
      ],
      "text/markdown": [
       "1. 75435.70833\n",
       "2. 103678.7778\n",
       "3. 94028.73333\n",
       "4. 66822.08333\n",
       "5. 77789.07143\n",
       "6. 69606.82\n",
       "7. 0\n",
       "8. 1\n",
       "9. 1\n",
       "10. 1\n",
       "11. 1\n",
       "12. 0\n",
       "13. 0\n",
       "14. 0\n",
       "15. 0\n",
       "16. 0\n",
       "17. 0\n",
       "18. 1\n",
       "19. 96\n",
       "20. 18\n",
       "21. 30\n",
       "22. 24\n",
       "23. 14\n",
       "24. 50\n",
       "\n",
       "\n"
      ],
      "text/plain": [
       "  Average.Total.Payments Provider.StateMD Provider.StateVA Total.Discharges\n",
       "1  75435.71              0                0                96              \n",
       "2 103678.78              1                0                18              \n",
       "3  94028.73              1                0                30              \n",
       "4  66822.08              1                0                24              \n",
       "5  77789.07              1                0                14              \n",
       "6  69606.82              0                1                50              "
      ]
     },
     "metadata": {},
     "output_type": "display_data"
    }
   ],
   "source": [
    "df_dummies %>% head"
   ]
  },
  {
   "cell_type": "code",
   "execution_count": 16,
   "metadata": {
    "collapsed": true
   },
   "outputs": [],
   "source": [
    "split <- createDataPartition(y=df$Average.Total.Payments,\n",
    "                             p=0.80,\n",
    "                             list=FALSE)\n",
    "\n",
    "train <- df_dummies[split,]\n",
    "test <- df_dummies[-split,]"
   ]
  },
  {
   "cell_type": "code",
   "execution_count": 17,
   "metadata": {
    "collapsed": false
   },
   "outputs": [
    {
     "name": "stderr",
     "output_type": "stream",
     "text": [
      "Loading required package: lars\n",
      "Loaded lars 1.2\n",
      "\n"
     ]
    }
   ],
   "source": [
    "#install.packages('elasticnet')\n",
    "library('elasticnet')\n",
    "set.seed(1)\n",
    "model <- train(Average.Total.Payments ~ ., data=train,\n",
    "               method=\"ridge\",\n",
    "               tuneLength=10     # evaluate 10 parameter (lambda) values\n",
    "              )"
   ]
  },
  {
   "cell_type": "code",
   "execution_count": 18,
   "metadata": {
    "collapsed": false
   },
   "outputs": [
    {
     "data": {
      "text/plain": [
       "Ridge Regression \n",
       "\n",
       "880 samples\n",
       "  3 predictors\n",
       "\n",
       "No pre-processing\n",
       "Resampling: Bootstrapped (25 reps) \n",
       "Summary of sample sizes: 880, 880, 880, 880, 880, 880, ... \n",
       "Resampling results across tuning parameters:\n",
       "\n",
       "  lambda        RMSE      Rsquared  \n",
       "  0.0000000000  16620.53  0.02758434\n",
       "  0.0001000000  16620.51  0.02758521\n",
       "  0.0002371374  16620.49  0.02758641\n",
       "  0.0005623413  16620.43  0.02758923\n",
       "  0.0013335214  16620.31  0.02759573\n",
       "  0.0031622777  16620.05  0.02761028\n",
       "  0.0074989421  16619.59  0.02764011\n",
       "  0.0177827941  16619.22  0.02768872\n",
       "  0.0421696503  16620.50  0.02771793\n",
       "  0.1000000000  16626.66  0.02757271\n",
       "\n",
       "RMSE was used to select the optimal model using  the smallest value.\n",
       "The final value used for the model was lambda = 0.01778279. "
      ]
     },
     "metadata": {},
     "output_type": "display_data"
    }
   ],
   "source": [
    "# note 2 predictors (excludes the categorical variable). see below for details\n",
    "model"
   ]
  },
  {
   "cell_type": "code",
   "execution_count": 19,
   "metadata": {
    "collapsed": false
   },
   "outputs": [
    {
     "data": {},
     "metadata": {},
     "output_type": "display_data"
    },
    {
     "data": {
      "image/png": "[encoded data removed]",
      "text/plain": [
       "plot without title"
      ]
     },
     "metadata": {},
     "output_type": "display_data"
    }
   ],
   "source": [
    "plot(model)"
   ]
  },
  {
   "cell_type": "code",
   "execution_count": 20,
   "metadata": {
    "collapsed": false
   },
   "outputs": [
    {
     "data": {
      "text/html": [
       "<table>\n",
       "<thead><tr><th scope=col>lambda</th><th scope=col>RMSE</th><th scope=col>Rsquared</th><th scope=col>RMSESD</th><th scope=col>RsquaredSD</th></tr></thead>\n",
       "<tbody>\n",
       "\t<tr><td>0.0000000000</td><td>16620.53    </td><td>0.02758434  </td><td>1064.073    </td><td>0.01538651  </td></tr>\n",
       "\t<tr><td>0.0001000000</td><td>16620.51    </td><td>0.02758521  </td><td>1064.068    </td><td>0.01538661  </td></tr>\n",
       "\t<tr><td>0.0002371374</td><td>16620.49    </td><td>0.02758641  </td><td>1064.063    </td><td>0.01538675  </td></tr>\n",
       "\t<tr><td>0.0005623413</td><td>16620.43    </td><td>0.02758923  </td><td>1064.049    </td><td>0.01538708  </td></tr>\n",
       "\t<tr><td>0.0013335214</td><td>16620.31    </td><td>0.02759573  </td><td>1064.016    </td><td>0.01538789  </td></tr>\n",
       "\t<tr><td>0.0031622777</td><td>16620.05    </td><td>0.02761028  </td><td>1063.942    </td><td>0.01538990  </td></tr>\n",
       "\t<tr><td>0.0074989421</td><td>16619.59    </td><td>0.02764011  </td><td>1063.781    </td><td>0.01539517  </td></tr>\n",
       "\t<tr><td>0.0177827941</td><td>16619.22    </td><td>0.02768872  </td><td>1063.451    </td><td>0.01541053  </td></tr>\n",
       "\t<tr><td>0.0421696503</td><td>16620.50    </td><td>0.02771793  </td><td>1062.815    </td><td>0.01545968  </td></tr>\n",
       "\t<tr><td>0.1000000000</td><td>16626.66    </td><td>0.02757271  </td><td>1061.512    </td><td>0.01558504  </td></tr>\n",
       "</tbody>\n",
       "</table>\n"
      ],
      "text/latex": [
       "\\begin{tabular}{r|lllll}\n",
       " lambda & RMSE & Rsquared & RMSESD & RsquaredSD\\\\\n",
       "\\hline\n",
       "\t 0.0000000000 & 16620.53     & 0.02758434   & 1064.073     & 0.01538651  \\\\\n",
       "\t 0.0001000000 & 16620.51     & 0.02758521   & 1064.068     & 0.01538661  \\\\\n",
       "\t 0.0002371374 & 16620.49     & 0.02758641   & 1064.063     & 0.01538675  \\\\\n",
       "\t 0.0005623413 & 16620.43     & 0.02758923   & 1064.049     & 0.01538708  \\\\\n",
       "\t 0.0013335214 & 16620.31     & 0.02759573   & 1064.016     & 0.01538789  \\\\\n",
       "\t 0.0031622777 & 16620.05     & 0.02761028   & 1063.942     & 0.01538990  \\\\\n",
       "\t 0.0074989421 & 16619.59     & 0.02764011   & 1063.781     & 0.01539517  \\\\\n",
       "\t 0.0177827941 & 16619.22     & 0.02768872   & 1063.451     & 0.01541053  \\\\\n",
       "\t 0.0421696503 & 16620.50     & 0.02771793   & 1062.815     & 0.01545968  \\\\\n",
       "\t 0.1000000000 & 16626.66     & 0.02757271   & 1061.512     & 0.01558504  \\\\\n",
       "\\end{tabular}\n"
      ],
      "text/plain": [
       "   lambda       RMSE     Rsquared   RMSESD   RsquaredSD\n",
       "1  0.0000000000 16620.53 0.02758434 1064.073 0.01538651\n",
       "2  0.0001000000 16620.51 0.02758521 1064.068 0.01538661\n",
       "3  0.0002371374 16620.49 0.02758641 1064.063 0.01538675\n",
       "4  0.0005623413 16620.43 0.02758923 1064.049 0.01538708\n",
       "5  0.0013335214 16620.31 0.02759573 1064.016 0.01538789\n",
       "6  0.0031622777 16620.05 0.02761028 1063.942 0.01538990\n",
       "7  0.0074989421 16619.59 0.02764011 1063.781 0.01539517\n",
       "8  0.0177827941 16619.22 0.02768872 1063.451 0.01541053\n",
       "9  0.0421696503 16620.50 0.02771793 1062.815 0.01545968\n",
       "10 0.1000000000 16626.66 0.02757271 1061.512 0.01558504"
      ]
     },
     "metadata": {},
     "output_type": "display_data"
    }
   ],
   "source": [
    "model$results"
   ]
  },
  {
   "cell_type": "markdown",
   "metadata": {},
   "source": [
    "### predict()"
   ]
  },
  {
   "cell_type": "code",
   "execution_count": 21,
   "metadata": {
    "collapsed": false
   },
   "outputs": [
    {
     "data": {
      "text/html": [
       "<dl class=dl-horizontal>\n",
       "\t<dt>3</dt>\n",
       "\t\t<dd>22640.5871101517</dd>\n",
       "\t<dt>6</dt>\n",
       "\t\t<dd>16604.3953951925</dd>\n",
       "\t<dt>21</dt>\n",
       "\t\t<dd>20633.8985470622</dd>\n",
       "\t<dt>28</dt>\n",
       "\t\t<dd>15646.6576718998</dd>\n",
       "\t<dt>32</dt>\n",
       "\t\t<dd>16285.1494874282</dd>\n",
       "\t<dt>34</dt>\n",
       "\t\t<dd>18337.4446087697</dd>\n",
       "</dl>\n"
      ],
      "text/latex": [
       "\\begin{description*}\n",
       "\\item[3] 22640.5871101517\n",
       "\\item[6] 16604.3953951925\n",
       "\\item[21] 20633.8985470622\n",
       "\\item[28] 15646.6576718998\n",
       "\\item[32] 16285.1494874282\n",
       "\\item[34] 18337.4446087697\n",
       "\\end{description*}\n"
      ],
      "text/markdown": [
       "3\n",
       ":   22640.58711015176\n",
       ":   16604.395395192521\n",
       ":   20633.898547062228\n",
       ":   15646.657671899832\n",
       ":   16285.149487428234\n",
       ":   18337.4446087697\n",
       "\n"
      ],
      "text/plain": [
       "       3        6       21       28       32       34 \n",
       "22640.59 16604.40 20633.90 15646.66 16285.15 18337.44 "
      ]
     },
     "metadata": {},
     "output_type": "display_data"
    }
   ],
   "source": [
    "predict(model, newdata=head(test))"
   ]
  },
  {
   "cell_type": "markdown",
   "metadata": {},
   "source": [
    "### custom resampling with trainControl()"
   ]
  },
  {
   "cell_type": "code",
   "execution_count": 22,
   "metadata": {
    "collapsed": true
   },
   "outputs": [],
   "source": [
    "# passed to train() function below\n",
    "# method=\"cv\" does not repeat;\n",
    "# other options: \"boot\", \"LOOCV\", ... See: https://topepo.github.io/caret/model-training-and-tuning.html#the-traincontrol-function\n",
    "sampling  <- trainControl(method = \"repeatedcv\",\n",
    "                          p = 0.75,\n",
    "                          number=10,\n",
    "                          repeats=10)\n",
    "\n",
    "# now, pass this to train()..."
   ]
  },
  {
   "cell_type": "markdown",
   "metadata": {},
   "source": [
    "### Metrics: evaluating model performace\n",
    "Default metrics are:\n",
    "* regression: RMSE and R-squared\n",
    "* classification: accuracy and Kappa"
   ]
  },
  {
   "cell_type": "code",
   "execution_count": 23,
   "metadata": {
    "collapsed": false
   },
   "outputs": [],
   "source": [
    "set.seed(1)\n",
    "model <- train(Average.Total.Payments ~ ., data=train,\n",
    "               method=\"ridge\",\n",
    "               trControl = sampling,\n",
    "               tuneLength = 5\n",
    "               )"
   ]
  },
  {
   "cell_type": "code",
   "execution_count": 24,
   "metadata": {
    "collapsed": false
   },
   "outputs": [
    {
     "data": {
      "text/html": [
       "0.01"
      ],
      "text/latex": [
       "0.01"
      ],
      "text/markdown": [
       "0.01"
      ],
      "text/plain": [
       "[1] 0.01"
      ]
     },
     "metadata": {},
     "output_type": "display_data"
    }
   ],
   "source": [
    "model$finalModel$lambda"
   ]
  },
  {
   "cell_type": "code",
   "execution_count": 25,
   "metadata": {
    "collapsed": false
   },
   "outputs": [
    {
     "data": {
      "text/html": [
       "<table>\n",
       "<thead><tr><th scope=col>lambda</th><th scope=col>RMSE</th><th scope=col>Rsquared</th><th scope=col>RMSESD</th><th scope=col>RsquaredSD</th></tr></thead>\n",
       "<tbody>\n",
       "\t<tr><td>0e+00     </td><td>16613.36  </td><td>0.03783700</td><td>1655.462  </td><td>0.03363797</td></tr>\n",
       "\t<tr><td>1e-04     </td><td>16613.34  </td><td>0.03783690</td><td>1655.439  </td><td>0.03363645</td></tr>\n",
       "\t<tr><td>1e-03     </td><td>16613.16  </td><td>0.03783576</td><td>1655.229  </td><td>0.03362321</td></tr>\n",
       "\t<tr><td>1e-02     </td><td>16612.01  </td><td>0.03780755</td><td>1653.333  </td><td>0.03352488</td></tr>\n",
       "\t<tr><td>1e-01     </td><td>16618.94  </td><td>0.03702864</td><td>1643.693  </td><td>0.03365344</td></tr>\n",
       "</tbody>\n",
       "</table>\n"
      ],
      "text/latex": [
       "\\begin{tabular}{r|lllll}\n",
       " lambda & RMSE & Rsquared & RMSESD & RsquaredSD\\\\\n",
       "\\hline\n",
       "\t 0e+00      & 16613.36   & 0.03783700 & 1655.462   & 0.03363797\\\\\n",
       "\t 1e-04      & 16613.34   & 0.03783690 & 1655.439   & 0.03363645\\\\\n",
       "\t 1e-03      & 16613.16   & 0.03783576 & 1655.229   & 0.03362321\\\\\n",
       "\t 1e-02      & 16612.01   & 0.03780755 & 1653.333   & 0.03352488\\\\\n",
       "\t 1e-01      & 16618.94   & 0.03702864 & 1643.693   & 0.03365344\\\\\n",
       "\\end{tabular}\n"
      ],
      "text/plain": [
       "  lambda RMSE     Rsquared   RMSESD   RsquaredSD\n",
       "1 0e+00  16613.36 0.03783700 1655.462 0.03363797\n",
       "2 1e-04  16613.34 0.03783690 1655.439 0.03363645\n",
       "3 1e-03  16613.16 0.03783576 1655.229 0.03362321\n",
       "4 1e-02  16612.01 0.03780755 1653.333 0.03352488\n",
       "5 1e-01  16618.94 0.03702864 1643.693 0.03365344"
      ]
     },
     "metadata": {},
     "output_type": "display_data"
    }
   ],
   "source": [
    "model$results"
   ]
  },
  {
   "cell_type": "code",
   "execution_count": 26,
   "metadata": {
    "collapsed": false
   },
   "outputs": [
    {
     "data": {},
     "metadata": {},
     "output_type": "display_data"
    },
    {
     "data": {
      "image/png": "[encoded data removed]",
      "text/plain": [
       "plot without title"
      ]
     },
     "metadata": {},
     "output_type": "display_data"
    }
   ],
   "source": [
    "# can specify metric\n",
    "#plot(model, metric=\"Rsquared\")\n",
    " ggplot(model, metric=\"Rsquared\")"
   ]
  },
  {
   "cell_type": "code",
   "execution_count": 27,
   "metadata": {
    "collapsed": false
   },
   "outputs": [
    {
     "data": {},
     "metadata": {},
     "output_type": "display_data"
    },
    {
     "data": {
      "image/png": "[encoded data removed]",
      "text/plain": [
       "plot without title"
      ]
     },
     "metadata": {},
     "output_type": "display_data"
    }
   ],
   "source": [
    "# and plot the lambda values\n",
    "plot(model, metric=\"lambda\")"
   ]
  },
  {
   "cell_type": "code",
   "execution_count": 28,
   "metadata": {
    "collapsed": false
   },
   "outputs": [
    {
     "data": {
      "text/html": [
       "<pre class=language-r><code>function (model = NULL, regex = TRUE, ...) \n",
       "{\n",
       "<span style=white-space:pre-wrap>    load(system.file(\"models\", \"models.RData\", package = \"caret\"))</span>\n",
       "<span style=white-space:pre-wrap>    if (!is.null(model)) {</span>\n",
       "<span style=white-space:pre-wrap>        keepers &lt;- if (regex) </span>\n",
       "<span style=white-space:pre-wrap>            grepl(model, names(models), ...)</span>\n",
       "<span style=white-space:pre-wrap>        else which(model == names(models))[1]</span>\n",
       "<span style=white-space:pre-wrap>        models &lt;- models[keepers]</span>\n",
       "<span style=white-space:pre-wrap>    }</span>\n",
       "<span style=white-space:pre-wrap>    if (length(models) == 0) </span>\n",
       "<span style=white-space:pre-wrap>        stop(\"That model is not in caret's built-in library\")</span>\n",
       "<span style=white-space:pre-wrap>    models</span>\n",
       "}</code></pre>"
      ],
      "text/latex": [
       "\\begin{minted}{r}\n",
       "function (model = NULL, regex = TRUE, ...) \n",
       "\\{\n",
       "    load(system.file(\"models\", \"models.RData\", package = \"caret\"))\n",
       "    if (!is.null(model)) \\{\n",
       "        keepers <- if (regex) \n",
       "            grepl(model, names(models), ...)\n",
       "        else which(model == names(models)){[}1{]}\n",
       "        models <- models{[}keepers{]}\n",
       "    \\}\n",
       "    if (length(models) == 0) \n",
       "        stop(\"That model is not in caret's built-in library\")\n",
       "    models\n",
       "\\}\n",
       "\\end{minted}"
      ],
      "text/markdown": [
       "```r\n",
       "function (model = NULL, regex = TRUE, ...) \n",
       "{\n",
       "    load(system.file(\"models\", \"models.RData\", package = \"caret\"))\n",
       "    if (!is.null(model)) {\n",
       "        keepers <- if (regex) \n",
       "            grepl(model, names(models), ...)\n",
       "        else which(model == names(models))[1]\n",
       "        models <- models[keepers]\n",
       "    }\n",
       "    if (length(models) == 0) \n",
       "        stop(\"That model is not in caret's built-in library\")\n",
       "    models\n",
       "}\n",
       "```"
      ],
      "text/plain": [
       "function (model = NULL, regex = TRUE, ...) \n",
       "{\n",
       "    load(system.file(\"models\", \"models.RData\", package = \"caret\"))\n",
       "    if (!is.null(model)) {\n",
       "        keepers <- if (regex) \n",
       "            grepl(model, names(models), ...)\n",
       "        else which(model == names(models))[1]\n",
       "        models <- models[keepers]\n",
       "    }\n",
       "    if (length(models) == 0) \n",
       "        stop(\"That model is not in caret's built-in library\")\n",
       "    models\n",
       "}\n",
       "<environment: namespace:caret>"
      ]
     },
     "metadata": {},
     "output_type": "display_data"
    }
   ],
   "source": [
    "getModelInfo"
   ]
  },
  {
   "cell_type": "markdown",
   "metadata": {},
   "source": [
    "### train() details\n",
    "* You can pre-process features with PCA, with `train(... , preProcess=\"pca\", k=2)`\n",
    "* You can perform bootstrap resampling with createResample()\n",
    "* You can perform time series splitting with createTimeSlices()\n",
    "* \"In cases where the model tuning values are known, train can be used to fit the model to the entire training set without any resampling or parameter tuning. Use `trainControl(..., method = \"none\")`"
   ]
  },
  {
   "cell_type": "markdown",
   "metadata": {},
   "source": [
    "# 2. Broom: Tidying-up model results"
   ]
  },
  {
   "cell_type": "markdown",
   "metadata": {},
   "source": [
    "## Broom: Motivation\n",
    "\n",
    "In R, model inputs are often tidy. However, model outputs are messy and inconsistent.\n",
    "\n",
    "This is especially burdensome when working with many models at once (eg,\n",
    "running the same model on different subsets of data and comparing results).\n",
    "\n",
    "For example, you need to extract p-values from a few regression models. Is this parameter called \"pval\" or \"PValue\"?\"\n",
    "\n",
    "The solution is broom:\n",
    "\n",
    "        The broom package takes the messy output of built-in functions in R,\n",
    "        such as lm, nls, or t.test, and turns them into tidy data frames.\n"
   ]
  },
  {
   "cell_type": "markdown",
   "metadata": {},
   "source": [
    "## Broom: Introductory Examples"
   ]
  },
  {
   "cell_type": "code",
   "execution_count": 29,
   "metadata": {
    "collapsed": false
   },
   "outputs": [],
   "source": [
    "library(broom)"
   ]
  },
  {
   "cell_type": "code",
   "execution_count": 30,
   "metadata": {
    "collapsed": false
   },
   "outputs": [
    {
     "data": {
      "text/html": [
       "<table>\n",
       "<thead><tr><th scope=col>DRG.code</th><th scope=col>term</th><th scope=col>estimate</th><th scope=col>std.error</th><th scope=col>statistic</th><th scope=col>p.value</th></tr></thead>\n",
       "<tbody>\n",
       "\t<tr><td>216             </td><td>(Intercept)     </td><td>68187.56385     </td><td>1494.97268      </td><td>45.611244       </td><td>7.345751e-135   </td></tr>\n",
       "\t<tr><td>216             </td><td>Total.Discharges</td><td>  156.63305     </td><td>  42.74812      </td><td> 3.664092       </td><td> 2.947123e-04   </td></tr>\n",
       "\t<tr><td>217             </td><td>(Intercept)     </td><td>43953.47554     </td><td>1251.78061      </td><td>35.112763       </td><td> 3.046815e-67   </td></tr>\n",
       "\t<tr><td>217             </td><td>Total.Discharges</td><td>  124.36103     </td><td>  37.66967      </td><td> 3.301357       </td><td> 1.249531e-03   </td></tr>\n",
       "\t<tr><td>219             </td><td>(Intercept)     </td><td>55679.20035     </td><td> 781.41717      </td><td>71.254130       </td><td>2.075788e-256   </td></tr>\n",
       "\t<tr><td>219             </td><td>Total.Discharges</td><td>   69.15956     </td><td>  13.95518      </td><td> 4.955833       </td><td> 1.002196e-06   </td></tr>\n",
       "</tbody>\n",
       "</table>\n"
      ],
      "text/latex": [
       "\\begin{tabular}{r|llllll}\n",
       " DRG.code & term & estimate & std.error & statistic & p.value\\\\\n",
       "\\hline\n",
       "\t 216              & (Intercept)      & 68187.56385      & 1494.97268       & 45.611244        & 7.345751e-135   \\\\\n",
       "\t 216              & Total.Discharges &   156.63305      &   42.74812       &  3.664092        &  2.947123e-04   \\\\\n",
       "\t 217              & (Intercept)      & 43953.47554      & 1251.78061       & 35.112763        &  3.046815e-67   \\\\\n",
       "\t 217              & Total.Discharges &   124.36103      &   37.66967       &  3.301357        &  1.249531e-03   \\\\\n",
       "\t 219              & (Intercept)      & 55679.20035      &  781.41717       & 71.254130        & 2.075788e-256   \\\\\n",
       "\t 219              & Total.Discharges &    69.15956      &   13.95518       &  4.955833        &  1.002196e-06   \\\\\n",
       "\\end{tabular}\n"
      ],
      "text/plain": [
       "  DRG.code term             estimate    std.error  statistic p.value      \n",
       "1 216      (Intercept)      68187.56385 1494.97268 45.611244 7.345751e-135\n",
       "2 216      Total.Discharges   156.63305   42.74812  3.664092  2.947123e-04\n",
       "3 217      (Intercept)      43953.47554 1251.78061 35.112763  3.046815e-67\n",
       "4 217      Total.Discharges   124.36103   37.66967  3.301357  1.249531e-03\n",
       "5 219      (Intercept)      55679.20035  781.41717 71.254130 2.075788e-256\n",
       "6 219      Total.Discharges    69.15956   13.95518  4.955833  1.002196e-06"
      ]
     },
     "metadata": {},
     "output_type": "display_data"
    }
   ],
   "source": [
    "## You can tidy up lm output with tidy()\n",
    "cardiac %>%\n",
    "    group_by(DRG.code) %>%\n",
    "    do(\n",
    "        tidy(lm(Average.Total.Payments ~ Total.Discharges, data=.))\n",
    "    ) %>%\n",
    "    head()"
   ]
  },
  {
   "cell_type": "code",
   "execution_count": 31,
   "metadata": {
    "collapsed": false
   },
   "outputs": [
    {
     "data": {
      "text/html": [
       "<table>\n",
       "<thead><tr><th scope=col>DRG.code</th><th scope=col>r.squared</th><th scope=col>adj.r.squared</th><th scope=col>sigma</th><th scope=col>statistic</th><th scope=col>p.value</th><th scope=col>df</th><th scope=col>logLik</th><th scope=col>AIC</th><th scope=col>BIC</th><th scope=col>deviance</th><th scope=col>df.residual</th></tr></thead>\n",
       "<tbody>\n",
       "\t<tr><td>217         </td><td>0.07903581  </td><td>0.07178413  </td><td> 9592.548   </td><td>10.89896    </td><td>1.249531e-03</td><td>2           </td><td>-1364.803   </td><td> 2735.606   </td><td> 2744.185   </td><td>11686155087 </td><td>127         </td></tr>\n",
       "\t<tr><td>237         </td><td>0.06516683  </td><td>0.06372196  </td><td>10649.373   </td><td>45.10210    </td><td>4.098939e-11</td><td>2           </td><td>-6938.233   </td><td>13882.466   </td><td>13895.892   </td><td>73375712827 </td><td>647         </td></tr>\n",
       "\t<tr><td>219         </td><td>0.04896776  </td><td>0.04697398  </td><td>12164.456   </td><td>24.56028    </td><td>1.002196e-06</td><td>2           </td><td>-5184.274   </td><td>10374.549   </td><td>10387.064   </td><td>70583592644 </td><td>477         </td></tr>\n",
       "\t<tr><td>216         </td><td>0.04395694  </td><td>0.04068282  </td><td>17668.665   </td><td>13.42557    </td><td>2.947123e-04</td><td>2           </td><td>-3291.352   </td><td> 6588.703   </td><td> 6599.754   </td><td>91157062366 </td><td>292         </td></tr>\n",
       "\t<tr><td>220         </td><td>0.03610941  </td><td>0.03431779  </td><td> 8394.474   </td><td>20.15463    </td><td>8.743602e-06</td><td>2           </td><td>-5644.303   </td><td>11294.605   </td><td>11307.480   </td><td>37911354195 </td><td>538         </td></tr>\n",
       "\t<tr><td>251         </td><td>0.02607545  </td><td>0.02445763  </td><td> 3894.000   </td><td>16.11770    </td><td>6.704277e-05</td><td>2           </td><td>-5849.421   </td><td>11704.843   </td><td>11718.053   </td><td> 9128267143 </td><td>602         </td></tr>\n",
       "</tbody>\n",
       "</table>\n"
      ],
      "text/latex": [
       "\\begin{tabular}{r|llllllllllll}\n",
       " DRG.code & r.squared & adj.r.squared & sigma & statistic & p.value & df & logLik & AIC & BIC & deviance & df.residual\\\\\n",
       "\\hline\n",
       "\t 217          & 0.07903581   & 0.07178413   &  9592.548    & 10.89896     & 1.249531e-03 & 2            & -1364.803    &  2735.606    &  2744.185    & 11686155087  & 127         \\\\\n",
       "\t 237          & 0.06516683   & 0.06372196   & 10649.373    & 45.10210     & 4.098939e-11 & 2            & -6938.233    & 13882.466    & 13895.892    & 73375712827  & 647         \\\\\n",
       "\t 219          & 0.04896776   & 0.04697398   & 12164.456    & 24.56028     & 1.002196e-06 & 2            & -5184.274    & 10374.549    & 10387.064    & 70583592644  & 477         \\\\\n",
       "\t 216          & 0.04395694   & 0.04068282   & 17668.665    & 13.42557     & 2.947123e-04 & 2            & -3291.352    &  6588.703    &  6599.754    & 91157062366  & 292         \\\\\n",
       "\t 220          & 0.03610941   & 0.03431779   &  8394.474    & 20.15463     & 8.743602e-06 & 2            & -5644.303    & 11294.605    & 11307.480    & 37911354195  & 538         \\\\\n",
       "\t 251          & 0.02607545   & 0.02445763   &  3894.000    & 16.11770     & 6.704277e-05 & 2            & -5849.421    & 11704.843    & 11718.053    &  9128267143  & 602         \\\\\n",
       "\\end{tabular}\n"
      ],
      "text/plain": [
       "  DRG.code r.squared  adj.r.squared sigma     statistic p.value      df\n",
       "1 217      0.07903581 0.07178413     9592.548 10.89896  1.249531e-03 2 \n",
       "2 237      0.06516683 0.06372196    10649.373 45.10210  4.098939e-11 2 \n",
       "3 219      0.04896776 0.04697398    12164.456 24.56028  1.002196e-06 2 \n",
       "4 216      0.04395694 0.04068282    17668.665 13.42557  2.947123e-04 2 \n",
       "5 220      0.03610941 0.03431779     8394.474 20.15463  8.743602e-06 2 \n",
       "6 251      0.02607545 0.02445763     3894.000 16.11770  6.704277e-05 2 \n",
       "  logLik    AIC       BIC       deviance    df.residual\n",
       "1 -1364.803  2735.606  2744.185 11686155087 127        \n",
       "2 -6938.233 13882.466 13895.892 73375712827 647        \n",
       "3 -5184.274 10374.549 10387.064 70583592644 477        \n",
       "4 -3291.352  6588.703  6599.754 91157062366 292        \n",
       "5 -5644.303 11294.605 11307.480 37911354195 538        \n",
       "6 -5849.421 11704.843 11718.053  9128267143 602        "
      ]
     },
     "metadata": {},
     "output_type": "display_data"
    }
   ],
   "source": [
    "## You can review model fit with glance()\n",
    "cardiac %>%\n",
    "    group_by(DRG.code) %>%\n",
    "    do(\n",
    "        glance(lm(Average.Total.Payments ~ Total.Discharges, data=.))\n",
    "    ) %>%\n",
    "    arrange(desc(adj.r.squared)) %>%\n",
    "    head()"
   ]
  },
  {
   "cell_type": "markdown",
   "metadata": {},
   "source": [
    "## Broom: Concepts\n",
    "Let's learn to tidy up our model output with broom!\n",
    "\n",
    "**3 little functions that do a lot:**\n",
    "\n",
    "    tidy()             #tidy up model output\n",
    "    glance()           #obtain one-row summary of model fit (R^2, AIC...)\n",
    "    augment()          #augment model output with more info (residuals, predictions, ...) \n",
    "    \n",
    "The output differs slightly depending on what model you run, but it strives for consistency. A p-value is always `p.value`."
   ]
  },
  {
   "cell_type": "code",
   "execution_count": 32,
   "metadata": {
    "collapsed": true
   },
   "outputs": [],
   "source": [
    "## prepare data\n",
    "myvars <- c(\"Provider.Id\", \"DRG.code\", \"Average.Medicare.Payments\",\n",
    "            \"Average.Covered.Charges\", \"Average.Total.Payments\",\n",
    "            \"Total.Discharges\", \"Provider.State\")\n",
    "df <- cardiac %>% select_(.dots=myvars)"
   ]
  },
  {
   "cell_type": "code",
   "execution_count": 33,
   "metadata": {
    "collapsed": false
   },
   "outputs": [
    {
     "data": {
      "text/plain": [
       "\n",
       "Call:\n",
       "lm(formula = Average.Total.Payments ~ Total.Discharges, data = df)\n",
       "\n",
       "Coefficients:\n",
       "     (Intercept)  Total.Discharges  \n",
       "        19900.31            -40.01  \n"
      ]
     },
     "metadata": {},
     "output_type": "display_data"
    }
   ],
   "source": [
    "## standard lm\n",
    "lm(Average.Total.Payments ~ Total.Discharges, data=df)"
   ]
  },
  {
   "cell_type": "code",
   "execution_count": 34,
   "metadata": {
    "collapsed": false
   },
   "outputs": [
    {
     "data": {
      "text/plain": [
       "\n",
       "Call:\n",
       "lm(formula = Average.Total.Payments ~ Total.Discharges, data = df)\n",
       "\n",
       "Residuals:\n",
       "   Min     1Q Median     3Q    Max \n",
       "-16820 -11251  -4833   5727 277596 \n",
       "\n",
       "Coefficients:\n",
       "                 Estimate Std. Error t value Pr(>|t|)    \n",
       "(Intercept)      19900.31     161.07  123.55   <2e-16 ***\n",
       "Total.Discharges   -40.01       3.89  -10.29   <2e-16 ***\n",
       "---\n",
       "Signif. codes:  0 ‘***’ 0.001 ‘**’ 0.01 ‘*’ 0.05 ‘.’ 0.1 ‘ ’ 1\n",
       "\n",
       "Residual standard error: 15680 on 22394 degrees of freedom\n",
       "Multiple R-squared:  0.004702,\tAdjusted R-squared:  0.004657 \n",
       "F-statistic: 105.8 on 1 and 22394 DF,  p-value: < 2.2e-16\n"
      ]
     },
     "metadata": {},
     "output_type": "display_data"
    }
   ],
   "source": [
    "## lm summary()\n",
    "lm(Average.Total.Payments ~ Total.Discharges, data=df) %>% summary"
   ]
  },
  {
   "cell_type": "code",
   "execution_count": 35,
   "metadata": {
    "collapsed": false
   },
   "outputs": [
    {
     "data": {
      "text/html": [
       "<table>\n",
       "<thead><tr><th scope=col>term</th><th scope=col>estimate</th><th scope=col>std.error</th><th scope=col>statistic</th><th scope=col>p.value</th></tr></thead>\n",
       "<tbody>\n",
       "\t<tr><td>(Intercept)     </td><td>19900.31277     </td><td>161.069818      </td><td>123.55085       </td><td>0.000000e+00    </td></tr>\n",
       "\t<tr><td>Total.Discharges</td><td>  -40.00608     </td><td>  3.889629      </td><td>-10.28532       </td><td>9.317356e-25    </td></tr>\n",
       "</tbody>\n",
       "</table>\n"
      ],
      "text/latex": [
       "\\begin{tabular}{r|lllll}\n",
       " term & estimate & std.error & statistic & p.value\\\\\n",
       "\\hline\n",
       "\t (Intercept)      & 19900.31277      & 161.069818       & 123.55085        & 0.000000e+00    \\\\\n",
       "\t Total.Discharges &   -40.00608      &   3.889629       & -10.28532        & 9.317356e-25    \\\\\n",
       "\\end{tabular}\n"
      ],
      "text/plain": [
       "  term             estimate    std.error  statistic p.value     \n",
       "1 (Intercept)      19900.31277 161.069818 123.55085 0.000000e+00\n",
       "2 Total.Discharges   -40.00608   3.889629 -10.28532 9.317356e-25"
      ]
     },
     "metadata": {},
     "output_type": "display_data"
    }
   ],
   "source": [
    "## tidy() results\n",
    "lm(Average.Total.Payments ~ Total.Discharges, data=df) %>% tidy"
   ]
  },
  {
   "cell_type": "code",
   "execution_count": 36,
   "metadata": {
    "collapsed": false
   },
   "outputs": [
    {
     "data": {
      "text/html": [
       "<table>\n",
       "<thead><tr><th scope=col>r.squared</th><th scope=col>adj.r.squared</th><th scope=col>sigma</th><th scope=col>statistic</th><th scope=col>p.value</th><th scope=col>df</th></tr></thead>\n",
       "<tbody>\n",
       "\t<tr><td>0.004701723 </td><td>0.004657278 </td><td>15683.22    </td><td>105.7878    </td><td>9.317356e-25</td><td>2           </td></tr>\n",
       "</tbody>\n",
       "</table>\n"
      ],
      "text/latex": [
       "\\begin{tabular}{r|llllll}\n",
       " r.squared & adj.r.squared & sigma & statistic & p.value & df\\\\\n",
       "\\hline\n",
       "\t 0.004701723  & 0.004657278  & 15683.22     & 105.7878     & 9.317356e-25 & 2           \\\\\n",
       "\\end{tabular}\n"
      ],
      "text/plain": [
       "  r.squared   adj.r.squared sigma    statistic p.value      df\n",
       "1 0.004701723 0.004657278   15683.22 105.7878  9.317356e-25 2 "
      ]
     },
     "metadata": {},
     "output_type": "display_data"
    }
   ],
   "source": [
    "## use glance() to see fit statistics (1 row/model)\n",
    "lm(Average.Total.Payments ~ Total.Discharges, data=df) %>% summary %>% glance"
   ]
  },
  {
   "cell_type": "code",
   "execution_count": 37,
   "metadata": {
    "collapsed": false
   },
   "outputs": [
    {
     "data": {
      "text/html": [
       "<table>\n",
       "<thead><tr><th scope=col>Average.Total.Payments</th><th scope=col>Total.Discharges</th><th scope=col>.fitted</th><th scope=col>.se.fit</th><th scope=col>.resid</th><th scope=col>.hat</th><th scope=col>.sigma</th><th scope=col>.cooksd</th><th scope=col>.std.resid</th></tr></thead>\n",
       "<tbody>\n",
       "\t<tr><td>49868.00    </td><td>11          </td><td>19460.25    </td><td>131.5575    </td><td>30407.75    </td><td>7.036571e-05</td><td>15682.25    </td><td>1.322789e-04</td><td>1.938941    </td></tr>\n",
       "\t<tr><td>59623.00    </td><td>21          </td><td>19060.19    </td><td>112.3989    </td><td>40562.81    </td><td>5.136340e-05</td><td>15681.22    </td><td>1.718123e-04</td><td>2.586450    </td></tr>\n",
       "\t<tr><td>56985.50    </td><td>16          </td><td>19260.22    </td><td>120.7982    </td><td>37725.28    </td><td>5.932680e-05</td><td>15681.54    </td><td>1.716593e-04</td><td>2.405527    </td></tr>\n",
       "\t<tr><td>46413.43    </td><td>14          </td><td>19340.23    </td><td>124.8499    </td><td>27073.20    </td><td>6.337331e-05</td><td>15682.52    </td><td>9.443661e-05</td><td>1.726308    </td></tr>\n",
       "\t<tr><td>43955.62    </td><td>13          </td><td>19380.23    </td><td>127.0061    </td><td>24575.38    </td><td>6.558109e-05</td><td>15682.71    </td><td>8.052596e-05</td><td>1.567038    </td></tr>\n",
       "\t<tr><td>43870.05    </td><td>22          </td><td>19020.18    </td><td>111.0520    </td><td>24849.87    </td><td>5.013977e-05</td><td>15682.69    </td><td>6.294683e-05</td><td>1.584528    </td></tr>\n",
       "</tbody>\n",
       "</table>\n"
      ],
      "text/latex": [
       "\\begin{tabular}{r|lllllllll}\n",
       " Average.Total.Payments & Total.Discharges & .fitted & .se.fit & .resid & .hat & .sigma & .cooksd & .std.resid\\\\\n",
       "\\hline\n",
       "\t 49868.00     & 11           & 19460.25     & 131.5575     & 30407.75     & 7.036571e-05 & 15682.25     & 1.322789e-04 & 1.938941    \\\\\n",
       "\t 59623.00     & 21           & 19060.19     & 112.3989     & 40562.81     & 5.136340e-05 & 15681.22     & 1.718123e-04 & 2.586450    \\\\\n",
       "\t 56985.50     & 16           & 19260.22     & 120.7982     & 37725.28     & 5.932680e-05 & 15681.54     & 1.716593e-04 & 2.405527    \\\\\n",
       "\t 46413.43     & 14           & 19340.23     & 124.8499     & 27073.20     & 6.337331e-05 & 15682.52     & 9.443661e-05 & 1.726308    \\\\\n",
       "\t 43955.62     & 13           & 19380.23     & 127.0061     & 24575.38     & 6.558109e-05 & 15682.71     & 8.052596e-05 & 1.567038    \\\\\n",
       "\t 43870.05     & 22           & 19020.18     & 111.0520     & 24849.87     & 5.013977e-05 & 15682.69     & 6.294683e-05 & 1.584528    \\\\\n",
       "\\end{tabular}\n"
      ],
      "text/plain": [
       "  Average.Total.Payments Total.Discharges .fitted  .se.fit  .resid  \n",
       "1 49868.00               11               19460.25 131.5575 30407.75\n",
       "2 59623.00               21               19060.19 112.3989 40562.81\n",
       "3 56985.50               16               19260.22 120.7982 37725.28\n",
       "4 46413.43               14               19340.23 124.8499 27073.20\n",
       "5 43955.62               13               19380.23 127.0061 24575.38\n",
       "6 43870.05               22               19020.18 111.0520 24849.87\n",
       "  .hat         .sigma   .cooksd      .std.resid\n",
       "1 7.036571e-05 15682.25 1.322789e-04 1.938941  \n",
       "2 5.136340e-05 15681.22 1.718123e-04 2.586450  \n",
       "3 5.932680e-05 15681.54 1.716593e-04 2.405527  \n",
       "4 6.337331e-05 15682.52 9.443661e-05 1.726308  \n",
       "5 6.558109e-05 15682.71 8.052596e-05 1.567038  \n",
       "6 5.013977e-05 15682.69 6.294683e-05 1.584528  "
      ]
     },
     "metadata": {},
     "output_type": "display_data"
    }
   ],
   "source": [
    "## augment() results to see predictions, clusters, etc\n",
    "lm(Average.Total.Payments ~ Total.Discharges, data=df) %>% augment %>% head"
   ]
  },
  {
   "cell_type": "markdown",
   "metadata": {},
   "source": [
    "### do() from dplyr is a helper for broom\n",
    "Recall that usually, dplyr returns a single value. We use `do()` when we aim to return something else.\n",
    "\n",
    "Broom cleans up model outputs which return more than just a single value.\n",
    "\n",
    "This is most useful when working with multiple models:"
   ]
  },
  {
   "cell_type": "code",
   "execution_count": 38,
   "metadata": {
    "collapsed": false
   },
   "outputs": [
    {
     "data": {
      "text/html": [
       "<table>\n",
       "<thead><tr><th scope=col>DRG.code</th><th scope=col>term</th><th scope=col>estimate</th><th scope=col>std.error</th><th scope=col>statistic</th><th scope=col>p.value</th></tr></thead>\n",
       "<tbody>\n",
       "\t<tr><td>216             </td><td>(Intercept)     </td><td>68187.56385     </td><td>1494.97268      </td><td>45.611244       </td><td>7.345751e-135   </td></tr>\n",
       "\t<tr><td>216             </td><td>Total.Discharges</td><td>  156.63305     </td><td>  42.74812      </td><td> 3.664092       </td><td> 2.947123e-04   </td></tr>\n",
       "\t<tr><td>217             </td><td>(Intercept)     </td><td>43953.47554     </td><td>1251.78061      </td><td>35.112763       </td><td> 3.046815e-67   </td></tr>\n",
       "\t<tr><td>217             </td><td>Total.Discharges</td><td>  124.36103     </td><td>  37.66967      </td><td> 3.301357       </td><td> 1.249531e-03   </td></tr>\n",
       "\t<tr><td>219             </td><td>(Intercept)     </td><td>55679.20035     </td><td> 781.41717      </td><td>71.254130       </td><td>2.075788e-256   </td></tr>\n",
       "\t<tr><td>219             </td><td>Total.Discharges</td><td>   69.15956     </td><td>  13.95518      </td><td> 4.955833       </td><td> 1.002196e-06   </td></tr>\n",
       "</tbody>\n",
       "</table>\n"
      ],
      "text/latex": [
       "\\begin{tabular}{r|llllll}\n",
       " DRG.code & term & estimate & std.error & statistic & p.value\\\\\n",
       "\\hline\n",
       "\t 216              & (Intercept)      & 68187.56385      & 1494.97268       & 45.611244        & 7.345751e-135   \\\\\n",
       "\t 216              & Total.Discharges &   156.63305      &   42.74812       &  3.664092        &  2.947123e-04   \\\\\n",
       "\t 217              & (Intercept)      & 43953.47554      & 1251.78061       & 35.112763        &  3.046815e-67   \\\\\n",
       "\t 217              & Total.Discharges &   124.36103      &   37.66967       &  3.301357        &  1.249531e-03   \\\\\n",
       "\t 219              & (Intercept)      & 55679.20035      &  781.41717       & 71.254130        & 2.075788e-256   \\\\\n",
       "\t 219              & Total.Discharges &    69.15956      &   13.95518       &  4.955833        &  1.002196e-06   \\\\\n",
       "\\end{tabular}\n"
      ],
      "text/plain": [
       "  DRG.code term             estimate    std.error  statistic p.value      \n",
       "1 216      (Intercept)      68187.56385 1494.97268 45.611244 7.345751e-135\n",
       "2 216      Total.Discharges   156.63305   42.74812  3.664092  2.947123e-04\n",
       "3 217      (Intercept)      43953.47554 1251.78061 35.112763  3.046815e-67\n",
       "4 217      Total.Discharges   124.36103   37.66967  3.301357  1.249531e-03\n",
       "5 219      (Intercept)      55679.20035  781.41717 71.254130 2.075788e-256\n",
       "6 219      Total.Discharges    69.15956   13.95518  4.955833  1.002196e-06"
      ]
     },
     "metadata": {},
     "output_type": "display_data"
    }
   ],
   "source": [
    "df %>%\n",
    "    group_by(DRG.code) %>%\n",
    "    do(\n",
    "        tidy(lm(Average.Total.Payments ~ Total.Discharges, data=.))\n",
    "    ) %>%\n",
    "    head"
   ]
  },
  {
   "cell_type": "code",
   "execution_count": 39,
   "metadata": {
    "collapsed": false
   },
   "outputs": [
    {
     "data": {
      "text/html": [
       "<table>\n",
       "<thead><tr><th scope=col>DRG.code</th><th scope=col>term</th><th scope=col>estimate</th><th scope=col>std.error</th><th scope=col>statistic</th><th scope=col>p.value</th></tr></thead>\n",
       "<tbody>\n",
       "\t<tr><td>216             </td><td>(Intercept)     </td><td>68187.56385     </td><td>1494.97268      </td><td>45.611244       </td><td>7.345751e-135   </td></tr>\n",
       "\t<tr><td>216             </td><td>Total.Discharges</td><td>  156.63305     </td><td>  42.74812      </td><td> 3.664092       </td><td> 2.947123e-04   </td></tr>\n",
       "\t<tr><td>217             </td><td>(Intercept)     </td><td>43953.47554     </td><td>1251.78061      </td><td>35.112763       </td><td> 3.046815e-67   </td></tr>\n",
       "\t<tr><td>217             </td><td>Total.Discharges</td><td>  124.36103     </td><td>  37.66967      </td><td> 3.301357       </td><td> 1.249531e-03   </td></tr>\n",
       "\t<tr><td>219             </td><td>(Intercept)     </td><td>55679.20035     </td><td> 781.41717      </td><td>71.254130       </td><td>2.075788e-256   </td></tr>\n",
       "\t<tr><td>219             </td><td>Total.Discharges</td><td>   69.15956     </td><td>  13.95518      </td><td> 4.955833       </td><td> 1.002196e-06   </td></tr>\n",
       "</tbody>\n",
       "</table>\n"
      ],
      "text/latex": [
       "\\begin{tabular}{r|llllll}\n",
       " DRG.code & term & estimate & std.error & statistic & p.value\\\\\n",
       "\\hline\n",
       "\t 216              & (Intercept)      & 68187.56385      & 1494.97268       & 45.611244        & 7.345751e-135   \\\\\n",
       "\t 216              & Total.Discharges &   156.63305      &   42.74812       &  3.664092        &  2.947123e-04   \\\\\n",
       "\t 217              & (Intercept)      & 43953.47554      & 1251.78061       & 35.112763        &  3.046815e-67   \\\\\n",
       "\t 217              & Total.Discharges &   124.36103      &   37.66967       &  3.301357        &  1.249531e-03   \\\\\n",
       "\t 219              & (Intercept)      & 55679.20035      &  781.41717       & 71.254130        & 2.075788e-256   \\\\\n",
       "\t 219              & Total.Discharges &    69.15956      &   13.95518       &  4.955833        &  1.002196e-06   \\\\\n",
       "\\end{tabular}\n"
      ],
      "text/plain": [
       "  DRG.code term             estimate    std.error  statistic p.value      \n",
       "1 216      (Intercept)      68187.56385 1494.97268 45.611244 7.345751e-135\n",
       "2 216      Total.Discharges   156.63305   42.74812  3.664092  2.947123e-04\n",
       "3 217      (Intercept)      43953.47554 1251.78061 35.112763  3.046815e-67\n",
       "4 217      Total.Discharges   124.36103   37.66967  3.301357  1.249531e-03\n",
       "5 219      (Intercept)      55679.20035  781.41717 71.254130 2.075788e-256\n",
       "6 219      Total.Discharges    69.15956   13.95518  4.955833  1.002196e-06"
      ]
     },
     "metadata": {},
     "output_type": "display_data"
    }
   ],
   "source": [
    "## rewrite it a bit. note placement of %>%\n",
    "df %>%\n",
    "    group_by(DRG.code) %>%\n",
    "    do(\n",
    "        lm(Average.Total.Payments ~ Total.Discharges, data=.)\n",
    "        %>%  tidy\n",
    "    ) %>%\n",
    "    head"
   ]
  },
  {
   "cell_type": "code",
   "execution_count": 40,
   "metadata": {
    "collapsed": false
   },
   "outputs": [
    {
     "data": {
      "text/html": [
       "<table>\n",
       "<thead><tr><th scope=col>DRG.code</th><th scope=col>column</th><th scope=col>n</th><th scope=col>mean</th><th scope=col>sd</th><th scope=col>median</th><th scope=col>trimmed</th><th scope=col>mad</th><th scope=col>min</th><th scope=col>max</th><th scope=col>range</th><th scope=col>skew</th><th scope=col>kurtosis</th><th scope=col>se</th></tr></thead>\n",
       "<tbody>\n",
       "\t<tr><td>216                   </td><td>Average.Total.Payments</td><td>294                   </td><td>7.215613e+04          </td><td>1.803942e+04          </td><td> 6.796518e+04         </td><td> 7.037099e+04         </td><td>1.534216e+04          </td><td> 4.333483e+04         </td><td>1.534943e+05          </td><td>1.101594e+05          </td><td> 1.175690             </td><td>  1.861853            </td><td>1.052080e+03          </td></tr>\n",
       "\t<tr><td>216                   </td><td>Total.Discharges      </td><td>294                   </td><td>2.533673e+01          </td><td>2.414643e+01          </td><td> 1.750000e+01         </td><td> 2.047458e+01         </td><td>8.154300e+00          </td><td> 1.100000e+01         </td><td>2.750000e+02          </td><td>2.640000e+02          </td><td> 5.229510             </td><td> 41.555347            </td><td>1.408248e+00          </td></tr>\n",
       "\t<tr><td>216                   </td><td>.fitted               </td><td>294                   </td><td>7.215613e+04          </td><td>3.782129e+03          </td><td> 7.092864e+04         </td><td> 7.139456e+04         </td><td>1.277233e+03          </td><td> 6.991053e+04         </td><td>1.112617e+05          </td><td>4.135113e+04          </td><td> 5.229510             </td><td> 41.555347            </td><td>2.205782e+02          </td></tr>\n",
       "\t<tr><td>216                   </td><td>.se.fit               </td><td>294                   </td><td>1.262349e+03          </td><td>7.293624e+02          </td><td> 1.121203e+03         </td><td> 1.127253e+03         </td><td>8.832183e+01          </td><td> 1.030558e+03         </td><td>1.072227e+04          </td><td>9.691708e+03          </td><td> 8.848175             </td><td> 99.545035            </td><td>4.253728e+01          </td></tr>\n",
       "\t<tr><td>216                   </td><td>.resid                </td><td>294                   </td><td>4.170451e-13          </td><td>1.763849e+04          </td><td>-4.326200e+03         </td><td>-1.950967e+03         </td><td>1.449569e+04          </td><td>-2.776345e+04         </td><td>8.295721e+04          </td><td>1.107207e+05          </td><td> 1.334125             </td><td>  2.464734            </td><td>1.028698e+03          </td></tr>\n",
       "\t<tr><td>216                   </td><td>.hat                  </td><td>294                   </td><td>6.802721e-03          </td><td>2.256456e-02          </td><td> 4.026812e-03         </td><td> 4.082197e-03         </td><td>6.326535e-04          </td><td> 3.402024e-03         </td><td>3.682694e-01          </td><td>3.648674e-01          </td><td>14.279242             </td><td>221.964545            </td><td>1.315992e-03          </td></tr>\n",
       "</tbody>\n",
       "</table>\n"
      ],
      "text/latex": [
       "\\begin{tabular}{r|llllllllllllll}\n",
       " DRG.code & column & n & mean & sd & median & trimmed & mad & min & max & range & skew & kurtosis & se\\\\\n",
       "\\hline\n",
       "\t 216                    & Average.Total.Payments & 294                    & 7.215613e+04           & 1.803942e+04           &  6.796518e+04          &  7.037099e+04          & 1.534216e+04           &  4.333483e+04          & 1.534943e+05           & 1.101594e+05           &  1.175690              &   1.861853             & 1.052080e+03          \\\\\n",
       "\t 216                    & Total.Discharges       & 294                    & 2.533673e+01           & 2.414643e+01           &  1.750000e+01          &  2.047458e+01          & 8.154300e+00           &  1.100000e+01          & 2.750000e+02           & 2.640000e+02           &  5.229510              &  41.555347             & 1.408248e+00          \\\\\n",
       "\t 216                    & .fitted                & 294                    & 7.215613e+04           & 3.782129e+03           &  7.092864e+04          &  7.139456e+04          & 1.277233e+03           &  6.991053e+04          & 1.112617e+05           & 4.135113e+04           &  5.229510              &  41.555347             & 2.205782e+02          \\\\\n",
       "\t 216                    & .se.fit                & 294                    & 1.262349e+03           & 7.293624e+02           &  1.121203e+03          &  1.127253e+03          & 8.832183e+01           &  1.030558e+03          & 1.072227e+04           & 9.691708e+03           &  8.848175              &  99.545035             & 4.253728e+01          \\\\\n",
       "\t 216                    & .resid                 & 294                    & 4.170451e-13           & 1.763849e+04           & -4.326200e+03          & -1.950967e+03          & 1.449569e+04           & -2.776345e+04          & 8.295721e+04           & 1.107207e+05           &  1.334125              &   2.464734             & 1.028698e+03          \\\\\n",
       "\t 216                    & .hat                   & 294                    & 6.802721e-03           & 2.256456e-02           &  4.026812e-03          &  4.082197e-03          & 6.326535e-04           &  3.402024e-03          & 3.682694e-01           & 3.648674e-01           & 14.279242              & 221.964545             & 1.315992e-03          \\\\\n",
       "\\end{tabular}\n"
      ],
      "text/plain": [
       "  DRG.code column                 n   mean         sd           median       \n",
       "1 216      Average.Total.Payments 294 7.215613e+04 1.803942e+04  6.796518e+04\n",
       "2 216      Total.Discharges       294 2.533673e+01 2.414643e+01  1.750000e+01\n",
       "3 216      .fitted                294 7.215613e+04 3.782129e+03  7.092864e+04\n",
       "4 216      .se.fit                294 1.262349e+03 7.293624e+02  1.121203e+03\n",
       "5 216      .resid                 294 4.170451e-13 1.763849e+04 -4.326200e+03\n",
       "6 216      .hat                   294 6.802721e-03 2.256456e-02  4.026812e-03\n",
       "  trimmed       mad          min           max          range        skew     \n",
       "1  7.037099e+04 1.534216e+04  4.333483e+04 1.534943e+05 1.101594e+05  1.175690\n",
       "2  2.047458e+01 8.154300e+00  1.100000e+01 2.750000e+02 2.640000e+02  5.229510\n",
       "3  7.139456e+04 1.277233e+03  6.991053e+04 1.112617e+05 4.135113e+04  5.229510\n",
       "4  1.127253e+03 8.832183e+01  1.030558e+03 1.072227e+04 9.691708e+03  8.848175\n",
       "5 -1.950967e+03 1.449569e+04 -2.776345e+04 8.295721e+04 1.107207e+05  1.334125\n",
       "6  4.082197e-03 6.326535e-04  3.402024e-03 3.682694e-01 3.648674e-01 14.279242\n",
       "  kurtosis   se          \n",
       "1   1.861853 1.052080e+03\n",
       "2  41.555347 1.408248e+00\n",
       "3  41.555347 2.205782e+02\n",
       "4  99.545035 4.253728e+01\n",
       "5   2.464734 1.028698e+03\n",
       "6 221.964545 1.315992e-03"
      ]
     },
     "metadata": {},
     "output_type": "display_data"
    }
   ],
   "source": [
    "## augment it with more info\n",
    "df %>%\n",
    "    group_by(DRG.code) %>%\n",
    "    do(\n",
    "        lm(Average.Total.Payments ~ Total.Discharges, data=.)\n",
    "        %>% augment %>% tidy\n",
    "    ) %>%\n",
    "    head"
   ]
  },
  {
   "cell_type": "markdown",
   "metadata": {},
   "source": [
    "Of course, you can use other models: `glm()`, correlations, wilcoxon, and other hypothesis tests."
   ]
  },
  {
   "cell_type": "code",
   "execution_count": 41,
   "metadata": {
    "collapsed": false
   },
   "outputs": [
    {
     "data": {
      "text/html": [
       "<table>\n",
       "<thead><tr><th scope=col>DRG.code</th><th scope=col>estimate</th><th scope=col>statistic</th><th scope=col>p.value</th><th scope=col>parameter</th><th scope=col>conf.low</th><th scope=col>conf.high</th><th scope=col>method</th><th scope=col>alternative</th></tr></thead>\n",
       "<tbody>\n",
       "\t<tr><td>216                                 </td><td>0.9352894                           </td><td>45.16239                            </td><td>9.225727e-134                       </td><td>292                                 </td><td>0.9192473                           </td><td>0.9482306                           </td><td>Pearson's product-moment correlation</td><td>two.sided                           </td></tr>\n",
       "\t<tr><td>217                                 </td><td>0.9085970                           </td><td>24.51522                            </td><td> 5.450751e-50                       </td><td>127                                 </td><td>0.8728239                           </td><td>0.9346586                           </td><td>Pearson's product-moment correlation</td><td>two.sided                           </td></tr>\n",
       "\t<tr><td>219                                 </td><td>0.9208468                           </td><td>51.57816                            </td><td>3.132612e-197                       </td><td>477                                 </td><td>0.9059999                           </td><td>0.9334305                           </td><td>Pearson's product-moment correlation</td><td>two.sided                           </td></tr>\n",
       "\t<tr><td>220                                 </td><td>0.8856615                           </td><td>44.24160                            </td><td>2.199678e-181                       </td><td>538                                 </td><td>0.8660001                           </td><td>0.9025887                           </td><td>Pearson's product-moment correlation</td><td>two.sided                           </td></tr>\n",
       "\t<tr><td>221                                 </td><td>0.8854031                           </td><td>21.46616                            </td><td> 4.433635e-44                       </td><td>127                                 </td><td>0.8413073                           </td><td>0.9177931                           </td><td>Pearson's product-moment correlation</td><td>two.sided                           </td></tr>\n",
       "\t<tr><td>226                                 </td><td>0.8658425                           </td><td>14.98734                            </td><td> 2.931131e-24                       </td><td> 75                                 </td><td>0.7962881                           </td><td>0.9128014                           </td><td>Pearson's product-moment correlation</td><td>two.sided                           </td></tr>\n",
       "</tbody>\n",
       "</table>\n"
      ],
      "text/latex": [
       "\\begin{tabular}{r|lllllllll}\n",
       " DRG.code & estimate & statistic & p.value & parameter & conf.low & conf.high & method & alternative\\\\\n",
       "\\hline\n",
       "\t 216                                  & 0.9352894                            & 45.16239                             & 9.225727e-134                        & 292                                  & 0.9192473                            & 0.9482306                            & Pearson's product-moment correlation & two.sided                           \\\\\n",
       "\t 217                                  & 0.9085970                            & 24.51522                             &  5.450751e-50                        & 127                                  & 0.8728239                            & 0.9346586                            & Pearson's product-moment correlation & two.sided                           \\\\\n",
       "\t 219                                  & 0.9208468                            & 51.57816                             & 3.132612e-197                        & 477                                  & 0.9059999                            & 0.9334305                            & Pearson's product-moment correlation & two.sided                           \\\\\n",
       "\t 220                                  & 0.8856615                            & 44.24160                             & 2.199678e-181                        & 538                                  & 0.8660001                            & 0.9025887                            & Pearson's product-moment correlation & two.sided                           \\\\\n",
       "\t 221                                  & 0.8854031                            & 21.46616                             &  4.433635e-44                        & 127                                  & 0.8413073                            & 0.9177931                            & Pearson's product-moment correlation & two.sided                           \\\\\n",
       "\t 226                                  & 0.8658425                            & 14.98734                             &  2.931131e-24                        &  75                                  & 0.7962881                            & 0.9128014                            & Pearson's product-moment correlation & two.sided                           \\\\\n",
       "\\end{tabular}\n"
      ],
      "text/plain": [
       "  DRG.code estimate  statistic p.value       parameter conf.low  conf.high\n",
       "1 216      0.9352894 45.16239  9.225727e-134 292       0.9192473 0.9482306\n",
       "2 217      0.9085970 24.51522   5.450751e-50 127       0.8728239 0.9346586\n",
       "3 219      0.9208468 51.57816  3.132612e-197 477       0.9059999 0.9334305\n",
       "4 220      0.8856615 44.24160  2.199678e-181 538       0.8660001 0.9025887\n",
       "5 221      0.8854031 21.46616   4.433635e-44 127       0.8413073 0.9177931\n",
       "6 226      0.8658425 14.98734   2.931131e-24  75       0.7962881 0.9128014\n",
       "  method                               alternative\n",
       "1 Pearson's product-moment correlation two.sided  \n",
       "2 Pearson's product-moment correlation two.sided  \n",
       "3 Pearson's product-moment correlation two.sided  \n",
       "4 Pearson's product-moment correlation two.sided  \n",
       "5 Pearson's product-moment correlation two.sided  \n",
       "6 Pearson's product-moment correlation two.sided  "
      ]
     },
     "metadata": {},
     "output_type": "display_data"
    }
   ],
   "source": [
    "## example: correlations\n",
    "df %>%\n",
    "    group_by(DRG.code) %>%\n",
    "    do(\n",
    "        cor.test(.$Average.Total.Payments, .$Average.Medicare.Payments) %>% tidy \n",
    "    )  %>%\n",
    "    head"
   ]
  },
  {
   "cell_type": "markdown",
   "metadata": {},
   "source": [
    "### Streamline your workflow by saving models into data frame"
   ]
  },
  {
   "cell_type": "code",
   "execution_count": 42,
   "metadata": {
    "collapsed": true
   },
   "outputs": [],
   "source": [
    "# assign lm output to new variable `fit`\n",
    "regressions <- df %>% group_by(DRG.code) %>%\n",
    "    do(fit = lm(Average.Medicare.Payments ~ Total.Discharges, .))"
   ]
  },
  {
   "cell_type": "code",
   "execution_count": 43,
   "metadata": {
    "collapsed": false
   },
   "outputs": [],
   "source": [
    "# ugly output in jupyter. models are saved inside data frame celss\n",
    "# regressions[1,]"
   ]
  },
  {
   "cell_type": "code",
   "execution_count": 44,
   "metadata": {
    "collapsed": false
   },
   "outputs": [
    {
     "data": {
      "text/html": [
       "<table>\n",
       "<thead><tr><th scope=col>DRG.code</th><th scope=col>term</th><th scope=col>estimate</th><th scope=col>std.error</th><th scope=col>statistic</th><th scope=col>p.value</th></tr></thead>\n",
       "<tbody>\n",
       "\t<tr><td>216             </td><td>(Intercept)     </td><td>63393.24806     </td><td>1325.74302      </td><td>47.817146       </td><td>3.815798e-140   </td></tr>\n",
       "\t<tr><td>216             </td><td>Total.Discharges</td><td>  111.79943     </td><td>  37.90907      </td><td> 2.949148       </td><td> 3.444175e-03   </td></tr>\n",
       "\t<tr><td>217             </td><td>(Intercept)     </td><td>40006.31913     </td><td>1126.27338      </td><td>35.520967       </td><td> 8.031475e-68   </td></tr>\n",
       "\t<tr><td>217             </td><td>Total.Discharges</td><td>  102.29156     </td><td>  33.89280      </td><td> 3.018091       </td><td> 3.074579e-03   </td></tr>\n",
       "\t<tr><td>219             </td><td>(Intercept)     </td><td>51946.88314     </td><td> 700.17204      </td><td>74.191599       </td><td>4.362062e-264   </td></tr>\n",
       "\t<tr><td>219             </td><td>Total.Discharges</td><td>   50.97673     </td><td>  12.50424      </td><td> 4.076755       </td><td> 5.349974e-05   </td></tr>\n",
       "</tbody>\n",
       "</table>\n"
      ],
      "text/latex": [
       "\\begin{tabular}{r|llllll}\n",
       " DRG.code & term & estimate & std.error & statistic & p.value\\\\\n",
       "\\hline\n",
       "\t 216              & (Intercept)      & 63393.24806      & 1325.74302       & 47.817146        & 3.815798e-140   \\\\\n",
       "\t 216              & Total.Discharges &   111.79943      &   37.90907       &  2.949148        &  3.444175e-03   \\\\\n",
       "\t 217              & (Intercept)      & 40006.31913      & 1126.27338       & 35.520967        &  8.031475e-68   \\\\\n",
       "\t 217              & Total.Discharges &   102.29156      &   33.89280       &  3.018091        &  3.074579e-03   \\\\\n",
       "\t 219              & (Intercept)      & 51946.88314      &  700.17204       & 74.191599        & 4.362062e-264   \\\\\n",
       "\t 219              & Total.Discharges &    50.97673      &   12.50424       &  4.076755        &  5.349974e-05   \\\\\n",
       "\\end{tabular}\n"
      ],
      "text/plain": [
       "  DRG.code term             estimate    std.error  statistic p.value      \n",
       "1 216      (Intercept)      63393.24806 1325.74302 47.817146 3.815798e-140\n",
       "2 216      Total.Discharges   111.79943   37.90907  2.949148  3.444175e-03\n",
       "3 217      (Intercept)      40006.31913 1126.27338 35.520967  8.031475e-68\n",
       "4 217      Total.Discharges   102.29156   33.89280  3.018091  3.074579e-03\n",
       "5 219      (Intercept)      51946.88314  700.17204 74.191599 4.362062e-264\n",
       "6 219      Total.Discharges    50.97673   12.50424  4.076755  5.349974e-05"
      ]
     },
     "metadata": {},
     "output_type": "display_data"
    }
   ],
   "source": [
    "# tidy it up:\n",
    "regressions %>% tidy(fit) %>% head"
   ]
  },
  {
   "cell_type": "markdown",
   "metadata": {},
   "source": [
    "### Broom Application: visualize p-values"
   ]
  },
  {
   "cell_type": "code",
   "execution_count": 45,
   "metadata": {
    "collapsed": true
   },
   "outputs": [],
   "source": [
    "df2 <- df %>% filter(Provider.State %in% c(\"DC\", \"MD\", \"VA\"))"
   ]
  },
  {
   "cell_type": "code",
   "execution_count": 46,
   "metadata": {
    "collapsed": true
   },
   "outputs": [],
   "source": [
    "result <- df2 %>%\n",
    "    group_by(DRG.code) %>%\n",
    "    do(\n",
    "        fit=lm(Average.Total.Payments ~ Total.Discharges + factor(Provider.State), data=.)\n",
    "    )"
   ]
  },
  {
   "cell_type": "code",
   "execution_count": 47,
   "metadata": {
    "collapsed": false
   },
   "outputs": [],
   "source": [
    "#result %>% head"
   ]
  },
  {
   "cell_type": "code",
   "execution_count": 48,
   "metadata": {
    "collapsed": false
   },
   "outputs": [
    {
     "name": "stderr",
     "output_type": "stream",
     "text": [
      "`stat_bin()` using `bins = 30`. Pick better value with `binwidth`.\n"
     ]
    },
    {
     "data": {},
     "metadata": {},
     "output_type": "display_data"
    },
    {
     "data": {
      "image/png": "[encoded data removed]",
      "text/plain": [
       "plot without title"
      ]
     },
     "metadata": {},
     "output_type": "display_data"
    }
   ],
   "source": [
    "# We can explore the distribution of p-values\n",
    "result %>% tidy(fit) %>% qplot(p.value, data=.) + facet_wrap(~term)#~term gives four panels"
   ]
  },
  {
   "cell_type": "code",
   "execution_count": 49,
   "metadata": {
    "collapsed": false
   },
   "outputs": [
    {
     "data": {
      "text/html": [
       "<table>\n",
       "<thead><tr><th scope=col>DRG.code</th><th scope=col>term</th><th scope=col>estimate</th><th scope=col>std.error</th><th scope=col>statistic</th><th scope=col>p.value</th></tr></thead>\n",
       "<tbody>\n",
       "\t<tr><td>237             </td><td>Total.Discharges</td><td>481.18414       </td><td>98.51047        </td><td>4.884599        </td><td>4.153115e-05    </td></tr>\n",
       "\t<tr><td>219             </td><td>Total.Discharges</td><td>208.01169       </td><td>54.83342        </td><td>3.793520        </td><td>1.594382e-03    </td></tr>\n",
       "\t<tr><td>251             </td><td>Total.Discharges</td><td>115.29418       </td><td>36.68274        </td><td>3.143009        </td><td>4.557658e-03    </td></tr>\n",
       "\t<tr><td>220             </td><td>Total.Discharges</td><td> 99.19749       </td><td>35.50398        </td><td>2.793982        </td><td>1.087536e-02    </td></tr>\n",
       "\t<tr><td>280             </td><td>Total.Discharges</td><td> 39.57979       </td><td>21.01791        </td><td>1.883146        </td><td>6.277250e-02    </td></tr>\n",
       "\t<tr><td>236             </td><td>Total.Discharges</td><td> 74.79415       </td><td>38.66856        </td><td>1.934237        </td><td>6.547991e-02    </td></tr>\n",
       "</tbody>\n",
       "</table>\n"
      ],
      "text/latex": [
       "\\begin{tabular}{r|llllll}\n",
       " DRG.code & term & estimate & std.error & statistic & p.value\\\\\n",
       "\\hline\n",
       "\t 237              & Total.Discharges & 481.18414        & 98.51047         & 4.884599         & 4.153115e-05    \\\\\n",
       "\t 219              & Total.Discharges & 208.01169        & 54.83342         & 3.793520         & 1.594382e-03    \\\\\n",
       "\t 251              & Total.Discharges & 115.29418        & 36.68274         & 3.143009         & 4.557658e-03    \\\\\n",
       "\t 220              & Total.Discharges &  99.19749        & 35.50398         & 2.793982         & 1.087536e-02    \\\\\n",
       "\t 280              & Total.Discharges &  39.57979        & 21.01791         & 1.883146         & 6.277250e-02    \\\\\n",
       "\t 236              & Total.Discharges &  74.79415        & 38.66856         & 1.934237         & 6.547991e-02    \\\\\n",
       "\\end{tabular}\n"
      ],
      "text/plain": [
       "  DRG.code term             estimate  std.error statistic p.value     \n",
       "1 237      Total.Discharges 481.18414 98.51047  4.884599  4.153115e-05\n",
       "2 219      Total.Discharges 208.01169 54.83342  3.793520  1.594382e-03\n",
       "3 251      Total.Discharges 115.29418 36.68274  3.143009  4.557658e-03\n",
       "4 220      Total.Discharges  99.19749 35.50398  2.793982  1.087536e-02\n",
       "5 280      Total.Discharges  39.57979 21.01791  1.883146  6.277250e-02\n",
       "6 236      Total.Discharges  74.79415 38.66856  1.934237  6.547991e-02"
      ]
     },
     "metadata": {},
     "output_type": "display_data"
    }
   ],
   "source": [
    "## Which DRG codes give the smallest p-value?\n",
    "result %>% tidy(fit) %>% filter(term==\"Total.Discharges\") %>% arrange(p.value) %>% head"
   ]
  },
  {
   "cell_type": "code",
   "execution_count": 50,
   "metadata": {
    "collapsed": false
   },
   "outputs": [
    {
     "data": {
      "text/html": [
       "<table>\n",
       "<thead><tr><th scope=col>DRG.code</th><th scope=col>r.squared</th><th scope=col>adj.r.squared</th><th scope=col>sigma</th><th scope=col>statistic</th><th scope=col>p.value</th><th scope=col>df</th><th scope=col>logLik</th><th scope=col>AIC</th><th scope=col>BIC</th><th scope=col>deviance</th><th scope=col>df.residual</th></tr></thead>\n",
       "<tbody>\n",
       "\t<tr><td>220         </td><td>0.6925385   </td><td>0.6486154   </td><td>6713.384    </td><td>15.767077   </td><td>1.343611e-05</td><td>4           </td><td>-253.5905   </td><td>517.1810    </td><td>523.2754    </td><td> 946460141  </td><td>21          </td></tr>\n",
       "\t<tr><td>251         </td><td>0.6068032   </td><td>0.5555166   </td><td>3412.545    </td><td>11.831626   </td><td>6.870256e-05</td><td>4           </td><td>-255.7975   </td><td>521.5950    </td><td>528.0741    </td><td> 267845656  </td><td>23          </td></tr>\n",
       "\t<tr><td>244         </td><td>0.5809700   </td><td>0.5460508   </td><td>2933.228    </td><td>16.637567   </td><td>6.018540e-07</td><td>4           </td><td>-374.0047   </td><td>758.0094    </td><td>766.4538    </td><td> 309737755  </td><td>36          </td></tr>\n",
       "\t<tr><td>219         </td><td>0.6158028   </td><td>0.5437658   </td><td>8409.516    </td><td> 8.548425   </td><td>1.285525e-03</td><td>4           </td><td>-206.8897   </td><td>423.7794    </td><td>428.7581    </td><td>1131519475  </td><td>16          </td></tr>\n",
       "\t<tr><td>234         </td><td>0.5441843   </td><td>0.4790677   </td><td>6335.724    </td><td> 8.357083   </td><td>7.556327e-04</td><td>4           </td><td>-252.1430   </td><td>514.2861    </td><td>520.3804    </td><td> 842969339  </td><td>21          </td></tr>\n",
       "\t<tr><td>236         </td><td>0.5362059   </td><td>0.4757110   </td><td>5364.728    </td><td> 8.863657   </td><td>4.348276e-04</td><td>4           </td><td>-268.0119   </td><td>546.0239    </td><td>552.5031    </td><td> 661947090  </td><td>23          </td></tr>\n",
       "</tbody>\n",
       "</table>\n"
      ],
      "text/latex": [
       "\\begin{tabular}{r|llllllllllll}\n",
       " DRG.code & r.squared & adj.r.squared & sigma & statistic & p.value & df & logLik & AIC & BIC & deviance & df.residual\\\\\n",
       "\\hline\n",
       "\t 220          & 0.6925385    & 0.6486154    & 6713.384     & 15.767077    & 1.343611e-05 & 4            & -253.5905    & 517.1810     & 523.2754     &  946460141   & 21          \\\\\n",
       "\t 251          & 0.6068032    & 0.5555166    & 3412.545     & 11.831626    & 6.870256e-05 & 4            & -255.7975    & 521.5950     & 528.0741     &  267845656   & 23          \\\\\n",
       "\t 244          & 0.5809700    & 0.5460508    & 2933.228     & 16.637567    & 6.018540e-07 & 4            & -374.0047    & 758.0094     & 766.4538     &  309737755   & 36          \\\\\n",
       "\t 219          & 0.6158028    & 0.5437658    & 8409.516     &  8.548425    & 1.285525e-03 & 4            & -206.8897    & 423.7794     & 428.7581     & 1131519475   & 16          \\\\\n",
       "\t 234          & 0.5441843    & 0.4790677    & 6335.724     &  8.357083    & 7.556327e-04 & 4            & -252.1430    & 514.2861     & 520.3804     &  842969339   & 21          \\\\\n",
       "\t 236          & 0.5362059    & 0.4757110    & 5364.728     &  8.863657    & 4.348276e-04 & 4            & -268.0119    & 546.0239     & 552.5031     &  661947090   & 23          \\\\\n",
       "\\end{tabular}\n"
      ],
      "text/plain": [
       "  DRG.code r.squared adj.r.squared sigma    statistic p.value      df logLik   \n",
       "1 220      0.6925385 0.6486154     6713.384 15.767077 1.343611e-05 4  -253.5905\n",
       "2 251      0.6068032 0.5555166     3412.545 11.831626 6.870256e-05 4  -255.7975\n",
       "3 244      0.5809700 0.5460508     2933.228 16.637567 6.018540e-07 4  -374.0047\n",
       "4 219      0.6158028 0.5437658     8409.516  8.548425 1.285525e-03 4  -206.8897\n",
       "5 234      0.5441843 0.4790677     6335.724  8.357083 7.556327e-04 4  -252.1430\n",
       "6 236      0.5362059 0.4757110     5364.728  8.863657 4.348276e-04 4  -268.0119\n",
       "  AIC      BIC      deviance   df.residual\n",
       "1 517.1810 523.2754  946460141 21         \n",
       "2 521.5950 528.0741  267845656 23         \n",
       "3 758.0094 766.4538  309737755 36         \n",
       "4 423.7794 428.7581 1131519475 16         \n",
       "5 514.2861 520.3804  842969339 21         \n",
       "6 546.0239 552.5031  661947090 23         "
      ]
     },
     "metadata": {},
     "output_type": "display_data"
    }
   ],
   "source": [
    "## we can sort by a fit statistic\n",
    "## Question: what is the \"statistic\" here?\n",
    "result %>% glance(fit) %>% arrange(desc(adj.r.squared)) %>% head"
   ]
  },
  {
   "cell_type": "code",
   "execution_count": 51,
   "metadata": {
    "collapsed": false
   },
   "outputs": [
    {
     "data": {
      "text/html": [
       "<table>\n",
       "<thead><tr><th scope=col>DRG.code</th><th scope=col>term</th><th scope=col>estimate</th><th scope=col>std.error</th><th scope=col>statistic</th><th scope=col>p.value</th></tr></thead>\n",
       "<tbody>\n",
       "\t<tr><td>220                     </td><td>(Intercept)             </td><td>38402.10029             </td><td>5146.62951              </td><td> 7.461602               </td><td>2.469971e-07            </td></tr>\n",
       "\t<tr><td>220                     </td><td>Total.Discharges        </td><td>   99.19749             </td><td>  35.50398              </td><td> 2.793982               </td><td>1.087536e-02            </td></tr>\n",
       "\t<tr><td>220                     </td><td>factor(Provider.State)MD</td><td> 8597.68746             </td><td>5252.41564              </td><td> 1.636902               </td><td>1.165505e-01            </td></tr>\n",
       "\t<tr><td>220                     </td><td>factor(Provider.State)VA</td><td>-7535.51870             </td><td>5095.10376              </td><td>-1.478973               </td><td>1.539923e-01            </td></tr>\n",
       "</tbody>\n",
       "</table>\n"
      ],
      "text/latex": [
       "\\begin{tabular}{r|llllll}\n",
       " DRG.code & term & estimate & std.error & statistic & p.value\\\\\n",
       "\\hline\n",
       "\t 220                      & (Intercept)              & 38402.10029              & 5146.62951               &  7.461602                & 2.469971e-07            \\\\\n",
       "\t 220                      & Total.Discharges         &    99.19749              &   35.50398               &  2.793982                & 1.087536e-02            \\\\\n",
       "\t 220                      & factor(Provider.State)MD &  8597.68746              & 5252.41564               &  1.636902                & 1.165505e-01            \\\\\n",
       "\t 220                      & factor(Provider.State)VA & -7535.51870              & 5095.10376               & -1.478973                & 1.539923e-01            \\\\\n",
       "\\end{tabular}\n"
      ],
      "text/plain": [
       "  DRG.code term                     estimate    std.error  statistic\n",
       "1 220      (Intercept)              38402.10029 5146.62951  7.461602\n",
       "2 220      Total.Discharges            99.19749   35.50398  2.793982\n",
       "3 220      factor(Provider.State)MD  8597.68746 5252.41564  1.636902\n",
       "4 220      factor(Provider.State)VA -7535.51870 5095.10376 -1.478973\n",
       "  p.value     \n",
       "1 2.469971e-07\n",
       "2 1.087536e-02\n",
       "3 1.165505e-01\n",
       "4 1.539923e-01"
      ]
     },
     "metadata": {},
     "output_type": "display_data"
    }
   ],
   "source": [
    "## you can easily filter the tidy output\n",
    "result %>% filter(DRG.code==220) %>% tidy(fit) %>% head"
   ]
  },
  {
   "cell_type": "markdown",
   "metadata": {},
   "source": [
    "## Broom: Summary\n",
    "\n",
    "Use `broom`, along with `dplyr`, to improve your modeling workflow by saving model result in a dataframe. Here are the three helper functions:\n",
    "\n",
    "    tidy()             #tidy up model output\n",
    "    glance()           #return summary of model fit\n",
    "    augment()          #augment model output with more info (residuals, predictions) ( before tidy() )\n",
    "\n",
    "In summary, with this workflow:\n",
    "\n",
    "        A new class of analyses and visualizations becomes straightforward. This includes\n",
    "\n",
    "        * Sorting by p-value or estimate to find the most significant terms across all tests\n",
    "        * P-value histograms\n",
    "        * Volcano plots comparing p-values to effect size estimates\n",
    "\n",
    "        In each of these cases, we can easily filter, facet, or distinguish\n",
    "        based on the term column. In short, this makes the tools of tidy data\n",
    "        analysis available for the results of data analysis and models, not\n",
    "        just the inputs.\n",
    "        \n",
    "(from the `broom` vignette)"
   ]
  },
  {
   "cell_type": "markdown",
   "metadata": {},
   "source": [
    "## Broom: Exercises\n",
    "\n",
    "1. Subset `cardiac` to provider \"360006\", then summarize a linear regression for each DRG Code.\n",
    "\n",
    "2. For each Provider, return top DRG.codes which provide best model fit, using a regression of\n",
    "Average.Total.Payment onto Provider.State and Total.Discharges.\n",
    "\n",
    "3. Create a target y: 0/1, where 1 means Average.Total.Payments is greater than or equal to its mean across each DRG.code, and 0 otherwise. Run a logistic regression, and return model fit summaries."
   ]
  },
  {
   "cell_type": "code",
   "execution_count": 52,
   "metadata": {
    "collapsed": false
   },
   "outputs": [
    {
     "data": {
      "text/html": [
       "<table>\n",
       "<thead><tr><th scope=col>y</th></tr></thead>\n",
       "<tbody>\n",
       "\t<tr><td>0</td></tr>\n",
       "\t<tr><td>0</td></tr>\n",
       "\t<tr><td>0</td></tr>\n",
       "\t<tr><td>0</td></tr>\n",
       "\t<tr><td>0</td></tr>\n",
       "\t<tr><td>0</td></tr>\n",
       "</tbody>\n",
       "</table>\n"
      ],
      "text/latex": [
       "\\begin{tabular}{r|l}\n",
       " y\\\\\n",
       "\\hline\n",
       "\t 0\\\\\n",
       "\t 0\\\\\n",
       "\t 0\\\\\n",
       "\t 0\\\\\n",
       "\t 0\\\\\n",
       "\t 0\\\\\n",
       "\\end{tabular}\n"
      ],
      "text/plain": [
       "  y\n",
       "1 0\n",
       "2 0\n",
       "3 0\n",
       "4 0\n",
       "5 0\n",
       "6 0"
      ]
     },
     "metadata": {},
     "output_type": "display_data"
    }
   ],
   "source": [
    "#fun(x,y)={if x>y then 1 else 0}\n",
    "per_code_avg <- cardiac %>% group_by(DRG.code) %>% summarise(avg=mean(Average.Total.Payments)) \n",
    "out<-left_join(cardiac,per_code_avg,\"DRG.code\")%>% mutate (.,y=ifelse(Average.Total.Payments>avg,1,0)) \n",
    "out %>% select(y)%>%head\n",
    "#lapply(out[,\"y\"], as.numeric) %>% head"
   ]
  },
  {
   "cell_type": "code",
   "execution_count": 55,
   "metadata": {
    "collapsed": false
   },
   "outputs": [],
   "source": [
    "#as.numeric(out$y) #%>% head\n",
    "fit<-glm(data=out,y~Provider.State + Total.Discharges,family='binomial') "
   ]
  },
  {
   "cell_type": "code",
   "execution_count": 59,
   "metadata": {
    "collapsed": false
   },
   "outputs": [],
   "source": [
    "pred<-predict(fit,out, type = \"response\")"
   ]
  },
  {
   "cell_type": "code",
   "execution_count": 60,
   "metadata": {
    "collapsed": false
   },
   "outputs": [
    {
     "data": {
      "text/html": [
       "<dl class=dl-horizontal>\n",
       "\t<dt>1</dt>\n",
       "\t\t<dd>0.0313472071598981</dd>\n",
       "\t<dt>2</dt>\n",
       "\t\t<dd>0.0333234484959026</dd>\n",
       "\t<dt>3</dt>\n",
       "\t\t<dd>0.0323207309259272</dd>\n",
       "\t<dt>4</dt>\n",
       "\t\t<dd>0.0319278629110872</dd>\n",
       "\t<dt>5</dt>\n",
       "\t\t<dd>0.0317331644923434</dd>\n",
       "\t<dt>6</dt>\n",
       "\t\t<dd>0.0335275662262282</dd>\n",
       "</dl>\n"
      ],
      "text/latex": [
       "\\begin{description*}\n",
       "\\item[1] 0.0313472071598981\n",
       "\\item[2] 0.0333234484959026\n",
       "\\item[3] 0.0323207309259272\n",
       "\\item[4] 0.0319278629110872\n",
       "\\item[5] 0.0317331644923434\n",
       "\\item[6] 0.0335275662262282\n",
       "\\end{description*}\n"
      ],
      "text/markdown": [
       "1\n",
       ":   0.03134720715989812\n",
       ":   0.03332344849590263\n",
       ":   0.03232073092592724\n",
       ":   0.03192786291108725\n",
       ":   0.03173316449234346\n",
       ":   0.0335275662262282\n",
       "\n"
      ],
      "text/plain": [
       "         1          2          3          4          5          6 \n",
       "0.03134721 0.03332345 0.03232073 0.03192786 0.03173316 0.03352757 "
      ]
     },
     "metadata": {},
     "output_type": "display_data"
    }
   ],
   "source": [
    "pred %>% head"
   ]
  },
  {
   "cell_type": "code",
   "execution_count": 69,
   "metadata": {
    "collapsed": false
   },
   "outputs": [
    {
     "data": {
      "text/plain": [
       "   \n",
       "        0     1\n",
       "  0 12551  1521\n",
       "  1  3887  4437"
      ]
     },
     "metadata": {},
     "output_type": "display_data"
    }
   ],
   "source": [
    "(t <- table(out$y, round(pred)))"
   ]
  },
  {
   "cell_type": "code",
   "execution_count": 67,
   "metadata": {
    "collapsed": true
   },
   "outputs": [],
   "source": [
    "?table"
   ]
  },
  {
   "cell_type": "code",
   "execution_count": 76,
   "metadata": {
    "collapsed": false
   },
   "outputs": [
    {
     "data": {
      "text/html": [
       "<ol class=list-inline>\n",
       "\t<li>'DRG.Definition'</li>\n",
       "\t<li>'DRG.code'</li>\n",
       "\t<li>'DRG.text'</li>\n",
       "\t<li>'Provider.Id'</li>\n",
       "\t<li>'Provider.Name'</li>\n",
       "\t<li>'Provider.Street.Address'</li>\n",
       "\t<li>'Provider.City'</li>\n",
       "\t<li>'Provider.State'</li>\n",
       "\t<li>'Provider.Zip.Code'</li>\n",
       "\t<li>'Hospital.Referral.Region..HRR..Description'</li>\n",
       "\t<li>'Total.Discharges'</li>\n",
       "\t<li>'Average.Covered.Charges'</li>\n",
       "\t<li>'Average.Total.Payments'</li>\n",
       "\t<li>'Average.Medicare.Payments'</li>\n",
       "</ol>\n"
      ],
      "text/latex": [
       "\\begin{enumerate*}\n",
       "\\item 'DRG.Definition'\n",
       "\\item 'DRG.code'\n",
       "\\item 'DRG.text'\n",
       "\\item 'Provider.Id'\n",
       "\\item 'Provider.Name'\n",
       "\\item 'Provider.Street.Address'\n",
       "\\item 'Provider.City'\n",
       "\\item 'Provider.State'\n",
       "\\item 'Provider.Zip.Code'\n",
       "\\item 'Hospital.Referral.Region..HRR..Description'\n",
       "\\item 'Total.Discharges'\n",
       "\\item 'Average.Covered.Charges'\n",
       "\\item 'Average.Total.Payments'\n",
       "\\item 'Average.Medicare.Payments'\n",
       "\\end{enumerate*}\n"
      ],
      "text/markdown": [
       "1. 'DRG.Definition'\n",
       "2. 'DRG.code'\n",
       "3. 'DRG.text'\n",
       "4. 'Provider.Id'\n",
       "5. 'Provider.Name'\n",
       "6. 'Provider.Street.Address'\n",
       "7. 'Provider.City'\n",
       "8. 'Provider.State'\n",
       "9. 'Provider.Zip.Code'\n",
       "10. 'Hospital.Referral.Region..HRR..Description'\n",
       "11. 'Total.Discharges'\n",
       "12. 'Average.Covered.Charges'\n",
       "13. 'Average.Total.Payments'\n",
       "14. 'Average.Medicare.Payments'\n",
       "\n",
       "\n"
      ],
      "text/plain": [
       " [1] \"DRG.Definition\"                            \n",
       " [2] \"DRG.code\"                                  \n",
       " [3] \"DRG.text\"                                  \n",
       " [4] \"Provider.Id\"                               \n",
       " [5] \"Provider.Name\"                             \n",
       " [6] \"Provider.Street.Address\"                   \n",
       " [7] \"Provider.City\"                             \n",
       " [8] \"Provider.State\"                            \n",
       " [9] \"Provider.Zip.Code\"                         \n",
       "[10] \"Hospital.Referral.Region..HRR..Description\"\n",
       "[11] \"Total.Discharges\"                          \n",
       "[12] \"Average.Covered.Charges\"                   \n",
       "[13] \"Average.Total.Payments\"                    \n",
       "[14] \"Average.Medicare.Payments\"                 "
      ]
     },
     "metadata": {},
     "output_type": "display_data"
    }
   ],
   "source": [
    "cardiac %>% names"
   ]
  },
  {
   "cell_type": "code",
   "execution_count": 86,
   "metadata": {
    "collapsed": true
   },
   "outputs": [
    {
     "data": {
      "text/html": [
       "<table>\n",
       "<thead><tr><th scope=col>DRG.code</th><th scope=col>term</th><th scope=col>estimate</th><th scope=col>std.error</th><th scope=col>statistic</th><th scope=col>p.value</th></tr></thead>\n",
       "<tbody>\n",
       "\t<tr><td>216        </td><td>(Intercept)</td><td>62004.267  </td><td>NaN        </td><td>NaN        </td><td>NaN        </td></tr>\n",
       "\t<tr><td>219        </td><td>(Intercept)</td><td>45223.698  </td><td>NaN        </td><td>NaN        </td><td>NaN        </td></tr>\n",
       "\t<tr><td>220        </td><td>(Intercept)</td><td>29569.301  </td><td>NaN        </td><td>NaN        </td><td>NaN        </td></tr>\n",
       "\t<tr><td>227        </td><td>(Intercept)</td><td>33384.955  </td><td>NaN        </td><td>NaN        </td><td>NaN        </td></tr>\n",
       "\t<tr><td>233        </td><td>(Intercept)</td><td>40696.850  </td><td>NaN        </td><td>NaN        </td><td>NaN        </td></tr>\n",
       "\t<tr><td>234        </td><td>(Intercept)</td><td>25700.556  </td><td>NaN        </td><td>NaN        </td><td>NaN        </td></tr>\n",
       "\t<tr><td>235        </td><td>(Intercept)</td><td>34820.308  </td><td>NaN        </td><td>NaN        </td><td>NaN        </td></tr>\n",
       "\t<tr><td>236        </td><td>(Intercept)</td><td>22968.493  </td><td>NaN        </td><td>NaN        </td><td>NaN        </td></tr>\n",
       "\t<tr><td>237        </td><td>(Intercept)</td><td>32298.878  </td><td>NaN        </td><td>NaN        </td><td>NaN        </td></tr>\n",
       "\t<tr><td>238        </td><td>(Intercept)</td><td>19794.181  </td><td>NaN        </td><td>NaN        </td><td>NaN        </td></tr>\n",
       "\t<tr><td>242        </td><td>(Intercept)</td><td>21803.886  </td><td>NaN        </td><td>NaN        </td><td>NaN        </td></tr>\n",
       "\t<tr><td>243        </td><td>(Intercept)</td><td>15854.646  </td><td>NaN        </td><td>NaN        </td><td>NaN        </td></tr>\n",
       "\t<tr><td>244        </td><td>(Intercept)</td><td>12598.036  </td><td>NaN        </td><td>NaN        </td><td>NaN        </td></tr>\n",
       "\t<tr><td>246        </td><td>(Intercept)</td><td>18727.333  </td><td>NaN        </td><td>NaN        </td><td>NaN        </td></tr>\n",
       "\t<tr><td>247        </td><td>(Intercept)</td><td>11081.671  </td><td>NaN        </td><td>NaN        </td><td>NaN        </td></tr>\n",
       "\t<tr><td>250        </td><td>(Intercept)</td><td>17819.200  </td><td>NaN        </td><td>NaN        </td><td>NaN        </td></tr>\n",
       "\t<tr><td>251        </td><td>(Intercept)</td><td>11938.833  </td><td>NaN        </td><td>NaN        </td><td>NaN        </td></tr>\n",
       "\t<tr><td>280        </td><td>(Intercept)</td><td>10515.360  </td><td>NaN        </td><td>NaN        </td><td>NaN        </td></tr>\n",
       "\t<tr><td>281        </td><td>(Intercept)</td><td> 5918.565  </td><td>NaN        </td><td>NaN        </td><td>NaN        </td></tr>\n",
       "\t<tr><td>282        </td><td>(Intercept)</td><td> 4344.846  </td><td>NaN        </td><td>NaN        </td><td>NaN        </td></tr>\n",
       "\t<tr><td>283        </td><td>(Intercept)</td><td>11459.833  </td><td>NaN        </td><td>NaN        </td><td>NaN        </td></tr>\n",
       "\t<tr><td>308        </td><td>(Intercept)</td><td> 7216.752  </td><td>NaN        </td><td>NaN        </td><td>NaN        </td></tr>\n",
       "\t<tr><td>309        </td><td>(Intercept)</td><td> 4444.576  </td><td>NaN        </td><td>NaN        </td><td>NaN        </td></tr>\n",
       "\t<tr><td>310        </td><td>(Intercept)</td><td> 2774.570  </td><td>NaN        </td><td>NaN        </td><td>NaN        </td></tr>\n",
       "</tbody>\n",
       "</table>\n"
      ],
      "text/latex": [
       "\\begin{tabular}{r|llllll}\n",
       " DRG.code & term & estimate & std.error & statistic & p.value\\\\\n",
       "\\hline\n",
       "\t 216         & (Intercept) & 62004.267   & NaN         & NaN         & NaN        \\\\\n",
       "\t 219         & (Intercept) & 45223.698   & NaN         & NaN         & NaN        \\\\\n",
       "\t 220         & (Intercept) & 29569.301   & NaN         & NaN         & NaN        \\\\\n",
       "\t 227         & (Intercept) & 33384.955   & NaN         & NaN         & NaN        \\\\\n",
       "\t 233         & (Intercept) & 40696.850   & NaN         & NaN         & NaN        \\\\\n",
       "\t 234         & (Intercept) & 25700.556   & NaN         & NaN         & NaN        \\\\\n",
       "\t 235         & (Intercept) & 34820.308   & NaN         & NaN         & NaN        \\\\\n",
       "\t 236         & (Intercept) & 22968.493   & NaN         & NaN         & NaN        \\\\\n",
       "\t 237         & (Intercept) & 32298.878   & NaN         & NaN         & NaN        \\\\\n",
       "\t 238         & (Intercept) & 19794.181   & NaN         & NaN         & NaN        \\\\\n",
       "\t 242         & (Intercept) & 21803.886   & NaN         & NaN         & NaN        \\\\\n",
       "\t 243         & (Intercept) & 15854.646   & NaN         & NaN         & NaN        \\\\\n",
       "\t 244         & (Intercept) & 12598.036   & NaN         & NaN         & NaN        \\\\\n",
       "\t 246         & (Intercept) & 18727.333   & NaN         & NaN         & NaN        \\\\\n",
       "\t 247         & (Intercept) & 11081.671   & NaN         & NaN         & NaN        \\\\\n",
       "\t 250         & (Intercept) & 17819.200   & NaN         & NaN         & NaN        \\\\\n",
       "\t 251         & (Intercept) & 11938.833   & NaN         & NaN         & NaN        \\\\\n",
       "\t 280         & (Intercept) & 10515.360   & NaN         & NaN         & NaN        \\\\\n",
       "\t 281         & (Intercept) &  5918.565   & NaN         & NaN         & NaN        \\\\\n",
       "\t 282         & (Intercept) &  4344.846   & NaN         & NaN         & NaN        \\\\\n",
       "\t 283         & (Intercept) & 11459.833   & NaN         & NaN         & NaN        \\\\\n",
       "\t 308         & (Intercept) &  7216.752   & NaN         & NaN         & NaN        \\\\\n",
       "\t 309         & (Intercept) &  4444.576   & NaN         & NaN         & NaN        \\\\\n",
       "\t 310         & (Intercept) &  2774.570   & NaN         & NaN         & NaN        \\\\\n",
       "\\end{tabular}\n"
      ],
      "text/plain": [
       "   DRG.code term        estimate  std.error statistic p.value\n",
       "1  216      (Intercept) 62004.267 NaN       NaN       NaN    \n",
       "2  219      (Intercept) 45223.698 NaN       NaN       NaN    \n",
       "3  220      (Intercept) 29569.301 NaN       NaN       NaN    \n",
       "4  227      (Intercept) 33384.955 NaN       NaN       NaN    \n",
       "5  233      (Intercept) 40696.850 NaN       NaN       NaN    \n",
       "6  234      (Intercept) 25700.556 NaN       NaN       NaN    \n",
       "7  235      (Intercept) 34820.308 NaN       NaN       NaN    \n",
       "8  236      (Intercept) 22968.493 NaN       NaN       NaN    \n",
       "9  237      (Intercept) 32298.878 NaN       NaN       NaN    \n",
       "10 238      (Intercept) 19794.181 NaN       NaN       NaN    \n",
       "11 242      (Intercept) 21803.886 NaN       NaN       NaN    \n",
       "12 243      (Intercept) 15854.646 NaN       NaN       NaN    \n",
       "13 244      (Intercept) 12598.036 NaN       NaN       NaN    \n",
       "14 246      (Intercept) 18727.333 NaN       NaN       NaN    \n",
       "15 247      (Intercept) 11081.671 NaN       NaN       NaN    \n",
       "16 250      (Intercept) 17819.200 NaN       NaN       NaN    \n",
       "17 251      (Intercept) 11938.833 NaN       NaN       NaN    \n",
       "18 280      (Intercept) 10515.360 NaN       NaN       NaN    \n",
       "19 281      (Intercept)  5918.565 NaN       NaN       NaN    \n",
       "20 282      (Intercept)  4344.846 NaN       NaN       NaN    \n",
       "21 283      (Intercept) 11459.833 NaN       NaN       NaN    \n",
       "22 308      (Intercept)  7216.752 NaN       NaN       NaN    \n",
       "23 309      (Intercept)  4444.576 NaN       NaN       NaN    \n",
       "24 310      (Intercept)  2774.570 NaN       NaN       NaN    "
      ]
     },
     "metadata": {},
     "output_type": "display_data"
    }
   ],
   "source": [
    "cardiac %>% filter(Provider.Id==\"360006\")%>%group_by(DRG.code) %>%\n",
    "    do(lm(Average.Medicare.Payments ~ Total.Discharges, .) %>% tidy ) "
   ]
  },
  {
   "cell_type": "code",
   "execution_count": 95,
   "metadata": {
    "collapsed": false
   },
   "outputs": [
    {
     "data": {
      "text/html": [
       "<table>\n",
       "<thead><tr><th scope=col>DRG.code</th></tr></thead>\n",
       "<tbody>\n",
       "\t<tr><td>217</td></tr>\n",
       "\t<tr><td>221</td></tr>\n",
       "\t<tr><td>244</td></tr>\n",
       "\t<tr><td>226</td></tr>\n",
       "\t<tr><td>233</td></tr>\n",
       "\t<tr><td>248</td></tr>\n",
       "</tbody>\n",
       "</table>\n"
      ],
      "text/latex": [
       "\\begin{tabular}{r|l}\n",
       " DRG.code\\\\\n",
       "\\hline\n",
       "\t 217\\\\\n",
       "\t 221\\\\\n",
       "\t 244\\\\\n",
       "\t 226\\\\\n",
       "\t 233\\\\\n",
       "\t 248\\\\\n",
       "\\end{tabular}\n"
      ],
      "text/plain": [
       "  DRG.code\n",
       "1 217     \n",
       "2 221     \n",
       "3 244     \n",
       "4 226     \n",
       "5 233     \n",
       "6 248     "
      ]
     },
     "metadata": {},
     "output_type": "display_data"
    }
   ],
   "source": [
    "cardiac %>% group_by(DRG.code) %>%    \n",
    "    do(lm(Average.Medicare.Payments ~ Total.Discharges + Provider.State, .) %>% \n",
    "    glance )%>% arrange(desc(r.squared)) %>% select(DRG.code) %>% head"
   ]
  },
  {
   "cell_type": "markdown",
   "metadata": {},
   "source": [
    "## Broom: Details\n",
    "\n",
    "If time allows, review this KMeans clustering vignette(): [https://cran.r-project.org/web/packages/broom/vignettes/kmeans.html](https://cran.r-project.org/web/packages/broom/vignettes/kmeans.html)\n",
    "\n",
    "See the `broom` conventions at the bottom of this link:  \n",
    "[https://cran.r-project.org/web/packages/broom/vignettes/broom.html](https://cran.r-project.org/web/packages/broom/vignettes/broom.html)"
   ]
  },
  {
   "cell_type": "markdown",
   "metadata": {
    "collapsed": true
   },
   "source": [
    "# 3. Elegant pipelines with purrr and modelr"
   ]
  },
  {
   "cell_type": "markdown",
   "metadata": {
    "collapsed": true
   },
   "source": [
    "* [`modelr` is a new package that provides helpers for modeling](https://github.com/hadley/modelr). It is actively being developed.\n",
    "* [`purrr` is for functional programming with R](https://github.com/hadley/purrr)"
   ]
  },
  {
   "cell_type": "code",
   "execution_count": 66,
   "metadata": {
    "collapsed": false
   },
   "outputs": [
    {
     "name": "stderr",
     "output_type": "stream",
     "text": [
      "\n",
      "Attaching package: ‘modelr’\n",
      "\n",
      "The following object is masked from ‘package:broom’:\n",
      "\n",
      "    bootstrap\n",
      "\n",
      "\n",
      "Attaching package: ‘purrr’\n",
      "\n",
      "The following object is masked from ‘package:caret’:\n",
      "\n",
      "    lift\n",
      "\n",
      "The following objects are masked from ‘package:dplyr’:\n",
      "\n",
      "    contains, order_by\n",
      "\n"
     ]
    }
   ],
   "source": [
    "library(modelr)\n",
    "library(purrr)"
   ]
  },
  {
   "cell_type": "markdown",
   "metadata": {
    "collapsed": true
   },
   "source": [
    "## Examples"
   ]
  },
  {
   "cell_type": "code",
   "execution_count": 67,
   "metadata": {
    "collapsed": false
   },
   "outputs": [
    {
     "data": {},
     "metadata": {},
     "output_type": "display_data"
    },
    {
     "data": {
      "image/png": "[encoded data removed]",
      "text/plain": [
       "plot without title"
      ]
     },
     "metadata": {},
     "output_type": "display_data"
    }
   ],
   "source": [
    "cardiac %>%\n",
    "    ggplot(aes(log(Total.Discharges), Average.Total.Payments)) +\n",
    "    geom_point(alpha=0.2) "
   ]
  },
  {
   "cell_type": "code",
   "execution_count": 68,
   "metadata": {
    "collapsed": false
   },
   "outputs": [
    {
     "data": {
      "text/html": [
       "<table>\n",
       "<thead><tr><th scope=col>covered_scaled</th><th scope=col>total_scaled</th></tr></thead>\n",
       "<tbody>\n",
       "\t<tr><td>-0.1466292</td><td>-0.3419701</td></tr>\n",
       "\t<tr><td>-0.1318192</td><td>-0.4185388</td></tr>\n",
       "\t<tr><td> 0.2970405</td><td>-0.3034071</td></tr>\n",
       "\t<tr><td> 1.2850413</td><td>-0.2866476</td></tr>\n",
       "\t<tr><td>-0.4275265</td><td>-0.3004675</td></tr>\n",
       "\t<tr><td> 2.2724722</td><td>-0.4489771</td></tr>\n",
       "</tbody>\n",
       "</table>\n"
      ],
      "text/latex": [
       "\\begin{tabular}{r|ll}\n",
       " covered\\_scaled & total\\_scaled\\\\\n",
       "\\hline\n",
       "\t -0.1466292 & -0.3419701\\\\\n",
       "\t -0.1318192 & -0.4185388\\\\\n",
       "\t  0.2970405 & -0.3034071\\\\\n",
       "\t  1.2850413 & -0.2866476\\\\\n",
       "\t -0.4275265 & -0.3004675\\\\\n",
       "\t  2.2724722 & -0.4489771\\\\\n",
       "\\end{tabular}\n"
      ],
      "text/plain": [
       "  covered_scaled total_scaled\n",
       "1 -0.1466292     -0.3419701  \n",
       "2 -0.1318192     -0.4185388  \n",
       "3  0.2970405     -0.3034071  \n",
       "4  1.2850413     -0.2866476  \n",
       "5 -0.4275265     -0.3004675  \n",
       "6  2.2724722     -0.4489771  "
      ]
     },
     "metadata": {},
     "output_type": "display_data"
    }
   ],
   "source": [
    "DRG249  <- cardiac %>%\n",
    "    filter(DRG.code==249) %>%\n",
    "    transmute(covered_scaled=scale(Average.Covered.Charges,\n",
    "                                   center = TRUE, scale=TRUE),\n",
    "              total_scaled=scale(Average.Total.Payments,\n",
    "                                 center=TRUE, scale=TRUE))\n",
    "    \n",
    "DRG249 %>% head"
   ]
  },
  {
   "cell_type": "code",
   "execution_count": 69,
   "metadata": {
    "collapsed": false
   },
   "outputs": [
    {
     "data": {},
     "metadata": {},
     "output_type": "display_data"
    },
    {
     "data": {
      "image/png": "[encoded data removed]",
      "text/plain": [
       "plot without title"
      ]
     },
     "metadata": {},
     "output_type": "display_data"
    }
   ],
   "source": [
    "DRG249 %>%\n",
    "    ggplot(aes(x=covered_scaled, y=total_scaled)) +\n",
    "    geom_point() +\n",
    "    geom_smooth(method=\"lm\")"
   ]
  },
  {
   "cell_type": "code",
   "execution_count": 70,
   "metadata": {
    "collapsed": false
   },
   "outputs": [],
   "source": [
    "DRG249_mod <- lm(total_scaled ~ covered_scaled, data=DRG249)"
   ]
  },
  {
   "cell_type": "code",
   "execution_count": 71,
   "metadata": {
    "collapsed": false
   },
   "outputs": [
    {
     "data": {},
     "metadata": {},
     "output_type": "display_data"
    },
    {
     "data": {
      "image/png": "[encoded data removed]",
      "text/plain": [
       "plot without title"
      ]
     },
     "metadata": {},
     "output_type": "display_data"
    }
   ],
   "source": [
    "# extract linear trend with add_predictions()...\n",
    "DRG249 %>%\n",
    "    add_predictions(DRG249_mod) %>%\n",
    "    ggplot(aes(covered_scaled, pred)) +\n",
    "    geom_line()"
   ]
  },
  {
   "cell_type": "code",
   "execution_count": 72,
   "metadata": {
    "collapsed": false
   },
   "outputs": [
    {
     "data": {},
     "metadata": {},
     "output_type": "display_data"
    },
    {
     "data": {
      "image/png": "[encoded data removed]",
      "text/plain": [
       "plot without title"
      ]
     },
     "metadata": {},
     "output_type": "display_data"
    }
   ],
   "source": [
    "# ... and the residuals with add_residuals()\n",
    "DRG249 %>%\n",
    "    add_residuals(DRG249_mod) %>%\n",
    "    ggplot(aes(covered_scaled, resid)) +\n",
    "    geom_line()\n",
    "\n",
    "## It's not usually this revealing!"
   ]
  },
  {
   "cell_type": "markdown",
   "metadata": {
    "ein.tags": [
     "worksheet-0"
    ]
   },
   "source": [
    "*Copyright &copy; 2016 The Data Incubator.  All rights reserved.*"
   ]
  },
  {
   "cell_type": "code",
   "execution_count": null,
   "metadata": {
    "collapsed": true
   },
   "outputs": [],
   "source": []
  }
 ],
 "metadata": {
  "kernelspec": {
   "display_name": "R",
   "language": "R",
   "name": "ir"
  },
  "language_info": {
   "codemirror_mode": "r",
   "file_extension": ".r",
   "mimetype": "text/x-r-source",
   "name": "R",
   "pygments_lexer": "r",
   "version": "3.3.1"
  },
  "name": "Modeling_and_Machine_Learning.ipynb"
 },
 "nbformat": 4,
 "nbformat_minor": 0
}
