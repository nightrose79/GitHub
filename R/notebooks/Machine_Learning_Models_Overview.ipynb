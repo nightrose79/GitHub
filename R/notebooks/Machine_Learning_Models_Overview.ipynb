{
 "cells": [
  {
   "cell_type": "markdown",
   "metadata": {},
   "source": [
    "# Machine Learning Models in R: An Overview"
   ]
  },
  {
   "cell_type": "markdown",
   "metadata": {},
   "source": [
    "## Concepts\n",
    "\n",
    "Supervised Learning\n",
    "- target/outcome/y is known\n",
    "- two models, depening on type of target:\n",
    "    - classification: when outcome is categorical\n",
    "    - regression: when outcome is continuous\n",
    "\n",
    "Unsupervised Learning\n",
    "- target/y is unknown; we want to find clusters in data\n",
    "- clustering methods"
   ]
  },
  {
   "cell_type": "markdown",
   "metadata": {},
   "source": [
    "## Reference notebooks\n",
    "**Machine Learning Classification:**\n",
    "* Linear Discriminant Analysis (LDA) \n",
    "* Quadratic Discriminant Analysis (QDA)\n",
    "* Multinomial logistic regression\n",
    "* K-Nearest Neighbors\n",
    "* SVM\n",
    "* Random forests\n",
    "\n",
    "**Machine Learning Regression:**\n",
    "* linear regression with lm()\n",
    "* logistic regression with glm()\n",
    "* `glmnet` for regularized regression\n",
    "\n",
    "**Machine Learning Clustering Dimension Reduction:**\n",
    "* KMeans for clustering\n",
    "* PCA for dimension reduction"
   ]
  },
  {
   "cell_type": "code",
   "execution_count": null,
   "metadata": {
    "collapsed": true
   },
   "outputs": [],
   "source": []
  },
  {
   "cell_type": "markdown",
   "metadata": {},
   "source": [
    "*Copyright &copy; 2016 The Data Incubator.  All rights reserved.*"
   ]
  }
 ],
 "metadata": {
  "kernelspec": {
   "display_name": "R",
   "language": "R",
   "name": "ir"
  },
  "language_info": {
   "codemirror_mode": "r",
   "file_extension": ".r",
   "mimetype": "text/x-r-source",
   "name": "R",
   "pygments_lexer": "r",
   "version": "3.3.1"
  }
 },
 "nbformat": 4,
 "nbformat_minor": 1
}
