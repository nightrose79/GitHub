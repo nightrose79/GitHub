{
 "cells": [
  {
   "cell_type": "markdown",
   "metadata": {},
   "source": [
    "# Shiny and Deployment\n",
    "\n",
    "* App architecture\n",
    "* UI, server\n",
    "* Reactions, appearance\n",
    "* Demos with code snippets\n",
    "* Deploying Shiny apps to the web\n",
    "* Deploying to Heroku"
   ]
  },
  {
   "cell_type": "code",
   "execution_count": null,
   "metadata": {
    "collapsed": false
   },
   "outputs": [],
   "source": [
    "library(dplyr)\n",
    "library(tidyr)\n",
    "library(magrittr)"
   ]
  },
  {
   "cell_type": "markdown",
   "metadata": {},
   "source": [
    "## Introductory Example"
   ]
  },
  {
   "cell_type": "code",
   "execution_count": null,
   "metadata": {
    "collapsed": true
   },
   "outputs": [],
   "source": [
    "library(shiny)\n",
    "library(ggplot2)"
   ]
  },
  {
   "cell_type": "code",
   "execution_count": null,
   "metadata": {
    "collapsed": false
   },
   "outputs": [],
   "source": [
    "## make data\n",
    "df0 <- readRDS(\"small_data/inpatient_charges_2014_clean_1000.RDS\")\n",
    "names(df0) %<>% gsub(\"\\\\.\", \"\", .)\n",
    "\n",
    "df <- df0 %>% select(AverageCoveredCharges, AverageTotalPayments,\n",
    "                     AverageMedicarePayments, TotalDischarges)\n",
    "variables <- names(df)[1:3]\n",
    "colors <- names(df)[4]"
   ]
  },
  {
   "cell_type": "code",
   "execution_count": null,
   "metadata": {
    "collapsed": true
   },
   "outputs": [],
   "source": [
    "# the shiny code\n",
    "server <- function(input, output){\n",
    "    \n",
    "    output$my_output_plot <- renderPlot({\n",
    "\n",
    "        p <- ggplot(df, aes_string(input$x, input$y, colour=input$color)) +\n",
    "            geom_point(alpha=0.3)\n",
    "        ##p\n",
    "        print(p)\n",
    "    })\n",
    "}\n",
    "\n",
    "ui <- fluidPage(\n",
    "\n",
    "    headerPanel(\"My Data Explorer\"),\n",
    "\n",
    "    sidebarPanel(\n",
    "        selectInput(inputId=\"y\",\n",
    "                    label=\"Y Variable\",\n",
    "                    choices=variables\n",
    "                    ),\n",
    "        selectInput(inputId=\"x\",\n",
    "                    label=\"X Variable\",\n",
    "                    choices=variables\n",
    "\n",
    "                    ),\n",
    "        selectInput(inputId=\"color\",\n",
    "                    label=\"Color by Variable\",\n",
    "                    choices=colors\n",
    "                    )\n",
    "    ),\n",
    "\n",
    "    mainPanel(\n",
    "        plotOutput(\"my_output_plot\")\n",
    "    )\n",
    "    \n",
    ")"
   ]
  },
  {
   "cell_type": "code",
   "execution_count": null,
   "metadata": {
    "collapsed": false
   },
   "outputs": [],
   "source": [
    "# deploy\n",
    "# shinyApp(ui=ui, server=server)"
   ]
  },
  {
   "cell_type": "markdown",
   "metadata": {},
   "source": [
    "### Quick notes\n",
    "* 2 components: server and ui\n",
    "* inputs in ui map to inputs in server function (and its arguments)\n",
    "* note aes_string \n",
    "* highlight all instances of \"input\" and \"output\""
   ]
  },
  {
   "cell_type": "markdown",
   "metadata": {},
   "source": [
    "## Concepts"
   ]
  },
  {
   "cell_type": "markdown",
   "metadata": {},
   "source": [
    "Here is a barebones app:\n",
    "\n",
    "```library(shiny)\n",
    "\n",
    "server <- function(input, output, session) { }\n",
    "\n",
    "ui <- basicPage(\"This is a Shiny app with some text\")\n",
    "\n",
    "shinyApp(ui=ui, server=server) \n",
    "```"
   ]
  },
  {
   "cell_type": "markdown",
   "metadata": {},
   "source": [
    "A shiny visualization has 2 components:\n",
    "\n",
    "* **server** - serves up your plot\n",
    "    * uses *reactive* functions like `renderPlot` which must wrap the user input\n",
    "    * is a function of both input and output, since it receives the user inputs, and sends output back to ui\n",
    "* **ui** - gets user input for use in server\n",
    "    * contains the `*Panel` layout functions\n",
    "    * obtains input from user, or specified defaults\n",
    "    * styles the page\n",
    "\n",
    "The link between these is the \"input\" and \"output\" code. A good exercise is to highlight these keywords in your shiny code.\n",
    "\n",
    "Here is how this works:\n",
    "1. Server: renderPlot() reads user input from UI (or default input the first\n",
    "   time app is ran)\n",
    "2. Server: renderPlot() is set as the output from server, and is passed to ui\n",
    "3. UI: plotOutput shows the plot to the user"
   ]
  },
  {
   "cell_type": "markdown",
   "metadata": {},
   "source": [
    "### Getting started\n",
    "\n",
    "* Start with a page layout, such as `fluidPage`. Other common layouts are: `bootstrapPage`, `navbarPage`, or `fixedPage`. See http://shiny.rstudio.com/articles/layout-guide.html\n",
    "* Decide what widgets you need. Start with a small number. See here: http://shiny.rstudio.com/gallery/widget-gallery.html\n",
    "* Obtain user input via ui. Use the input id's, along with server's input\n",
    "  argument. These are called \"reactive values\"\n",
    "* You MUST wrap inputs in a reactive function: `observe`, `reactive`, `render*`\n",
    "\n",
    "Reactive functions:\n",
    "* observe: to update something; produce side effects; eg, print text debugging, update or update something\n",
    "\n",
    "* reactive: isolate code and generate output, like from a function"
   ]
  },
  {
   "cell_type": "markdown",
   "metadata": {},
   "source": [
    "### Final Notes\n",
    "shiny converts R code into HTML, CSS, JS for web deployment. Both `server` and `ui` can now reside in the same file (previous versions of `shiny` required 2 separate files). And you no longer need `shinyUI`"
   ]
  },
  {
   "cell_type": "markdown",
   "metadata": {},
   "source": [
    "## Takeaways"
   ]
  },
  {
   "cell_type": "markdown",
   "metadata": {},
   "source": [
    "* be very careful with names! lowercase/uppercase, especially in `showOutput`\n",
    "* also names in shiny have to be alphanumeric, no special characters!!\n",
    "* input ids must be unique\n",
    "* wrap all inputs with a reactive function: `observe`, `reactive`, `render*`\n",
    "  [error: \"operation not allowed without an active reactive context\"]\n",
    "* Using renderChart2 doesn't require the using `$set(dom = ....`\n",
    "\n",
    "\n",
    "be careful what you put inside reactive functions:\n",
    "* non-reactive inputs in reactive functions willonly run once\n",
    "* reactive inputs in reactive functions will trigger the function, even when not used for anything"
   ]
  },
  {
   "cell_type": "markdown",
   "metadata": {},
   "source": [
    "## References"
   ]
  },
  {
   "cell_type": "markdown",
   "metadata": {},
   "source": [
    "[Official reference](http://shiny.rstudio.com/reference/shiny/latest/)\n",
    "\n",
    "[Cheathseet!](https://www.rstudio.com/resources/cheatsheets/)\n",
    "\n",
    "[Boilerplate code!](http://zevross.com/blog/2016/04/19/r-powered-web-applications-with-shiny-a-tutorial-and-cheat-sheet-with-40-example-apps/)\n",
    "\n",
    "More:\n",
    "* [Debugging in shiny](http://zevross.com/blog/2016/04/19/r-powered-web-applications-with-shiny-a-tutorial-and-cheat-sheet-with-40-example-apps/#before-going-any-further-let-me-introduce-the-update-functions)\n",
    "* [Customization with themes](http://rstudio.github.io/shinythemes/)\n",
    "* [You can do advanced styling with CSS, and also HTML tagging](http://zevross.com/blog/2016/04/19/r-powered-web-applications-with-shiny-a-tutorial-and-cheat-sheet-with-40-example-apps/#layout-your-user-interface)\n",
    "* [Create a dynamic user interface](http://zevross.com/blog/2016/04/19/r-powered-web-applications-with-shiny-a-tutorial-and-cheat-sheet-with-40-example-apps/#dynamic-ui-with-renderui-and-outputui)\n",
    "* [Push to shinyapps.io](http://shiny.rstudio.com/articles/shinyapps.html)\n",
    "* [rCharts: another way to style](https://ramnathv.github.io/rCharts/)\n"
   ]
  },
  {
   "cell_type": "markdown",
   "metadata": {},
   "source": [
    "## Exercise"
   ]
  },
  {
   "cell_type": "markdown",
   "metadata": {},
   "source": [
    "Create an interactive bar chart for input dataset, by adapting the example plot"
   ]
  },
  {
   "cell_type": "code",
   "execution_count": null,
   "metadata": {
    "collapsed": false
   },
   "outputs": [],
   "source": [
    "## add a subset to the above scatterplot - filter by code\n",
    "df0$DRGcode %<>% as.character\n",
    "\n",
    "(codes <- df0$DRGcode %>% unique %>% sort)"
   ]
  },
  {
   "cell_type": "code",
   "execution_count": null,
   "metadata": {
    "collapsed": true
   },
   "outputs": [],
   "source": [
    "server <- function(input, output){\n",
    "    \n",
    "    dataset <- reactive({\n",
    "        df0\n",
    "        ## if (input$code != 'None')\n",
    "        ##     df_filter <- df %>% filter(DRG.code==input$code)\n",
    "        ## df_filter\n",
    "    })\n",
    "\n",
    "    output$my_output_plot <- renderPlot({\n",
    "\n",
    "        p <- ggplot(dataset, aes_string(input$x, input$y, colour=input$color)) +\n",
    "            geom_point(alpha=0.3)\n",
    "        ##p\n",
    "        print(p)\n",
    "\n",
    "    })\n",
    "}"
   ]
  },
  {
   "cell_type": "code",
   "execution_count": null,
   "metadata": {
    "collapsed": false
   },
   "outputs": [],
   "source": [
    "ui <- fluidPage(\n",
    "\n",
    "    headerPanel(\"My Data Explorer\"),\n",
    "\n",
    "    sidebarPanel(\n",
    "        selectInput(inputId=\"y\", label=\"Y Variable\", choices=variables),\n",
    "        selectInput(inputId=\"x\", label=\"X Variable\", choices=variables),\n",
    "        selectInput(inputId=\"color\", label=\"Color by Variable\", choices=colors),\n",
    "        selectInput(inputId=\"code\", label=\"Select DRG code\", c('None', codes))\n",
    "    ),\n",
    "\n",
    "    mainPanel( plotOutput(\"my_output_plot\") )\n",
    ")"
   ]
  },
  {
   "cell_type": "code",
   "execution_count": null,
   "metadata": {
    "collapsed": false
   },
   "outputs": [],
   "source": [
    "# shinyApp(ui=ui, server=server)"
   ]
  },
  {
   "cell_type": "markdown",
   "metadata": {},
   "source": [
    "*Copyright &copy; 2016 The Data Incubator.  All rights reserved.*"
   ]
  }
 ],
 "metadata": {
  "kernelspec": {
   "display_name": "R",
   "language": "R",
   "name": "ir"
  },
  "language_info": {
   "codemirror_mode": "r",
   "file_extension": ".r",
   "mimetype": "text/x-r-source",
   "name": "R",
   "pygments_lexer": "r",
   "version": "3.3.1"
  }
 },
 "nbformat": 4,
 "nbformat_minor": 0
}
