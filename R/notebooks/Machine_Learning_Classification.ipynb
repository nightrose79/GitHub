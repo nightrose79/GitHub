{
 "cells": [
  {
   "cell_type": "markdown",
   "metadata": {},
   "source": [
    "# ML: Classification"
   ]
  },
  {
   "cell_type": "markdown",
   "metadata": {},
   "source": [
    "This notebook includes code examples of classification with:\n",
    "* Linear Discriminant Analysis (LDA) \n",
    "* Quadratic Discriminant Analysis (QDA)\n",
    "* Multinomial logistic regression\n",
    "* K-Nearest Neighbors\n",
    "* SVM\n",
    "* Random forests\n",
    "\n",
    "Note: logistic regression is in the \"Regression\" notebook."
   ]
  },
  {
   "cell_type": "markdown",
   "metadata": {},
   "source": [
    "In this notebook, we consider some common classification algorithms. The workflow is the same: split data into training and testing datasets, then fit the model on the training set, and predict for the testing set. Last, compute a metric to summarize model fit.\n",
    "\n",
    "This notebook only shows code for running these models in R. See another lecture notebook for details on machine learning workflows. "
   ]
  },
  {
   "cell_type": "code",
   "execution_count": 1,
   "metadata": {
    "collapsed": false
   },
   "outputs": [
    {
     "name": "stderr",
     "output_type": "stream",
     "text": [
      "\n",
      "Attaching package: ‘dplyr’\n",
      "\n",
      "The following objects are masked from ‘package:stats’:\n",
      "\n",
      "    filter, lag\n",
      "\n",
      "The following objects are masked from ‘package:base’:\n",
      "\n",
      "    intersect, setdiff, setequal, union\n",
      "\n"
     ]
    }
   ],
   "source": [
    "library(dplyr)\n",
    "library(magrittr)"
   ]
  },
  {
   "cell_type": "code",
   "execution_count": 2,
   "metadata": {
    "collapsed": false
   },
   "outputs": [],
   "source": [
    "olives <- readRDS(\"small_data/olives.RDS\")"
   ]
  },
  {
   "cell_type": "markdown",
   "metadata": {},
   "source": [
    "### EDA"
   ]
  },
  {
   "cell_type": "code",
   "execution_count": 3,
   "metadata": {
    "collapsed": false
   },
   "outputs": [
    {
     "data": {
      "text/html": [
       "<table>\n",
       "<thead><tr><th scope=col>Region</th><th scope=col>Area</th><th scope=col>Palmitic</th><th scope=col>Palmitoleic</th><th scope=col>Stearic</th><th scope=col>Oleic</th><th scope=col>Linoleic</th><th scope=col>Linolenic</th><th scope=col>Arachidic</th><th scope=col>Eicosenoic</th></tr></thead>\n",
       "<tbody>\n",
       "\t<tr><td>1   </td><td>1   </td><td>1075</td><td>75  </td><td>226 </td><td>7823</td><td>672 </td><td>36  </td><td>60  </td><td>29  </td></tr>\n",
       "\t<tr><td>1   </td><td>1   </td><td>1088</td><td>73  </td><td>224 </td><td>7709</td><td>781 </td><td>31  </td><td>61  </td><td>29  </td></tr>\n",
       "\t<tr><td>1   </td><td>1   </td><td> 911</td><td>54  </td><td>246 </td><td>8113</td><td>549 </td><td>31  </td><td>63  </td><td>29  </td></tr>\n",
       "\t<tr><td>1   </td><td>1   </td><td> 966</td><td>57  </td><td>240 </td><td>7952</td><td>619 </td><td>50  </td><td>78  </td><td>35  </td></tr>\n",
       "\t<tr><td>1   </td><td>1   </td><td>1051</td><td>67  </td><td>259 </td><td>7771</td><td>672 </td><td>50  </td><td>80  </td><td>46  </td></tr>\n",
       "\t<tr><td>1   </td><td>1   </td><td> 911</td><td>49  </td><td>268 </td><td>7924</td><td>678 </td><td>51  </td><td>70  </td><td>44  </td></tr>\n",
       "</tbody>\n",
       "</table>\n"
      ],
      "text/latex": [
       "\\begin{tabular}{r|llllllllll}\n",
       " Region & Area & Palmitic & Palmitoleic & Stearic & Oleic & Linoleic & Linolenic & Arachidic & Eicosenoic\\\\\n",
       "\\hline\n",
       "\t 1    & 1    & 1075 & 75   & 226  & 7823 & 672  & 36   & 60   & 29  \\\\\n",
       "\t 1    & 1    & 1088 & 73   & 224  & 7709 & 781  & 31   & 61   & 29  \\\\\n",
       "\t 1    & 1    &  911 & 54   & 246  & 8113 & 549  & 31   & 63   & 29  \\\\\n",
       "\t 1    & 1    &  966 & 57   & 240  & 7952 & 619  & 50   & 78   & 35  \\\\\n",
       "\t 1    & 1    & 1051 & 67   & 259  & 7771 & 672  & 50   & 80   & 46  \\\\\n",
       "\t 1    & 1    &  911 & 49   & 268  & 7924 & 678  & 51   & 70   & 44  \\\\\n",
       "\\end{tabular}\n"
      ],
      "text/plain": [
       "  Region Area Palmitic Palmitoleic Stearic Oleic Linoleic Linolenic Arachidic\n",
       "1 1      1    1075     75          226     7823  672      36        60       \n",
       "2 1      1    1088     73          224     7709  781      31        61       \n",
       "3 1      1     911     54          246     8113  549      31        63       \n",
       "4 1      1     966     57          240     7952  619      50        78       \n",
       "5 1      1    1051     67          259     7771  672      50        80       \n",
       "6 1      1     911     49          268     7924  678      51        70       \n",
       "  Eicosenoic\n",
       "1 29        \n",
       "2 29        \n",
       "3 29        \n",
       "4 35        \n",
       "5 46        \n",
       "6 44        "
      ]
     },
     "metadata": {},
     "output_type": "display_data"
    }
   ],
   "source": [
    "olives %>% head"
   ]
  },
  {
   "cell_type": "markdown",
   "metadata": {},
   "source": [
    "(Data)\n",
    "\n",
    "Regions\n",
    "1. South\n",
    "2. Sardinia\n",
    "3. North\n",
    "\n",
    "Areas\n",
    "1. North Apulia\n",
    "2. Calabria\n",
    "3. South Apulia\n",
    "4. Sicily\n",
    "5. Inland Sardinia\n",
    "6. Coastal Sardinia\n",
    "7. Umbria\n",
    "8. East Liguria\n",
    "9. West Liguria"
   ]
  },
  {
   "cell_type": "code",
   "execution_count": 4,
   "metadata": {
    "collapsed": false
   },
   "outputs": [
    {
     "data": {
      "text/html": [
       "<table>\n",
       "<thead><tr><th scope=col>Region</th><th scope=col>Area</th><th scope=col>count</th></tr></thead>\n",
       "<tbody>\n",
       "\t<tr><td>1  </td><td>1  </td><td> 25</td></tr>\n",
       "\t<tr><td>1  </td><td>2  </td><td> 56</td></tr>\n",
       "\t<tr><td>1  </td><td>3  </td><td>206</td></tr>\n",
       "\t<tr><td>1  </td><td>4  </td><td> 36</td></tr>\n",
       "\t<tr><td>2  </td><td>5  </td><td> 65</td></tr>\n",
       "\t<tr><td>2  </td><td>6  </td><td> 33</td></tr>\n",
       "\t<tr><td>3  </td><td>7  </td><td> 50</td></tr>\n",
       "\t<tr><td>3  </td><td>8  </td><td> 53</td></tr>\n",
       "\t<tr><td>3  </td><td>9  </td><td> 51</td></tr>\n",
       "</tbody>\n",
       "</table>\n"
      ],
      "text/latex": [
       "\\begin{tabular}{r|lll}\n",
       " Region & Area & count\\\\\n",
       "\\hline\n",
       "\t 1   & 1   &  25\\\\\n",
       "\t 1   & 2   &  56\\\\\n",
       "\t 1   & 3   & 206\\\\\n",
       "\t 1   & 4   &  36\\\\\n",
       "\t 2   & 5   &  65\\\\\n",
       "\t 2   & 6   &  33\\\\\n",
       "\t 3   & 7   &  50\\\\\n",
       "\t 3   & 8   &  53\\\\\n",
       "\t 3   & 9   &  51\\\\\n",
       "\\end{tabular}\n"
      ],
      "text/plain": [
       "  Region Area count\n",
       "1 1      1     25  \n",
       "2 1      2     56  \n",
       "3 1      3    206  \n",
       "4 1      4     36  \n",
       "5 2      5     65  \n",
       "6 2      6     33  \n",
       "7 3      7     50  \n",
       "8 3      8     53  \n",
       "9 3      9     51  "
      ]
     },
     "metadata": {},
     "output_type": "display_data"
    }
   ],
   "source": [
    "olives %>% group_by(Region, Area) %>% summarise(count=n())"
   ]
  },
  {
   "cell_type": "markdown",
   "metadata": {},
   "source": [
    "## Preparatory code\n",
    "\n",
    "### Split data into training and testing"
   ]
  },
  {
   "cell_type": "code",
   "execution_count": 5,
   "metadata": {
    "collapsed": false
   },
   "outputs": [
    {
     "name": "stderr",
     "output_type": "stream",
     "text": [
      "Loading required package: lattice\n",
      "Loading required package: ggplot2\n"
     ]
    }
   ],
   "source": [
    "library(caret)"
   ]
  },
  {
   "cell_type": "code",
   "execution_count": 6,
   "metadata": {
    "collapsed": true
   },
   "outputs": [],
   "source": [
    "split <- createDataPartition(y=olives$Region,\n",
    "                             p=0.80,\n",
    "                             list=FALSE)"
   ]
  },
  {
   "cell_type": "code",
   "execution_count": 7,
   "metadata": {
    "collapsed": false
   },
   "outputs": [
    {
     "data": {
      "text/html": [
       "<table>\n",
       "<thead><tr><th></th><th scope=col>Region</th><th scope=col>Area</th><th scope=col>Palmitic</th><th scope=col>Palmitoleic</th><th scope=col>Stearic</th><th scope=col>Oleic</th><th scope=col>Linoleic</th><th scope=col>Linolenic</th><th scope=col>Arachidic</th><th scope=col>Eicosenoic</th></tr></thead>\n",
       "<tbody>\n",
       "\t<tr><th scope=row>1</th><td>1   </td><td>1   </td><td>1075</td><td>75  </td><td>226 </td><td>7823</td><td>672 </td><td>36  </td><td>60  </td><td>29  </td></tr>\n",
       "\t<tr><th scope=row>2</th><td>1   </td><td>1   </td><td>1088</td><td>73  </td><td>224 </td><td>7709</td><td>781 </td><td>31  </td><td>61  </td><td>29  </td></tr>\n",
       "\t<tr><th scope=row>3</th><td>1   </td><td>1   </td><td> 911</td><td>54  </td><td>246 </td><td>8113</td><td>549 </td><td>31  </td><td>63  </td><td>29  </td></tr>\n",
       "\t<tr><th scope=row>4</th><td>1   </td><td>1   </td><td> 966</td><td>57  </td><td>240 </td><td>7952</td><td>619 </td><td>50  </td><td>78  </td><td>35  </td></tr>\n",
       "\t<tr><th scope=row>8</th><td>1   </td><td>1   </td><td>1100</td><td>61  </td><td>235 </td><td>7728</td><td>734 </td><td>39  </td><td>64  </td><td>35  </td></tr>\n",
       "\t<tr><th scope=row>9</th><td>1   </td><td>1   </td><td>1082</td><td>60  </td><td>239 </td><td>7745</td><td>709 </td><td>46  </td><td>83  </td><td>33  </td></tr>\n",
       "</tbody>\n",
       "</table>\n"
      ],
      "text/latex": [
       "\\begin{tabular}{r|llllllllll}\n",
       "  & Region & Area & Palmitic & Palmitoleic & Stearic & Oleic & Linoleic & Linolenic & Arachidic & Eicosenoic\\\\\n",
       "\\hline\n",
       "\t1 & 1    & 1    & 1075 & 75   & 226  & 7823 & 672  & 36   & 60   & 29  \\\\\n",
       "\t2 & 1    & 1    & 1088 & 73   & 224  & 7709 & 781  & 31   & 61   & 29  \\\\\n",
       "\t3 & 1    & 1    &  911 & 54   & 246  & 8113 & 549  & 31   & 63   & 29  \\\\\n",
       "\t4 & 1    & 1    &  966 & 57   & 240  & 7952 & 619  & 50   & 78   & 35  \\\\\n",
       "\t8 & 1    & 1    & 1100 & 61   & 235  & 7728 & 734  & 39   & 64   & 35  \\\\\n",
       "\t9 & 1    & 1    & 1082 & 60   & 239  & 7745 & 709  & 46   & 83   & 33  \\\\\n",
       "\\end{tabular}\n"
      ],
      "text/plain": [
       "  Region Area Palmitic Palmitoleic Stearic Oleic Linoleic Linolenic Arachidic\n",
       "1 1      1    1075     75          226     7823  672      36        60       \n",
       "2 1      1    1088     73          224     7709  781      31        61       \n",
       "3 1      1     911     54          246     8113  549      31        63       \n",
       "4 1      1     966     57          240     7952  619      50        78       \n",
       "8 1      1    1100     61          235     7728  734      39        64       \n",
       "9 1      1    1082     60          239     7745  709      46        83       \n",
       "  Eicosenoic\n",
       "1 29        \n",
       "2 29        \n",
       "3 29        \n",
       "4 35        \n",
       "8 35        \n",
       "9 33        "
      ]
     },
     "metadata": {},
     "output_type": "display_data"
    }
   ],
   "source": [
    "train <- olives[split,]\n",
    "test <- olives[-split,]\n",
    "\n",
    "train %>% head"
   ]
  },
  {
   "cell_type": "markdown",
   "metadata": {},
   "source": [
    "### helper functions"
   ]
  },
  {
   "cell_type": "code",
   "execution_count": 8,
   "metadata": {
    "collapsed": true
   },
   "outputs": [],
   "source": [
    "# obtain missclassificaton, given a confusion matrix\n",
    "missclassified <- function(t){\n",
    "    x =  (sum(t)-sum(diag(t)))/sum(t)\n",
    "    round(x, 3)\n",
    "}"
   ]
  },
  {
   "cell_type": "markdown",
   "metadata": {},
   "source": [
    "## LDA"
   ]
  },
  {
   "cell_type": "code",
   "execution_count": 9,
   "metadata": {
    "collapsed": false
   },
   "outputs": [
    {
     "name": "stderr",
     "output_type": "stream",
     "text": [
      "\n",
      "Attaching package: ‘MASS’\n",
      "\n",
      "The following object is masked from ‘package:dplyr’:\n",
      "\n",
      "    select\n",
      "\n"
     ]
    }
   ],
   "source": [
    "library(MASS)"
   ]
  },
  {
   "cell_type": "code",
   "execution_count": 10,
   "metadata": {
    "collapsed": false
   },
   "outputs": [
    {
     "data": {
      "text/plain": [
       "Call:\n",
       "lda(train$Region ~ ., data = train[, 3:10])\n",
       "\n",
       "Prior probabilities of groups:\n",
       "        1         2         3 \n",
       "0.5434783 0.1739130 0.2826087 \n",
       "\n",
       "Group means:\n",
       "  Palmitic Palmitoleic  Stearic    Oleic  Linoleic Linolenic Arachidic\n",
       "1 1335.904   156.39600 227.2280 7098.888 1033.7800  37.62400  62.80000\n",
       "2 1110.975    96.11250 225.3500 7272.788 1192.8125  26.92500  72.77500\n",
       "3 1094.638    83.93846 232.7154 7784.831  730.8231  21.26923  37.35385\n",
       "  Eicosenoic\n",
       "1     27.016\n",
       "2      1.950\n",
       "3      2.000\n",
       "\n",
       "Coefficients of linear discriminants:\n",
       "                      LD1          LD2\n",
       "Palmitic    -0.0028393498  0.006474464\n",
       "Palmitoleic -0.0113821890  0.017307780\n",
       "Stearic      0.0024116610  0.002226730\n",
       "Oleic       -0.0005213317  0.004181093\n",
       "Linoleic    -0.0010663377 -0.003233107\n",
       "Linolenic   -0.0420509856  0.008229232\n",
       "Arachidic    0.0173204443 -0.038099606\n",
       "Eicosenoic  -0.1619556591  0.005087551\n",
       "\n",
       "Proportion of trace:\n",
       "  LD1   LD2 \n",
       "0.781 0.219 "
      ]
     },
     "metadata": {},
     "output_type": "display_data"
    }
   ],
   "source": [
    "# features: all except Region,Area\n",
    "lda <- lda(train$Region ~ ., data=train[,3:10])\n",
    "\n",
    "lda"
   ]
  },
  {
   "cell_type": "code",
   "execution_count": 11,
   "metadata": {
    "collapsed": false
   },
   "outputs": [
    {
     "data": {
      "text/html": [
       "<ol class=list-inline>\n",
       "\t<li>'Region'</li>\n",
       "\t<li>'Area'</li>\n",
       "\t<li>'Palmitic'</li>\n",
       "\t<li>'Palmitoleic'</li>\n",
       "\t<li>'Stearic'</li>\n",
       "\t<li>'Oleic'</li>\n",
       "\t<li>'Linoleic'</li>\n",
       "\t<li>'Linolenic'</li>\n",
       "\t<li>'Arachidic'</li>\n",
       "\t<li>'Eicosenoic'</li>\n",
       "</ol>\n"
      ],
      "text/latex": [
       "\\begin{enumerate*}\n",
       "\\item 'Region'\n",
       "\\item 'Area'\n",
       "\\item 'Palmitic'\n",
       "\\item 'Palmitoleic'\n",
       "\\item 'Stearic'\n",
       "\\item 'Oleic'\n",
       "\\item 'Linoleic'\n",
       "\\item 'Linolenic'\n",
       "\\item 'Arachidic'\n",
       "\\item 'Eicosenoic'\n",
       "\\end{enumerate*}\n"
      ],
      "text/markdown": [
       "1. 'Region'\n",
       "2. 'Area'\n",
       "3. 'Palmitic'\n",
       "4. 'Palmitoleic'\n",
       "5. 'Stearic'\n",
       "6. 'Oleic'\n",
       "7. 'Linoleic'\n",
       "8. 'Linolenic'\n",
       "9. 'Arachidic'\n",
       "10. 'Eicosenoic'\n",
       "\n",
       "\n"
      ],
      "text/plain": [
       " [1] \"Region\"      \"Area\"        \"Palmitic\"    \"Palmitoleic\" \"Stearic\"    \n",
       " [6] \"Oleic\"       \"Linoleic\"    \"Linolenic\"   \"Arachidic\"   \"Eicosenoic\" "
      ]
     },
     "metadata": {},
     "output_type": "display_data"
    }
   ],
   "source": [
    "train%>%names"
   ]
  },
  {
   "cell_type": "code",
   "execution_count": 12,
   "metadata": {
    "collapsed": false
   },
   "outputs": [
    {
     "data": {
      "image/png": "[encoded data removed]",
      "text/plain": [
       "plot without title"
      ]
     },
     "metadata": {},
     "output_type": "display_data"
    }
   ],
   "source": [
    "# quite good!\n",
    "plot(lda)"
   ]
  },
  {
   "cell_type": "code",
   "execution_count": 13,
   "metadata": {
    "collapsed": false
   },
   "outputs": [
    {
     "data": {
      "text/plain": [
       "   \n",
       "      1   2   3\n",
       "  1 249   0   1\n",
       "  2   0  80   0\n",
       "  3   0   3 127"
      ]
     },
     "metadata": {},
     "output_type": "display_data"
    },
    {
     "data": {
      "text/html": [
       "0.009"
      ],
      "text/latex": [
       "0.009"
      ],
      "text/markdown": [
       "0.009"
      ],
      "text/plain": [
       "[1] 0.009"
      ]
     },
     "metadata": {},
     "output_type": "display_data"
    }
   ],
   "source": [
    "# training error\n",
    "train_predict <- predict(lda, train[,3:10])\n",
    "\n",
    "(t <- table(train$Region, train_predict$class))\n",
    "\n",
    "missclassified(t)"
   ]
  },
  {
   "cell_type": "code",
   "execution_count": 14,
   "metadata": {
    "collapsed": false
   },
   "outputs": [
    {
     "data": {
      "text/plain": [
       "   \n",
       "     1  2  3\n",
       "  1 73  0  0\n",
       "  2  0 18  0\n",
       "  3  0  0 24"
      ]
     },
     "metadata": {},
     "output_type": "display_data"
    },
    {
     "data": {
      "text/html": [
       "0"
      ],
      "text/latex": [
       "0"
      ],
      "text/markdown": [
       "0"
      ],
      "text/plain": [
       "[1] 0"
      ]
     },
     "metadata": {},
     "output_type": "display_data"
    }
   ],
   "source": [
    "# testing error\n",
    "test_predict <- predict(lda, test[,3:10])\n",
    "\n",
    "(t <- table(test$Region, test_predict$class))\n",
    "\n",
    "missclassified(t)"
   ]
  },
  {
   "cell_type": "markdown",
   "metadata": {},
   "source": [
    "## QDA"
   ]
  },
  {
   "cell_type": "code",
   "execution_count": 15,
   "metadata": {
    "collapsed": false
   },
   "outputs": [
    {
     "data": {
      "text/plain": [
       "Call:\n",
       "qda(train$Region ~ ., data = train[, 3:10])\n",
       "\n",
       "Prior probabilities of groups:\n",
       "        1         2         3 \n",
       "0.5434783 0.1739130 0.2826087 \n",
       "\n",
       "Group means:\n",
       "  Palmitic Palmitoleic  Stearic    Oleic  Linoleic Linolenic Arachidic\n",
       "1 1335.904   156.39600 227.2280 7098.888 1033.7800  37.62400  62.80000\n",
       "2 1110.975    96.11250 225.3500 7272.788 1192.8125  26.92500  72.77500\n",
       "3 1094.638    83.93846 232.7154 7784.831  730.8231  21.26923  37.35385\n",
       "  Eicosenoic\n",
       "1     27.016\n",
       "2      1.950\n",
       "3      2.000"
      ]
     },
     "metadata": {},
     "output_type": "display_data"
    }
   ],
   "source": [
    "# features: all except Region,Area\n",
    "qda <- qda(train$Region ~ ., data=train[,3:10])\n",
    "\n",
    "qda"
   ]
  },
  {
   "cell_type": "code",
   "execution_count": 16,
   "metadata": {
    "collapsed": false
   },
   "outputs": [
    {
     "data": {
      "text/plain": [
       "   \n",
       "      1   2   3\n",
       "  1 250   0   0\n",
       "  2   0  80   0\n",
       "  3   0   0 130"
      ]
     },
     "metadata": {},
     "output_type": "display_data"
    },
    {
     "data": {
      "text/html": [
       "0"
      ],
      "text/latex": [
       "0"
      ],
      "text/markdown": [
       "0"
      ],
      "text/plain": [
       "[1] 0"
      ]
     },
     "metadata": {},
     "output_type": "display_data"
    }
   ],
   "source": [
    "# training error\n",
    "train_predict <- predict(qda, train[,3:10])\n",
    "\n",
    "(t <- table(train$Region, train_predict$class))\n",
    "\n",
    "missclassified(t)"
   ]
  },
  {
   "cell_type": "code",
   "execution_count": 17,
   "metadata": {
    "collapsed": false
   },
   "outputs": [
    {
     "data": {
      "text/plain": [
       "   \n",
       "     1  2  3\n",
       "  1 73  0  0\n",
       "  2  0 18  0\n",
       "  3  0  0 24"
      ]
     },
     "metadata": {},
     "output_type": "display_data"
    },
    {
     "data": {
      "text/html": [
       "0"
      ],
      "text/latex": [
       "0"
      ],
      "text/markdown": [
       "0"
      ],
      "text/plain": [
       "[1] 0"
      ]
     },
     "metadata": {},
     "output_type": "display_data"
    }
   ],
   "source": [
    "# training error\n",
    "test_predict <- predict(qda, test[,3:10])\n",
    "\n",
    "(t <- table(test$Region, test_predict$class))\n",
    "\n",
    "missclassified(t)"
   ]
  },
  {
   "cell_type": "markdown",
   "metadata": {},
   "source": [
    "## Logistic Regression"
   ]
  },
  {
   "cell_type": "markdown",
   "metadata": {},
   "source": [
    "Usually, logistic regression takes a 0/1 (binary) outcome. Multinomial logistic regression allows us to model an outcome with more than 2 labels.\n",
    "\n",
    "See here for details: http://www.ats.ucla.edu/stat/r/dae/mlogit.htm"
   ]
  },
  {
   "cell_type": "code",
   "execution_count": 18,
   "metadata": {
    "collapsed": true
   },
   "outputs": [],
   "source": [
    "library(nnet)"
   ]
  },
  {
   "cell_type": "code",
   "execution_count": 19,
   "metadata": {
    "collapsed": true
   },
   "outputs": [],
   "source": [
    "region2_train <- relevel(as.factor(train$Region), ref=\"3\")\n",
    "region2_test  <- relevel(as.factor(test$Region), ref=\"3\")"
   ]
  },
  {
   "cell_type": "code",
   "execution_count": 20,
   "metadata": {
    "collapsed": false
   },
   "outputs": [
    {
     "name": "stdout",
     "output_type": "stream",
     "text": [
      "# weights:  30 (18 variable)\n",
      "initial  value 505.361653 \n",
      "iter  10 value 87.860909\n",
      "iter  20 value 18.495590\n",
      "iter  30 value 0.632396\n",
      "iter  40 value 0.006528\n",
      "final  value 0.000094 \n",
      "converged\n"
     ]
    },
    {
     "data": {
      "text/plain": [
       "Call:\n",
       "multinom(formula = region2_train ~ ., data = train[, c(3:10)])\n",
       "\n",
       "Coefficients:\n",
       "  (Intercept)    Palmitic Palmitoleic     Stearic       Oleic   Linoleic\n",
       "1  -0.1651733  0.04405125  0.03097078 -0.02486397 -0.01746693 0.05556203\n",
       "2   2.4087680 -0.04532019 -0.11037304 -0.05615716 -0.01035501 0.12828971\n",
       "   Linolenic Arachidic Eicosenoic\n",
       "1 -0.5829411 0.4611474  2.6416797\n",
       "2 -0.3408100 0.5046266  0.2655393\n",
       "\n",
       "Std. Errors:\n",
       "  (Intercept)  Palmitic Palmitoleic   Stearic     Oleic Linoleic Linolenic\n",
       "1  0.04881238  2.668981    6.785148  6.818919 0.8818789 3.003840  46.63454\n",
       "2  0.08478626 11.531378   42.936379 12.243464 0.9957951 3.360213 108.46448\n",
       "  Arachidic Eicosenoic\n",
       "1  26.99560   95.78603\n",
       "2  40.35032   47.72963\n",
       "\n",
       "Residual Deviance: 0.0001874657 \n",
       "AIC: 36.00019 "
      ]
     },
     "metadata": {},
     "output_type": "display_data"
    }
   ],
   "source": [
    "mn <- multinom(region2_train ~ ., train[,c(3:10)])\n",
    "\n",
    "mn %>% summary"
   ]
  },
  {
   "cell_type": "code",
   "execution_count": 21,
   "metadata": {
    "collapsed": false
   },
   "outputs": [
    {
     "data": {
      "text/plain": [
       "             \n",
       "region2_train   3   1   2\n",
       "            3 130   0   0\n",
       "            1   0 250   0\n",
       "            2   0   0  80"
      ]
     },
     "metadata": {},
     "output_type": "display_data"
    },
    {
     "data": {
      "text/html": [
       "0"
      ],
      "text/latex": [
       "0"
      ],
      "text/markdown": [
       "0"
      ],
      "text/plain": [
       "[1] 0"
      ]
     },
     "metadata": {},
     "output_type": "display_data"
    }
   ],
   "source": [
    "## error-training (see below for alternative)\n",
    "(t  <- table(region2_train, predict(mn)))\n",
    "\n",
    "missclassified(t)"
   ]
  },
  {
   "cell_type": "code",
   "execution_count": 22,
   "metadata": {
    "collapsed": false
   },
   "outputs": [
    {
     "data": {
      "text/plain": [
       "            \n",
       "region2_test  3  1  2\n",
       "           3 24  0  0\n",
       "           1  0 73  0\n",
       "           2  0  0 18"
      ]
     },
     "metadata": {},
     "output_type": "display_data"
    },
    {
     "data": {
      "text/html": [
       "0"
      ],
      "text/latex": [
       "0"
      ],
      "text/markdown": [
       "0"
      ],
      "text/plain": [
       "[1] 0"
      ]
     },
     "metadata": {},
     "output_type": "display_data"
    }
   ],
   "source": [
    "## error-testing\n",
    "(t  <- table(region2_test, predict(mn, test[,c(3:10)])))\n",
    "\n",
    "missclassified(t)"
   ]
  },
  {
   "cell_type": "code",
   "execution_count": null,
   "metadata": {
    "collapsed": true
   },
   "outputs": [],
   "source": []
  },
  {
   "cell_type": "code",
   "execution_count": null,
   "metadata": {
    "collapsed": true
   },
   "outputs": [],
   "source": []
  },
  {
   "cell_type": "markdown",
   "metadata": {},
   "source": [
    "## KNN"
   ]
  },
  {
   "cell_type": "code",
   "execution_count": 25,
   "metadata": {
    "collapsed": true
   },
   "outputs": [],
   "source": [
    "library(class)"
   ]
  },
  {
   "cell_type": "code",
   "execution_count": 26,
   "metadata": {
    "collapsed": true
   },
   "outputs": [],
   "source": [
    "t <- err_cv <- err_train  <- err_test <- 0"
   ]
  },
  {
   "cell_type": "code",
   "execution_count": 29,
   "metadata": {
    "collapsed": true
   },
   "outputs": [],
   "source": [
    "# number of K's for KNN\n",
    "kk <- 50"
   ]
  },
  {
   "cell_type": "code",
   "execution_count": 30,
   "metadata": {
    "collapsed": true
   },
   "outputs": [],
   "source": [
    "# cross-validation error\n",
    "for(i in 1:kk){\n",
    "  knns <- knn.cv(olives[,-c(1,2)], cl=olives$Region, k=i, prob=TRUE)\n",
    "  t <- table(olives$Region, knns)\n",
    "  err_cv[i] <- missclassified(t)\n",
    "}"
   ]
  },
  {
   "cell_type": "code",
   "execution_count": 31,
   "metadata": {
    "collapsed": false
   },
   "outputs": [
    {
     "data": {
      "image/png": "[encoded data removed]",
      "text/plain": [
       "plot without title"
      ]
     },
     "metadata": {},
     "output_type": "display_data"
    }
   ],
   "source": [
    "# plot training errors\n",
    "plot(err_cv,type='l')  "
   ]
  },
  {
   "cell_type": "code",
   "execution_count": null,
   "metadata": {
    "collapsed": false
   },
   "outputs": [],
   "source": [
    "## test\n",
    "for(i in 1:kk){\n",
    "  knns <- knn(olives[,-c(1,2)], test[,-c(1,2)],\n",
    "              cl=olives$Region, k=i,prob=TRUE)\n",
    "  t <- table(test$Region,knns)\n",
    "  err_test[i] <- missclassified(t)\n",
    "}"
   ]
  },
  {
   "cell_type": "code",
   "execution_count": null,
   "metadata": {
    "collapsed": false
   },
   "outputs": [],
   "source": [
    "## train\n",
    "## training error should be =0 when K=1\n",
    "for(i in 1:kk){\n",
    "  knns <- knn(olives[,-c(1,2)], olives[,-c(1,2)],\n",
    "              cl=olives$Region, k=i, prob=TRUE)\n",
    "  t <- table(olives$Region,knns)\n",
    "  err_train[i] <- missclassified(t)\n",
    "}"
   ]
  },
  {
   "cell_type": "code",
   "execution_count": null,
   "metadata": {
    "collapsed": true
   },
   "outputs": [],
   "source": [
    "## plot ALL errors\n",
    "err_all <- as.data.frame(c(err_cv, err_test, err_train))\n",
    "err_all$index <- as.factor(rep(c(1:kk),3))\n",
    "err_all$error <- as.factor(c(rep(\"cv\",length(err_cv)),\n",
    "                             rep(\"test\",length(err_test)),\n",
    "                             rep(\"train\",length(err_train))))\n",
    "\n",
    "names(err_all) <- c(\"val\",\"index\",\"error\")\n",
    "#err_all[c(1:10,90:120,190:205,299,300),]"
   ]
  },
  {
   "cell_type": "code",
   "execution_count": null,
   "metadata": {
    "collapsed": false
   },
   "outputs": [],
   "source": [
    "qplot(index,val,data=err_all,geom=\"line\", group=error, colour=error)+\n",
    "  scale_x_discrete(breaks=seq(0,50,5))+labs(x=\"K\",y=\"error value\")"
   ]
  },
  {
   "cell_type": "code",
   "execution_count": null,
   "metadata": {
    "collapsed": false
   },
   "outputs": [],
   "source": [
    "# with ggplot\n",
    "ggplot(data=err_all, aes(x=index,y=val)) +\n",
    "    geom_point(size=2,aes(shape=error)) +\n",
    "    geom_line(aes(group=error)) + \n",
    "    scale_x_discrete(breaks=seq(0,50,5)) +\n",
    "    labs(x=\"K\",y=\"error value\")"
   ]
  },
  {
   "cell_type": "markdown",
   "metadata": {},
   "source": [
    "## SVM"
   ]
  },
  {
   "cell_type": "code",
   "execution_count": null,
   "metadata": {
    "collapsed": false
   },
   "outputs": [],
   "source": [
    "# other choices: library(kernlab) which is the SVM in caret [svmLinear()]\n",
    "library(e1071)"
   ]
  },
  {
   "cell_type": "code",
   "execution_count": null,
   "metadata": {
    "collapsed": false
   },
   "outputs": [],
   "source": [
    "# important to specify type of outcome for classification or regression\n",
    "svm <- svm(factor(train$Area) ~ ., data=train[,3:10], type=\"C\", kernel=\"radial\")\n",
    "\n",
    "svm %>% summary"
   ]
  },
  {
   "cell_type": "code",
   "execution_count": null,
   "metadata": {
    "collapsed": false
   },
   "outputs": [],
   "source": [
    "# training error\n",
    "train_predict  <- predict(svm, train[, 3:10], decision.values = TRUE)\n",
    "\n",
    "# round predicted values to convert them to original class labels\n",
    "(t <- table(train$Area, train_predict))\n",
    "\n",
    "missclassified(t)"
   ]
  },
  {
   "cell_type": "code",
   "execution_count": null,
   "metadata": {
    "collapsed": false
   },
   "outputs": [],
   "source": [
    "# testing error\n",
    "test_predict <- predict(svm, test[,3:10], decision.values = TRUE)\n",
    "\n",
    "(t <- table(test$Area, test_predict))\n",
    "\n",
    "missclassified(t)"
   ]
  },
  {
   "cell_type": "markdown",
   "metadata": {},
   "source": [
    "### Details\n",
    "For multiclass-classification with k levels, k>2, libsvm uses the ‘one-against-one’-approach"
   ]
  },
  {
   "cell_type": "markdown",
   "metadata": {},
   "source": [
    "## Random forests (and trees)"
   ]
  },
  {
   "cell_type": "code",
   "execution_count": null,
   "metadata": {
    "collapsed": false
   },
   "outputs": [],
   "source": [
    "library(rpart)          # trees\n",
    "library(randomForest)"
   ]
  },
  {
   "cell_type": "code",
   "execution_count": null,
   "metadata": {
    "collapsed": false
   },
   "outputs": [],
   "source": [
    "tree <- rpart(factor(train$Area) ~ ., data=train[,3:10])"
   ]
  },
  {
   "cell_type": "code",
   "execution_count": null,
   "metadata": {
    "collapsed": false
   },
   "outputs": [],
   "source": [
    "#tree %>% summary"
   ]
  },
  {
   "cell_type": "code",
   "execution_count": null,
   "metadata": {
    "collapsed": false
   },
   "outputs": [],
   "source": [
    "printcp(tree)"
   ]
  },
  {
   "cell_type": "code",
   "execution_count": null,
   "metadata": {
    "collapsed": false
   },
   "outputs": [],
   "source": [
    "plot(tree)\n",
    "text(tree, cex = 0.7) # cex = text size\n",
    "title(\"Area classification tree. cp=0.01\")"
   ]
  },
  {
   "cell_type": "code",
   "execution_count": null,
   "metadata": {
    "collapsed": false
   },
   "outputs": [],
   "source": [
    "# training error\n",
    "train_predict <- predict(tree, train[,3:10], type=\"class\")\n",
    "\n",
    "(t <- table(train$Area, train_predict))\n",
    "\n",
    "missclassified(t)"
   ]
  },
  {
   "cell_type": "code",
   "execution_count": null,
   "metadata": {
    "collapsed": false
   },
   "outputs": [],
   "source": [
    "# testing error\n",
    "test_predict <- predict(tree, test[,3:10], type=\"class\")\n",
    "\n",
    "(t <- table(test$Area, test_predict))\n",
    "\n",
    "missclassified(t)"
   ]
  },
  {
   "cell_type": "code",
   "execution_count": null,
   "metadata": {
    "collapsed": false
   },
   "outputs": [],
   "source": [
    "set.seed(9991)\n",
    "# using olives dataset, with subset=split\n",
    "rf <- randomForest(factor(olives$Area) ~., data=olives, subset = split,\n",
    "                   ntree=1000,mtry=3,\n",
    "                   importance=TRUE)"
   ]
  },
  {
   "cell_type": "code",
   "execution_count": null,
   "metadata": {
    "collapsed": false
   },
   "outputs": [],
   "source": [
    "# includes confusion matrix\n",
    "rf"
   ]
  },
  {
   "cell_type": "code",
   "execution_count": null,
   "metadata": {
    "collapsed": false
   },
   "outputs": [],
   "source": [
    "# also appears in the above output\n",
    "missclassified(rf$confusion[,-10])"
   ]
  },
  {
   "cell_type": "code",
   "execution_count": null,
   "metadata": {
    "collapsed": false
   },
   "outputs": [],
   "source": [
    "# all 8 features were used\n",
    "varUsed(rf, count = FALSE)"
   ]
  },
  {
   "cell_type": "code",
   "execution_count": null,
   "metadata": {
    "collapsed": false
   },
   "outputs": [],
   "source": [
    "rf$importance"
   ]
  },
  {
   "cell_type": "markdown",
   "metadata": {},
   "source": [
    "## Exercises"
   ]
  },
  {
   "cell_type": "markdown",
   "metadata": {},
   "source": [
    "Perform each of these for the \"Area\" variable in the olives dataset."
   ]
  },
  {
   "cell_type": "markdown",
   "metadata": {},
   "source": [
    "*Copyright &copy; 2016 The Data Incubator.  All rights reserved.*"
   ]
  }
 ],
 "metadata": {
  "kernelspec": {
   "display_name": "R",
   "language": "R",
   "name": "ir"
  },
  "language_info": {
   "codemirror_mode": "r",
   "file_extension": ".r",
   "mimetype": "text/x-r-source",
   "name": "R",
   "pygments_lexer": "r",
   "version": "3.3.1"
  }
 },
 "nbformat": 4,
 "nbformat_minor": 1
}
