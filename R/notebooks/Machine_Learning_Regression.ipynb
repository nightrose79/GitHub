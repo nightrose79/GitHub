{
 "cells": [
  {
   "cell_type": "markdown",
   "metadata": {},
   "source": [
    "# ML: Regression"
   ]
  },
  {
   "cell_type": "markdown",
   "metadata": {},
   "source": [
    "In this notebook:\n",
    "* linear regression with lm()\n",
    "* bulk linear regression with `biglm`\n",
    "* logistic regression with glm()\n",
    "* `glmnet` for regularized regression (Ridge, Lasso, Elastic Net)\n",
    "\n",
    "Note: Since logistic regression predicts a binary outcome, it may be considered a classification algorithm. However, we include it here since it fits well with the other models in this notebook."
   ]
  },
  {
   "cell_type": "code",
   "execution_count": 1,
   "metadata": {
    "collapsed": false
   },
   "outputs": [
    {
     "name": "stderr",
     "output_type": "stream",
     "text": [
      "\n",
      "Attaching package: ‘dplyr’\n",
      "\n",
      "The following objects are masked from ‘package:stats’:\n",
      "\n",
      "    filter, lag\n",
      "\n",
      "The following objects are masked from ‘package:base’:\n",
      "\n",
      "    intersect, setdiff, setequal, union\n",
      "\n"
     ]
    }
   ],
   "source": [
    "library(dplyr)"
   ]
  },
  {
   "cell_type": "code",
   "execution_count": 2,
   "metadata": {
    "collapsed": false
   },
   "outputs": [],
   "source": [
    "wine <- readRDS(\"small_data/wine.RDS\")\n",
    "inpatient <- readRDS(\"small_data/Medicare_Provider_Charge_Inpatient_DRGALL_FY2014_clean.RDS\")"
   ]
  },
  {
   "cell_type": "code",
   "execution_count": 3,
   "metadata": {
    "collapsed": false
   },
   "outputs": [
    {
     "data": {
      "text/html": [
       "<table>\n",
       "<thead><tr><th scope=col>Alcohol.content</th><th scope=col>Malic.acid</th><th scope=col>As</th><th scope=col>Alcalinity.in.ash</th><th scope=col>Magnesium</th><th scope=col>Total.phenols</th><th scope=col>Flavonoids</th><th scope=col>Nonflavonoid.phenols</th><th scope=col>Proanthocyanidins</th><th scope=col>Color.Intensity</th><th scope=col>Hue</th><th scope=col>OD280.OD315</th><th scope=col>Proline</th></tr></thead>\n",
       "<tbody>\n",
       "\t<tr><td>14.23</td><td>1.71 </td><td>2.43 </td><td>15.6 </td><td>127  </td><td>2.80 </td><td>3.06 </td><td>0.28 </td><td>2.29 </td><td>5.64 </td><td>1.04 </td><td>3.92 </td><td>1065 </td></tr>\n",
       "\t<tr><td>13.20</td><td>1.78 </td><td>2.14 </td><td>11.2 </td><td>100  </td><td>2.65 </td><td>2.76 </td><td>0.26 </td><td>1.28 </td><td>4.38 </td><td>1.05 </td><td>3.40 </td><td>1050 </td></tr>\n",
       "\t<tr><td>13.16</td><td>2.36 </td><td>2.67 </td><td>18.6 </td><td>101  </td><td>2.80 </td><td>3.24 </td><td>0.30 </td><td>2.81 </td><td>5.68 </td><td>1.03 </td><td>3.17 </td><td>1185 </td></tr>\n",
       "\t<tr><td>14.37</td><td>1.95 </td><td>2.50 </td><td>16.8 </td><td>113  </td><td>3.85 </td><td>3.49 </td><td>0.24 </td><td>2.18 </td><td>7.80 </td><td>0.86 </td><td>3.45 </td><td>1480 </td></tr>\n",
       "\t<tr><td>13.24</td><td>2.59 </td><td>2.87 </td><td>21.0 </td><td>118  </td><td>2.80 </td><td>2.69 </td><td>0.39 </td><td>1.82 </td><td>4.32 </td><td>1.04 </td><td>2.93 </td><td> 735 </td></tr>\n",
       "\t<tr><td>14.20</td><td>1.76 </td><td>2.45 </td><td>15.2 </td><td>112  </td><td>3.27 </td><td>3.39 </td><td>0.34 </td><td>1.97 </td><td>6.75 </td><td>1.05 </td><td>2.85 </td><td>1450 </td></tr>\n",
       "</tbody>\n",
       "</table>\n"
      ],
      "text/latex": [
       "\\begin{tabular}{r|lllllllllllll}\n",
       " Alcohol.content & Malic.acid & As & Alcalinity.in.ash & Magnesium & Total.phenols & Flavonoids & Nonflavonoid.phenols & Proanthocyanidins & Color.Intensity & Hue & OD280.OD315 & Proline\\\\\n",
       "\\hline\n",
       "\t 14.23 & 1.71  & 2.43  & 15.6  & 127   & 2.80  & 3.06  & 0.28  & 2.29  & 5.64  & 1.04  & 3.92  & 1065 \\\\\n",
       "\t 13.20 & 1.78  & 2.14  & 11.2  & 100   & 2.65  & 2.76  & 0.26  & 1.28  & 4.38  & 1.05  & 3.40  & 1050 \\\\\n",
       "\t 13.16 & 2.36  & 2.67  & 18.6  & 101   & 2.80  & 3.24  & 0.30  & 2.81  & 5.68  & 1.03  & 3.17  & 1185 \\\\\n",
       "\t 14.37 & 1.95  & 2.50  & 16.8  & 113   & 3.85  & 3.49  & 0.24  & 2.18  & 7.80  & 0.86  & 3.45  & 1480 \\\\\n",
       "\t 13.24 & 2.59  & 2.87  & 21.0  & 118   & 2.80  & 2.69  & 0.39  & 1.82  & 4.32  & 1.04  & 2.93  &  735 \\\\\n",
       "\t 14.20 & 1.76  & 2.45  & 15.2  & 112   & 3.27  & 3.39  & 0.34  & 1.97  & 6.75  & 1.05  & 2.85  & 1450 \\\\\n",
       "\\end{tabular}\n"
      ],
      "text/plain": [
       "  Alcohol.content Malic.acid As   Alcalinity.in.ash Magnesium Total.phenols\n",
       "1 14.23           1.71       2.43 15.6              127       2.80         \n",
       "2 13.20           1.78       2.14 11.2              100       2.65         \n",
       "3 13.16           2.36       2.67 18.6              101       2.80         \n",
       "4 14.37           1.95       2.50 16.8              113       3.85         \n",
       "5 13.24           2.59       2.87 21.0              118       2.80         \n",
       "6 14.20           1.76       2.45 15.2              112       3.27         \n",
       "  Flavonoids Nonflavonoid.phenols Proanthocyanidins Color.Intensity Hue \n",
       "1 3.06       0.28                 2.29              5.64            1.04\n",
       "2 2.76       0.26                 1.28              4.38            1.05\n",
       "3 3.24       0.30                 2.81              5.68            1.03\n",
       "4 3.49       0.24                 2.18              7.80            0.86\n",
       "5 2.69       0.39                 1.82              4.32            1.04\n",
       "6 3.39       0.34                 1.97              6.75            1.05\n",
       "  OD280.OD315 Proline\n",
       "1 3.92        1065   \n",
       "2 3.40        1050   \n",
       "3 3.17        1185   \n",
       "4 3.45        1480   \n",
       "5 2.93         735   \n",
       "6 2.85        1450   "
      ]
     },
     "metadata": {},
     "output_type": "display_data"
    }
   ],
   "source": [
    "wine %>% head"
   ]
  },
  {
   "cell_type": "markdown",
   "metadata": {},
   "source": [
    "## Preparatory code"
   ]
  },
  {
   "cell_type": "markdown",
   "metadata": {},
   "source": [
    "### Split into training/testing"
   ]
  },
  {
   "cell_type": "code",
   "execution_count": 4,
   "metadata": {
    "collapsed": false
   },
   "outputs": [
    {
     "name": "stderr",
     "output_type": "stream",
     "text": [
      "Loading required package: lattice\n",
      "Loading required package: ggplot2\n"
     ]
    }
   ],
   "source": [
    "library(caret)\n",
    "\n",
    "split <- createDataPartition(y=wine$Alcohol.content,\n",
    "                             p=0.80,\n",
    "                             list=FALSE)"
   ]
  },
  {
   "cell_type": "code",
   "execution_count": 7,
   "metadata": {
    "collapsed": false
   },
   "outputs": [],
   "source": [
    "train <- wine[split,]\n",
    "test <- wine[-split,]"
   ]
  },
  {
   "cell_type": "markdown",
   "metadata": {},
   "source": [
    "## Linear Regression with lm()"
   ]
  },
  {
   "cell_type": "code",
   "execution_count": 8,
   "metadata": {
    "collapsed": true
   },
   "outputs": [],
   "source": [
    "lm <- lm(Alcohol.content ~ ., data=train)"
   ]
  },
  {
   "cell_type": "code",
   "execution_count": 9,
   "metadata": {
    "collapsed": false
   },
   "outputs": [
    {
     "data": {
      "text/plain": [
       "\n",
       "Call:\n",
       "lm(formula = Alcohol.content ~ ., data = train)\n",
       "\n",
       "Residuals:\n",
       "     Min       1Q   Median       3Q      Max \n",
       "-1.36026 -0.31287 -0.02983  0.35502  1.43627 \n",
       "\n",
       "Coefficients:\n",
       "                       Estimate Std. Error t value Pr(>|t|)    \n",
       "(Intercept)          10.8778073  0.6931783  15.693  < 2e-16 ***\n",
       "Malic.acid            0.1360978  0.0503886   2.701  0.00783 ** \n",
       "As                    0.3075357  0.2490288   1.235  0.21906    \n",
       "Alcalinity.in.ash    -0.0438369  0.0218397  -2.007  0.04678 *  \n",
       "Magnesium            -0.0008272  0.0040681  -0.203  0.83919    \n",
       "Total.phenols         0.0511685  0.1517595   0.337  0.73653    \n",
       "Flavonoids            0.0224997  0.1250809   0.180  0.85752    \n",
       "Nonflavonoid.phenols -0.2224677  0.4826780  -0.461  0.64563    \n",
       "Proanthocyanidins    -0.1389904  0.1126489  -1.234  0.21947    \n",
       "Color.Intensity       0.1622888  0.0293428   5.531 1.66e-07 ***\n",
       "Hue                   0.3090791  0.3085783   1.002  0.31837    \n",
       "OD280.OD315           0.1424259  0.1250396   1.139  0.25676    \n",
       "Proline               0.0008750  0.0002278   3.840  0.00019 ***\n",
       "---\n",
       "Signif. codes:  0 ‘***’ 0.001 ‘**’ 0.01 ‘*’ 0.05 ‘.’ 0.1 ‘ ’ 1\n",
       "\n",
       "Residual standard error: 0.5471 on 131 degrees of freedom\n",
       "Multiple R-squared:  0.578,\tAdjusted R-squared:  0.5393 \n",
       "F-statistic: 14.95 on 12 and 131 DF,  p-value: < 2.2e-16\n"
      ]
     },
     "metadata": {},
     "output_type": "display_data"
    }
   ],
   "source": [
    "# shows significant predictors with asterisks *\n",
    "# overall fit can be evaluated with (adjusted) R squared\n",
    "lm %>% summary"
   ]
  },
  {
   "cell_type": "code",
   "execution_count": 10,
   "metadata": {
    "collapsed": false
   },
   "outputs": [
    {
     "data": {
      "text/html": [
       "<dl class=dl-horizontal>\n",
       "\t<dt>1</dt>\n",
       "\t\t<dd>13.0417608769097</dd>\n",
       "\t<dt>2</dt>\n",
       "\t\t<dd>13.8384368587686</dd>\n",
       "\t<dt>3</dt>\n",
       "\t\t<dd>13.5635375386732</dd>\n",
       "\t<dt>4</dt>\n",
       "\t\t<dd>13.700610214308</dd>\n",
       "\t<dt>5</dt>\n",
       "\t\t<dd>13.599878177836</dd>\n",
       "\t<dt>6</dt>\n",
       "\t\t<dd>13.3613921021014</dd>\n",
       "</dl>\n"
      ],
      "text/latex": [
       "\\begin{description*}\n",
       "\\item[1] 13.0417608769097\n",
       "\\item[2] 13.8384368587686\n",
       "\\item[3] 13.5635375386732\n",
       "\\item[4] 13.700610214308\n",
       "\\item[5] 13.599878177836\n",
       "\\item[6] 13.3613921021014\n",
       "\\end{description*}\n"
      ],
      "text/markdown": [
       "1\n",
       ":   13.04176087690972\n",
       ":   13.83843685876863\n",
       ":   13.56353753867324\n",
       ":   13.7006102143085\n",
       ":   13.5998781778366\n",
       ":   13.3613921021014\n",
       "\n"
      ],
      "text/plain": [
       "       1        2        3        4        5        6 \n",
       "13.04176 13.83844 13.56354 13.70061 13.59988 13.36139 "
      ]
     },
     "metadata": {},
     "output_type": "display_data"
    }
   ],
   "source": [
    "# make predictions on testing data\n",
    "test_pred <- predict(lm, test)\n",
    "test_pred %>% head"
   ]
  },
  {
   "cell_type": "code",
   "execution_count": 11,
   "metadata": {
    "collapsed": false
   },
   "outputs": [
    {
     "data": {
      "text/html": [
       "0.256230704123819"
      ],
      "text/latex": [
       "0.256230704123819"
      ],
      "text/markdown": [
       "0.256230704123819"
      ],
      "text/plain": [
       "[1] 0.2562307"
      ]
     },
     "metadata": {},
     "output_type": "display_data"
    }
   ],
   "source": [
    "# compute predicted MSE\n",
    "mean( (test$Alcohol.content-test_pred)**2 )"
   ]
  },
  {
   "cell_type": "markdown",
   "metadata": {},
   "source": [
    "## Use biglm() for bulk linear regression\n",
    "`biglm` creates objects that are considerably smaller:"
   ]
  },
  {
   "cell_type": "code",
   "execution_count": 12,
   "metadata": {
    "collapsed": false
   },
   "outputs": [
    {
     "name": "stderr",
     "output_type": "stream",
     "text": [
      "Loading required package: DBI\n"
     ]
    }
   ],
   "source": [
    "library(biglm)"
   ]
  },
  {
   "cell_type": "code",
   "execution_count": 13,
   "metadata": {
    "collapsed": false
   },
   "outputs": [
    {
     "name": "stdout",
     "output_type": "stream",
     "text": [
      "51.3 Mb\n"
     ]
    }
   ],
   "source": [
    "# lm()\n",
    "inpatient %>%\n",
    "    group_by(DRG.code) %>%\n",
    "    do(mod = lm(Average.Total.Payments ~ Total.Discharges , data=.)) %>%\n",
    "    object.size() %>%\n",
    "    print(unit = \"Mb\")"
   ]
  },
  {
   "cell_type": "code",
   "execution_count": 14,
   "metadata": {
    "collapsed": false
   },
   "outputs": [
    {
     "name": "stdout",
     "output_type": "stream",
     "text": [
      "3.1 Mb\n"
     ]
    }
   ],
   "source": [
    "# biglm()\n",
    "inpatient %>%\n",
    "    group_by(DRG.code) %>%\n",
    "    do(mod = biglm(Average.Total.Payments ~ Total.Discharges, data=.)) %>%\n",
    "    object.size() %>%\n",
    "    print(unit = \"Mb\")"
   ]
  },
  {
   "cell_type": "markdown",
   "metadata": {},
   "source": [
    "## Logistic Regression with glm()"
   ]
  },
  {
   "cell_type": "code",
   "execution_count": 15,
   "metadata": {
    "collapsed": false
   },
   "outputs": [
    {
     "data": {
      "text/plain": [
       "   Min. 1st Qu.  Median    Mean 3rd Qu.    Max. \n",
       "  11.03   12.36   13.05   12.99   13.67   14.83 "
      ]
     },
     "metadata": {},
     "output_type": "display_data"
    }
   ],
   "source": [
    "# create a target y\n",
    "summary(wine$Alcohol.content)"
   ]
  },
  {
   "cell_type": "code",
   "execution_count": 16,
   "metadata": {
    "collapsed": true
   },
   "outputs": [],
   "source": [
    "train2 <- train\n",
    "train2$y <- ifelse(train$Alcohol.content>13, 1, 0)\n",
    "train2 <- train2[,-1]\n",
    "\n",
    "test2 <- test\n",
    "test2$y <- ifelse(test$Alcohol.content>13, 1, 0)\n",
    "test2 <- test2[,-1]"
   ]
  },
  {
   "cell_type": "code",
   "execution_count": 17,
   "metadata": {
    "collapsed": false
   },
   "outputs": [],
   "source": [
    "# change family to run logistic regression\n",
    "lr <- glm(y ~ ., data=train2, family = \"binomial\")"
   ]
  },
  {
   "cell_type": "code",
   "execution_count": 18,
   "metadata": {
    "collapsed": false
   },
   "outputs": [
    {
     "data": {
      "text/plain": [
       "\n",
       "Call:\n",
       "glm(formula = y ~ ., family = \"binomial\", data = train2)\n",
       "\n",
       "Deviance Residuals: \n",
       "     Min        1Q    Median        3Q       Max  \n",
       "-2.12006  -0.53000   0.03874   0.49822   2.20402  \n",
       "\n",
       "Coefficients:\n",
       "                       Estimate Std. Error z value Pr(>|z|)    \n",
       "(Intercept)          -10.349293   3.921285  -2.639 0.008309 ** \n",
       "Malic.acid             0.720198   0.272679   2.641 0.008261 ** \n",
       "As                    -0.329054   1.402944  -0.235 0.814562    \n",
       "Alcalinity.in.ash      0.027629   0.124421   0.222 0.824266    \n",
       "Magnesium             -0.010402   0.023760  -0.438 0.661527    \n",
       "Total.phenols          0.665460   0.793627   0.839 0.401747    \n",
       "Flavonoids             0.698352   0.642963   1.086 0.277414    \n",
       "Nonflavonoid.phenols  -1.494078   2.465587  -0.606 0.544533    \n",
       "Proanthocyanidins     -0.216113   0.655318  -0.330 0.741564    \n",
       "Color.Intensity        0.524575   0.157170   3.338 0.000845 ***\n",
       "Hue                    2.833398   1.787131   1.585 0.112865    \n",
       "OD280.OD315           -0.641386   0.705492  -0.909 0.363280    \n",
       "Proline                0.006209   0.001674   3.710 0.000208 ***\n",
       "---\n",
       "Signif. codes:  0 ‘***’ 0.001 ‘**’ 0.01 ‘*’ 0.05 ‘.’ 0.1 ‘ ’ 1\n",
       "\n",
       "(Dispersion parameter for binomial family taken to be 1)\n",
       "\n",
       "    Null deviance: 199.38  on 143  degrees of freedom\n",
       "Residual deviance: 104.42  on 131  degrees of freedom\n",
       "AIC: 130.42\n",
       "\n",
       "Number of Fisher Scoring iterations: 6\n"
      ]
     },
     "metadata": {},
     "output_type": "display_data"
    }
   ],
   "source": [
    "lr %>% summary"
   ]
  },
  {
   "cell_type": "code",
   "execution_count": 19,
   "metadata": {
    "collapsed": false
   },
   "outputs": [
    {
     "data": {
      "text/html": [
       "<dl class=dl-horizontal>\n",
       "\t<dt>1</dt>\n",
       "\t\t<dd>0.642746762343212</dd>\n",
       "\t<dt>2</dt>\n",
       "\t\t<dd>0.976209245702458</dd>\n",
       "\t<dt>3</dt>\n",
       "\t\t<dd>0.980902122933337</dd>\n",
       "\t<dt>4</dt>\n",
       "\t\t<dd>0.994010703066591</dd>\n",
       "\t<dt>5</dt>\n",
       "\t\t<dd>0.990763192345812</dd>\n",
       "\t<dt>6</dt>\n",
       "\t\t<dd>0.84381624176485</dd>\n",
       "</dl>\n"
      ],
      "text/latex": [
       "\\begin{description*}\n",
       "\\item[1] 0.642746762343212\n",
       "\\item[2] 0.976209245702458\n",
       "\\item[3] 0.980902122933337\n",
       "\\item[4] 0.994010703066591\n",
       "\\item[5] 0.990763192345812\n",
       "\\item[6] 0.84381624176485\n",
       "\\end{description*}\n"
      ],
      "text/markdown": [
       "1\n",
       ":   0.6427467623432122\n",
       ":   0.9762092457024583\n",
       ":   0.9809021229333374\n",
       ":   0.9940107030665915\n",
       ":   0.9907631923458126\n",
       ":   0.84381624176485\n",
       "\n"
      ],
      "text/plain": [
       "        1         2         3         4         5         6 \n",
       "0.6427468 0.9762092 0.9809021 0.9940107 0.9907632 0.8438162 "
      ]
     },
     "metadata": {},
     "output_type": "display_data"
    }
   ],
   "source": [
    "predict(lr, newdata=test2, type = \"response\") %>% head"
   ]
  },
  {
   "cell_type": "code",
   "execution_count": 20,
   "metadata": {
    "collapsed": false
   },
   "outputs": [
    {
     "data": {
      "text/plain": [
       "   \n",
       "     0  1\n",
       "  0 16  3\n",
       "  1  3 14"
      ]
     },
     "metadata": {},
     "output_type": "display_data"
    }
   ],
   "source": [
    "# confusion matrix\n",
    "(t <- table(test2$y, round(predict(lr, test2, type = \"response\"))))"
   ]
  },
  {
   "cell_type": "code",
   "execution_count": 21,
   "metadata": {
    "collapsed": true
   },
   "outputs": [],
   "source": [
    "# obtain missclassificaton, given a confusion matrix\n",
    "missclassified <- function(t){\n",
    "    x =  (sum(t)-sum(diag(t)))/sum(t)\n",
    "    round(x, 3)\n",
    "}"
   ]
  },
  {
   "cell_type": "code",
   "execution_count": 22,
   "metadata": {
    "collapsed": false
   },
   "outputs": [
    {
     "data": {
      "text/html": [
       "0.167"
      ],
      "text/latex": [
       "0.167"
      ],
      "text/markdown": [
       "0.167"
      ],
      "text/plain": [
       "[1] 0.167"
      ]
     },
     "metadata": {},
     "output_type": "display_data"
    }
   ],
   "source": [
    "missclassified(t)"
   ]
  },
  {
   "cell_type": "markdown",
   "metadata": {},
   "source": [
    "## Regularized models with glmnet\n",
    "\"You should never not regularize\""
   ]
  },
  {
   "cell_type": "markdown",
   "metadata": {},
   "source": [
    "Regularization is a strategy to lessen the effect of overfitting. Here, regularization shrinks the effect of some features for better predictive power.\n",
    "\n",
    "**Lasso regression** may shrink some coefficients to zero, effectively eliminating them. Therefore, **Lasso may be used for variable selection.**\n",
    "\n",
    "**Ridge regression** only shrinks coefficients, but they are never shrunk to zero.\n",
    "\n",
    "**Elastic net** combines lasso and ridge regression.\n",
    "\n",
    "`Lambda` is the regularization parameter, which controls the \"strength\" of regularization. It is usually selected with cross-validation.\n",
    "\n",
    "The `alpha` parameter in `glmnet` selects between the above 3 models."
   ]
  },
  {
   "cell_type": "code",
   "execution_count": 23,
   "metadata": {
    "collapsed": false
   },
   "outputs": [
    {
     "name": "stderr",
     "output_type": "stream",
     "text": [
      "Loading required package: Matrix\n",
      "Loading required package: foreach\n",
      "Loaded glmnet 2.0-5\n",
      "\n"
     ]
    }
   ],
   "source": [
    "#https://web.stanford.edu/~hastie/glmnet/glmnet_alpha.html\n",
    "library(glmnet)"
   ]
  },
  {
   "cell_type": "code",
   "execution_count": 24,
   "metadata": {
    "collapsed": false
   },
   "outputs": [],
   "source": [
    "# obtain training and testing splits\n",
    "# glmnet() requires input matrices\n",
    "\n",
    "y_train <- train$Alcohol.content %>% as.matrix\n",
    "X_train <- train[,-1] %>% as.matrix\n",
    "\n",
    "y_test <- test$Alcohol.content %>% as.matrix\n",
    "X_test <- test[,-1] %>% as.matrix"
   ]
  },
  {
   "cell_type": "code",
   "execution_count": 25,
   "metadata": {
    "collapsed": false
   },
   "outputs": [],
   "source": [
    "# alpha is for the elastic-net mixing parameter; alpha is in [0, 1]\n",
    "# alpha=1 (default) is for lasso, alpha=0 is the ridge\n",
    "# standardize = TRUE is default\n",
    "# family = gaussian (default)\n",
    "# family = \"binomial\" for regularized logistic regression\n",
    "# also:\"multinomial\" for multinomial model, \"poisson\" for Poisson regression,\n",
    "# \"cox\" for a survival model\n",
    "\n",
    "fit  <-  glmnet(X_train, y_train, alpha = 1, standardize = TRUE)"
   ]
  },
  {
   "cell_type": "code",
   "execution_count": 26,
   "metadata": {
    "collapsed": false
   },
   "outputs": [
    {
     "data": {
      "image/png": "[encoded data removed]",
      "text/plain": [
       "plot without title"
      ]
     },
     "metadata": {},
     "output_type": "display_data"
    }
   ],
   "source": [
    "# each curve is a feature (X_i)\n",
    "# top horizontal axis: number of non-zero coefficients at given lambda\n",
    "# bottom horizontal axis: lambda (default)\n",
    "# label=TRUE to label feature curves\n",
    "plot(fit, xvar = \"lambda\", label = TRUE)"
   ]
  },
  {
   "cell_type": "code",
   "execution_count": 27,
   "metadata": {
    "collapsed": false
   },
   "outputs": [
    {
     "data": {
      "text/html": [
       "<ol class=list-inline>\n",
       "\t<li>'Malic.acid'</li>\n",
       "\t<li>'Color.Intensity'</li>\n",
       "</ol>\n"
      ],
      "text/latex": [
       "\\begin{enumerate*}\n",
       "\\item 'Malic.acid'\n",
       "\\item 'Color.Intensity'\n",
       "\\end{enumerate*}\n"
      ],
      "text/markdown": [
       "1. 'Malic.acid'\n",
       "2. 'Color.Intensity'\n",
       "\n",
       "\n"
      ],
      "text/plain": [
       "[1] \"Malic.acid\"      \"Color.Intensity\""
      ]
     },
     "metadata": {},
     "output_type": "display_data"
    }
   ],
   "source": [
    "feature_number <- c(1,9)\n",
    "names(train[,-1])[feature_number]"
   ]
  },
  {
   "cell_type": "code",
   "execution_count": 28,
   "metadata": {
    "collapsed": false
   },
   "outputs": [
    {
     "data": {
      "text/plain": [
       "          Length Class     Mode   \n",
       "a0         70    -none-    numeric\n",
       "beta      840    dgCMatrix S4     \n",
       "df         70    -none-    numeric\n",
       "dim         2    -none-    numeric\n",
       "lambda     70    -none-    numeric\n",
       "dev.ratio  70    -none-    numeric\n",
       "nulldev     1    -none-    numeric\n",
       "npasses     1    -none-    numeric\n",
       "jerr        1    -none-    numeric\n",
       "offset      1    -none-    logical\n",
       "call        5    -none-    call   \n",
       "nobs        1    -none-    numeric"
      ]
     },
     "metadata": {},
     "output_type": "display_data"
    }
   ],
   "source": [
    "fit %>% summary"
   ]
  },
  {
   "cell_type": "code",
   "execution_count": 29,
   "metadata": {
    "collapsed": false,
    "scrolled": true
   },
   "outputs": [
    {
     "data": {
      "text/plain": [
       "\n",
       "Call:  glmnet(x = X_train, y = y_train, alpha = 1, standardize = TRUE) \n",
       "\n",
       "      Df    %Dev    Lambda\n",
       " [1,]  0 0.00000 0.5050000\n",
       " [2,]  1 0.06711 0.4601000\n",
       " [3,]  1 0.12280 0.4193000\n",
       " [4,]  2 0.17980 0.3820000\n",
       " [5,]  2 0.23830 0.3481000\n",
       " [6,]  2 0.28700 0.3172000\n",
       " [7,]  2 0.32730 0.2890000\n",
       " [8,]  2 0.36080 0.2633000\n",
       " [9,]  2 0.38860 0.2399000\n",
       "[10,]  2 0.41170 0.2186000\n",
       "[11,]  2 0.43090 0.1992000\n",
       "[12,]  2 0.44680 0.1815000\n",
       "[13,]  2 0.46000 0.1654000\n",
       "[14,]  2 0.47100 0.1507000\n",
       "[15,]  2 0.48010 0.1373000\n",
       "[16,]  2 0.48770 0.1251000\n",
       "[17,]  2 0.49400 0.1140000\n",
       "[18,]  2 0.49920 0.1039000\n",
       "[19,]  2 0.50350 0.0946300\n",
       "[20,]  2 0.50710 0.0862200\n",
       "[21,]  4 0.51060 0.0785600\n",
       "[22,]  4 0.51670 0.0715800\n",
       "[23,]  5 0.52330 0.0652200\n",
       "[24,]  5 0.52880 0.0594300\n",
       "[25,]  6 0.53410 0.0541500\n",
       "[26,]  7 0.53960 0.0493400\n",
       "[27,]  7 0.54470 0.0449600\n",
       "[28,]  7 0.54890 0.0409600\n",
       "[29,]  7 0.55230 0.0373200\n",
       "[30,]  8 0.55520 0.0340100\n",
       "[31,]  8 0.55760 0.0309900\n",
       "[32,]  8 0.55960 0.0282300\n",
       "[33,]  8 0.56130 0.0257300\n",
       "[34,]  8 0.56260 0.0234400\n",
       "[35,] 10 0.56480 0.0213600\n",
       "[36,] 10 0.56700 0.0194600\n",
       "[37,] 11 0.56870 0.0177300\n",
       "[38,] 11 0.57030 0.0161600\n",
       "[39,] 11 0.57160 0.0147200\n",
       "[40,] 11 0.57260 0.0134100\n",
       "[41,] 11 0.57350 0.0122200\n",
       "[42,] 11 0.57420 0.0111400\n",
       "[43,] 11 0.57490 0.0101500\n",
       "[44,] 11 0.57540 0.0092450\n",
       "[45,] 11 0.57580 0.0084240\n",
       "[46,] 11 0.57610 0.0076750\n",
       "[47,] 11 0.57640 0.0069940\n",
       "[48,] 11 0.57670 0.0063720\n",
       "[49,] 11 0.57690 0.0058060\n",
       "[50,] 12 0.57700 0.0052900\n",
       "[51,] 12 0.57720 0.0048200\n",
       "[52,] 12 0.57730 0.0043920\n",
       "[53,] 12 0.57740 0.0040020\n",
       "[54,] 12 0.57750 0.0036460\n",
       "[55,] 12 0.57760 0.0033230\n",
       "[56,] 12 0.57770 0.0030270\n",
       "[57,] 12 0.57770 0.0027580\n",
       "[58,] 12 0.57780 0.0025130\n",
       "[59,] 12 0.57780 0.0022900\n",
       "[60,] 12 0.57780 0.0020870\n",
       "[61,] 12 0.57790 0.0019010\n",
       "[62,] 12 0.57790 0.0017320\n",
       "[63,] 12 0.57790 0.0015780\n",
       "[64,] 12 0.57790 0.0014380\n",
       "[65,] 12 0.57790 0.0013100\n",
       "[66,] 12 0.57790 0.0011940\n",
       "[67,] 12 0.57790 0.0010880\n",
       "[68,] 12 0.57800 0.0009913\n",
       "[69,] 12 0.57800 0.0009033\n",
       "[70,] 12 0.57800 0.0008230"
      ]
     },
     "metadata": {},
     "output_type": "display_data"
    }
   ],
   "source": [
    "# df = number of nonzero coefficient\n",
    "# %dev = the percent (of null) deviance explained\n",
    "# lambda:  the value of λ\n",
    "fit"
   ]
  },
  {
   "cell_type": "code",
   "execution_count": 30,
   "metadata": {
    "collapsed": false
   },
   "outputs": [
    {
     "data": {
      "text/plain": [
       "13 x 1 sparse Matrix of class \"dgCMatrix\"\n",
       "                                1\n",
       "(Intercept)          1.241409e+01\n",
       "Malic.acid           .           \n",
       "As                   .           \n",
       "Alcalinity.in.ash    .           \n",
       "Magnesium            .           \n",
       "Total.phenols        .           \n",
       "Flavonoids           .           \n",
       "Nonflavonoid.phenols .           \n",
       "Proanthocyanidins    .           \n",
       "Color.Intensity      3.151348e-02\n",
       "Hue                  .           \n",
       "OD280.OD315          .           \n",
       "Proline              5.776263e-04"
      ]
     },
     "metadata": {},
     "output_type": "display_data"
    }
   ],
   "source": [
    "# feature selection\n",
    "# specify lambda with s (see fit above)\n",
    "# this will return the \"best\" features\n",
    "coef(fit, s=0.3)      # lambda = 0.3 returns 2 \"best\" features"
   ]
  },
  {
   "cell_type": "code",
   "execution_count": 31,
   "metadata": {
    "collapsed": false
   },
   "outputs": [
    {
     "data": {
      "text/html": [
       "<table>\n",
       "<thead><tr><th scope=col>1</th><th scope=col>2</th></tr></thead>\n",
       "<tbody>\n",
       "\t<tr><td>13.00488</td><td>12.97478</td></tr>\n",
       "\t<tr><td>13.01378</td><td>13.32126</td></tr>\n",
       "\t<tr><td>13.01354</td><td>13.31102</td></tr>\n",
       "\t<tr><td>13.01354</td><td>13.34883</td></tr>\n",
       "\t<tr><td>13.01116</td><td>13.27479</td></tr>\n",
       "\t<tr><td>13.00965</td><td>13.16004</td></tr>\n",
       "</tbody>\n",
       "</table>\n"
      ],
      "text/latex": [
       "\\begin{tabular}{ll}\n",
       " 1 & 2\\\\\n",
       "\\hline\n",
       "\t 13.00488 & 12.97478\\\\\n",
       "\t 13.01378 & 13.32126\\\\\n",
       "\t 13.01354 & 13.31102\\\\\n",
       "\t 13.01354 & 13.34883\\\\\n",
       "\t 13.01116 & 13.27479\\\\\n",
       "\t 13.00965 & 13.16004\\\\\n",
       "\\end{tabular}\n"
      ],
      "text/markdown": [
       "1. 13.0048754517944\n",
       "2. 13.0137803962841\n",
       "3. 13.0135418709853\n",
       "4. 13.0135418709853\n",
       "5. 13.011156617997\n",
       "6. 13.009645957771\n",
       "7. 12.9747816901939\n",
       "8. 13.3212572691323\n",
       "9. 13.3110172002767\n",
       "10. 13.3488333791682\n",
       "11. 13.2747948247804\n",
       "12. 13.1600447082128\n",
       "\n",
       "\n"
      ],
      "text/plain": [
       "     1        2       \n",
       "[1,] 13.00488 12.97478\n",
       "[2,] 13.01378 13.32126\n",
       "[3,] 13.01354 13.31102\n",
       "[4,] 13.01354 13.34883\n",
       "[5,] 13.01116 13.27479\n",
       "[6,] 13.00965 13.16004"
      ]
     },
     "metadata": {},
     "output_type": "display_data"
    }
   ],
   "source": [
    "# predict. can specify (multiple) lambdas with s=\n",
    "predict(fit, X_test, s=c(0.5, 0.3)) %>% head"
   ]
  },
  {
   "cell_type": "markdown",
   "metadata": {},
   "source": [
    "### cross validation in glmnet"
   ]
  },
  {
   "cell_type": "code",
   "execution_count": 32,
   "metadata": {
    "collapsed": false
   },
   "outputs": [],
   "source": [
    "# more parameters: type.measure, nfolds\n",
    "cvfit <- cv.glmnet(X_train, y_train)"
   ]
  },
  {
   "cell_type": "code",
   "execution_count": null,
   "metadata": {
    "collapsed": true
   },
   "outputs": [],
   "source": [
    "?cv.glmnet"
   ]
  },
  {
   "cell_type": "code",
   "execution_count": 34,
   "metadata": {
    "collapsed": false
   },
   "outputs": [
    {
     "data": {
      "image/png": "[encoded data removed]",
      "text/plain": [
       "plot without title"
      ]
     },
     "metadata": {},
     "output_type": "display_data"
    }
   ],
   "source": [
    "# again, features on top axis, and lambda on bottom axis\n",
    "# MSE is shown, with standard deviation curves\n",
    "# 2 vertical lines: lamnda.min and lamnbda.lse (see next)\n",
    "plot(cvfit)"
   ]
  },
  {
   "cell_type": "code",
   "execution_count": 35,
   "metadata": {
    "collapsed": false
   },
   "outputs": [
    {
     "data": {
      "text/html": [
       "0.0309861236806247"
      ],
      "text/latex": [
       "0.0309861236806247"
      ],
      "text/markdown": [
       "0.0309861236806247"
      ],
      "text/plain": [
       "[1] 0.03098612"
      ]
     },
     "metadata": {},
     "output_type": "display_data"
    }
   ],
   "source": [
    "# extract lambda with minimum mean CV error\n",
    "# this is one of the vertical lines in the plot above\n",
    "cvfit$lambda.min"
   ]
  },
  {
   "cell_type": "code",
   "execution_count": 36,
   "metadata": {
    "collapsed": false
   },
   "outputs": [
    {
     "data": {
      "text/html": [
       "0.199181068640271"
      ],
      "text/latex": [
       "0.199181068640271"
      ],
      "text/markdown": [
       "0.199181068640271"
      ],
      "text/plain": [
       "[1] 0.1991811"
      ]
     },
     "metadata": {},
     "output_type": "display_data"
    }
   ],
   "source": [
    "# extract lambda from regularized model within 1 s.d. of lambda.min \n",
    "# this is the other vertical line in plot above\n",
    "# 1se = \"one s-e\" not \"L s-e\"\n",
    "cvfit$lambda.1se"
   ]
  },
  {
   "cell_type": "code",
   "execution_count": 37,
   "metadata": {
    "collapsed": false
   },
   "outputs": [
    {
     "data": {
      "text/plain": [
       "13 x 1 sparse Matrix of class \"dgCMatrix\"\n",
       "                                1\n",
       "(Intercept)          12.065940835\n",
       "Malic.acid            .          \n",
       "As                    .          \n",
       "Alcalinity.in.ash     .          \n",
       "Magnesium             .          \n",
       "Total.phenols         .          \n",
       "Flavonoids            .          \n",
       "Nonflavonoid.phenols  .          \n",
       "Proanthocyanidins     .          \n",
       "Color.Intensity       0.063645082\n",
       "Hue                   .          \n",
       "OD280.OD315           .          \n",
       "Proline               0.000822241"
      ]
     },
     "metadata": {},
     "output_type": "display_data"
    }
   ],
   "source": [
    "# 2 predictors seem to suffice\n",
    "# compare these coefficients to lm() above\n",
    "coef(cvfit, s = \"lambda.1se\")"
   ]
  },
  {
   "cell_type": "code",
   "execution_count": 38,
   "metadata": {
    "collapsed": false
   },
   "outputs": [
    {
     "data": {
      "text/html": [
       "<table>\n",
       "<thead><tr><th scope=col>1</th></tr></thead>\n",
       "<tbody>\n",
       "\t<tr><td>12.94523</td></tr>\n",
       "\t<tr><td>13.45215</td></tr>\n",
       "\t<tr><td>13.43663</td></tr>\n",
       "\t<tr><td>13.51301</td></tr>\n",
       "\t<tr><td>13.41513</td></tr>\n",
       "\t<tr><td>13.21609</td></tr>\n",
       "</tbody>\n",
       "</table>\n"
      ],
      "text/latex": [
       "\\begin{tabular}{l}\n",
       " 1\\\\\n",
       "\\hline\n",
       "\t 12.94523\\\\\n",
       "\t 13.45215\\\\\n",
       "\t 13.43663\\\\\n",
       "\t 13.51301\\\\\n",
       "\t 13.41513\\\\\n",
       "\t 13.21609\\\\\n",
       "\\end{tabular}\n"
      ],
      "text/markdown": [
       "1. 12.9452347128199\n",
       "2. 13.4521505753246\n",
       "3. 13.4366347064348\n",
       "4. 13.5130088043173\n",
       "5. 13.4151306888306\n",
       "6. 13.2160921400443\n",
       "\n",
       "\n"
      ],
      "text/plain": [
       "     1       \n",
       "[1,] 12.94523\n",
       "[2,] 13.45215\n",
       "[3,] 13.43663\n",
       "[4,] 13.51301\n",
       "[5,] 13.41513\n",
       "[6,] 13.21609"
      ]
     },
     "metadata": {},
     "output_type": "display_data"
    }
   ],
   "source": [
    "predict(cvfit, X_test, s=\"lambda.1se\") %>% head"
   ]
  },
  {
   "cell_type": "markdown",
   "metadata": {},
   "source": [
    "### glmnet details"
   ]
  },
  {
   "cell_type": "markdown",
   "metadata": {},
   "source": [
    "`cv.glmnet` can be parallelized. Search \"doMC\" here: https://web.stanford.edu/~hastie/glmnet/glmnet_alpha.html\n",
    "\n",
    "You can also specify the penalty factors. Search \"penalty factors\" in above link."
   ]
  },
  {
   "cell_type": "markdown",
   "metadata": {},
   "source": [
    "*Copyright &copy; 2016 The Data Incubator.  All rights reserved.*"
   ]
  }
 ],
 "metadata": {
  "kernelspec": {
   "display_name": "R",
   "language": "R",
   "name": "ir"
  },
  "language_info": {
   "codemirror_mode": "r",
   "file_extension": ".r",
   "mimetype": "text/x-r-source",
   "name": "R",
   "pygments_lexer": "r",
   "version": "3.3.1"
  }
 },
 "nbformat": 4,
 "nbformat_minor": 1
}
