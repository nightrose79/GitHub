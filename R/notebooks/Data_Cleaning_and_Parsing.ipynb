{
 "cells": [
  {
   "cell_type": "markdown",
   "metadata": {},
   "source": [
    "# Data Cleaning and Parsing\n",
    "\n",
    "In this notebook:\n",
    "* String manipulation\n",
    "* Using Factors\n",
    "* Tidy data\n",
    "* Missing data\n",
    "* XML/HTML parsing"
   ]
  },
  {
   "cell_type": "code",
   "execution_count": 1,
   "metadata": {
    "collapsed": false
   },
   "outputs": [
    {
     "name": "stderr",
     "output_type": "stream",
     "text": [
      "\n",
      "Attaching package: ‘dplyr’\n",
      "\n",
      "The following objects are masked from ‘package:stats’:\n",
      "\n",
      "    filter, lag\n",
      "\n",
      "The following objects are masked from ‘package:base’:\n",
      "\n",
      "    intersect, setdiff, setequal, union\n",
      "\n"
     ]
    }
   ],
   "source": [
    "library(dplyr)\n",
    "library(ggplot2)"
   ]
  },
  {
   "cell_type": "markdown",
   "metadata": {},
   "source": [
    "## String manipulation"
   ]
  },
  {
   "cell_type": "code",
   "execution_count": 40,
   "metadata": {
    "collapsed": true
   },
   "outputs": [],
   "source": [
    "library(stringr)"
   ]
  },
  {
   "cell_type": "code",
   "execution_count": 41,
   "metadata": {
    "collapsed": false
   },
   "outputs": [],
   "source": [
    "string1 <- \"Hello world\"\n",
    "string2 <- \"I can't help but use contractions\"\n",
    "string3 <- 'Don\\'t mind me, just making a quick escape'"
   ]
  },
  {
   "cell_type": "code",
   "execution_count": 4,
   "metadata": {
    "collapsed": false
   },
   "outputs": [
    {
     "name": "stdout",
     "output_type": "stream",
     "text": [
      "Don't mind me, just making a quick escape\n"
     ]
    }
   ],
   "source": [
    "writeLines(string3)"
   ]
  },
  {
   "cell_type": "code",
   "execution_count": 5,
   "metadata": {
    "collapsed": false
   },
   "outputs": [
    {
     "data": {
      "text/html": [
       "41"
      ],
      "text/latex": [
       "41"
      ],
      "text/markdown": [
       "41"
      ],
      "text/plain": [
       "[1] 41"
      ]
     },
     "metadata": {},
     "output_type": "display_data"
    }
   ],
   "source": [
    "str_length(string3)"
   ]
  },
  {
   "cell_type": "code",
   "execution_count": 6,
   "metadata": {
    "collapsed": false
   },
   "outputs": [
    {
     "data": {
      "text/html": [
       "'Prognosis: Negative'"
      ],
      "text/latex": [
       "'Prognosis: Negative'"
      ],
      "text/markdown": [
       "'Prognosis: Negative'"
      ],
      "text/plain": [
       "[1] \"Prognosis: Negative\""
      ]
     },
     "metadata": {},
     "output_type": "display_data"
    }
   ],
   "source": [
    "str_c(\"Prognosis\", \"Negative\", sep = \": \")"
   ]
  },
  {
   "cell_type": "code",
   "execution_count": 7,
   "metadata": {
    "collapsed": false
   },
   "outputs": [
    {
     "data": {
      "text/html": [
       "'Hello world &amp; I can\\'t help but use contractions &amp; Don't mind me, just making a quick escape'"
      ],
      "text/latex": [
       "'Hello world \\& I can\\textbackslash{}'t help but use contractions \\& Don't mind me, just making a quick escape'"
      ],
      "text/markdown": [
       "'Hello world &amp; I can\\'t help but use contractions &amp; Don't mind me, just making a quick escape'"
      ],
      "text/plain": [
       "[1] \"Hello world & I can't help but use contractions & Don't mind me, just making a quick escape\""
      ]
     },
     "metadata": {},
     "output_type": "display_data"
    }
   ],
   "source": [
    "str_c(c(string1, string2, string3), collapse = \" & \")"
   ]
  },
  {
   "cell_type": "code",
   "execution_count": 8,
   "metadata": {
    "collapsed": false
   },
   "outputs": [
    {
     "data": {
      "text/html": [
       "<ol class=list-inline>\n",
       "\t<li>'Don\\'t mind me, just making a quick escape'</li>\n",
       "\t<li>'Hello world'</li>\n",
       "\t<li>'I can\\'t help but use contractions'</li>\n",
       "</ol>\n"
      ],
      "text/latex": [
       "\\begin{enumerate*}\n",
       "\\item 'Don\\textbackslash{}'t mind me, just making a quick escape'\n",
       "\\item 'Hello world'\n",
       "\\item 'I can\\textbackslash{}'t help but use contractions'\n",
       "\\end{enumerate*}\n"
      ],
      "text/markdown": [
       "1. 'Don\\'t mind me, just making a quick escape'\n",
       "2. 'Hello world'\n",
       "3. 'I can\\'t help but use contractions'\n",
       "\n",
       "\n"
      ],
      "text/plain": [
       "[1] \"Don't mind me, just making a quick escape\"\n",
       "[2] \"Hello world\"                              \n",
       "[3] \"I can't help but use contractions\"        "
      ]
     },
     "metadata": {},
     "output_type": "display_data"
    }
   ],
   "source": [
    "str_sort(c(string1, string2, string3))"
   ]
  },
  {
   "cell_type": "code",
   "execution_count": 9,
   "metadata": {
    "collapsed": false
   },
   "outputs": [
    {
     "data": {
      "text/html": [
       "'making'"
      ],
      "text/latex": [
       "'making'"
      ],
      "text/markdown": [
       "'making'"
      ],
      "text/plain": [
       "[1] \"making\""
      ]
     },
     "metadata": {},
     "output_type": "display_data"
    }
   ],
   "source": [
    "str_sub(string3, 21, 26)"
   ]
  },
  {
   "cell_type": "code",
   "execution_count": 10,
   "metadata": {
    "collapsed": false
   },
   "outputs": [
    {
     "data": {
      "text/html": [
       "'Hello world'"
      ],
      "text/latex": [
       "'Hello world'"
      ],
      "text/markdown": [
       "'Hello world'"
      ],
      "text/plain": [
       "[1] \"Hello world\""
      ]
     },
     "metadata": {},
     "output_type": "display_data"
    }
   ],
   "source": [
    "str_trim(str_c(string1, \"    \"))"
   ]
  },
  {
   "cell_type": "markdown",
   "metadata": {},
   "source": [
    "The stringi package has a much more comprehensive function list."
   ]
  },
  {
   "cell_type": "markdown",
   "metadata": {},
   "source": [
    "## Factors"
   ]
  },
  {
   "cell_type": "code",
   "execution_count": 11,
   "metadata": {
    "collapsed": true
   },
   "outputs": [],
   "source": [
    "data()"
   ]
  },
  {
   "cell_type": "code",
   "execution_count": 12,
   "metadata": {
    "collapsed": false
   },
   "outputs": [
    {
     "name": "stdout",
     "output_type": "stream",
     "text": [
      "'data.frame':\t5 obs. of  4 variables:\n",
      " $ Rural.Male  : num  11.7 18.1 26.9 41 66\n",
      " $ Rural.Female: num  8.7 11.7 20.3 30.9 54.3\n",
      " $ Urban.Male  : num  15.4 24.3 37 54.6 71.1\n",
      " $ Urban.Female: num  8.4 13.6 19.3 35.1 50\n"
     ]
    }
   ],
   "source": [
    "df <- data.frame(VADeaths)\n",
    "str(df)"
   ]
  },
  {
   "cell_type": "code",
   "execution_count": 13,
   "metadata": {
    "collapsed": false
   },
   "outputs": [
    {
     "data": {
      "text/html": [
       "<table>\n",
       "<thead><tr><th></th><th scope=col>Rural.Male</th><th scope=col>Rural.Female</th><th scope=col>Urban.Male</th><th scope=col>Urban.Female</th></tr></thead>\n",
       "<tbody>\n",
       "\t<tr><th scope=row>50-54</th><td>11.7</td><td> 8.7</td><td>15.4</td><td> 8.4</td></tr>\n",
       "\t<tr><th scope=row>55-59</th><td>18.1</td><td>11.7</td><td>24.3</td><td>13.6</td></tr>\n",
       "\t<tr><th scope=row>60-64</th><td>26.9</td><td>20.3</td><td>37.0</td><td>19.3</td></tr>\n",
       "\t<tr><th scope=row>65-69</th><td>41.0</td><td>30.9</td><td>54.6</td><td>35.1</td></tr>\n",
       "\t<tr><th scope=row>70-74</th><td>66.0</td><td>54.3</td><td>71.1</td><td>50.0</td></tr>\n",
       "</tbody>\n",
       "</table>\n"
      ],
      "text/latex": [
       "\\begin{tabular}{r|llll}\n",
       "  & Rural.Male & Rural.Female & Urban.Male & Urban.Female\\\\\n",
       "\\hline\n",
       "\t50-54 & 11.7 &  8.7 & 15.4 &  8.4\\\\\n",
       "\t55-59 & 18.1 & 11.7 & 24.3 & 13.6\\\\\n",
       "\t60-64 & 26.9 & 20.3 & 37.0 & 19.3\\\\\n",
       "\t65-69 & 41.0 & 30.9 & 54.6 & 35.1\\\\\n",
       "\t70-74 & 66.0 & 54.3 & 71.1 & 50.0\\\\\n",
       "\\end{tabular}\n"
      ],
      "text/plain": [
       "      Rural.Male Rural.Female Urban.Male Urban.Female\n",
       "50-54 11.7        8.7         15.4        8.4        \n",
       "55-59 18.1       11.7         24.3       13.6        \n",
       "60-64 26.9       20.3         37.0       19.3        \n",
       "65-69 41.0       30.9         54.6       35.1        \n",
       "70-74 66.0       54.3         71.1       50.0        "
      ]
     },
     "metadata": {},
     "output_type": "display_data"
    }
   ],
   "source": [
    "head(df)"
   ]
  },
  {
   "cell_type": "code",
   "execution_count": 14,
   "metadata": {
    "collapsed": false
   },
   "outputs": [
    {
     "data": {
      "text/html": [
       "<table>\n",
       "<thead><tr><th scope=col>Rural.Male</th><th scope=col>Rural.Female</th><th scope=col>Urban.Male</th><th scope=col>Urban.Female</th><th scope=col>age_range</th></tr></thead>\n",
       "<tbody>\n",
       "\t<tr><td>11.7 </td><td> 8.7 </td><td>15.4 </td><td> 8.4 </td><td>50-54</td></tr>\n",
       "\t<tr><td>18.1 </td><td>11.7 </td><td>24.3 </td><td>13.6 </td><td>55-59</td></tr>\n",
       "\t<tr><td>26.9 </td><td>20.3 </td><td>37.0 </td><td>19.3 </td><td>60-64</td></tr>\n",
       "\t<tr><td>41.0 </td><td>30.9 </td><td>54.6 </td><td>35.1 </td><td>65-69</td></tr>\n",
       "\t<tr><td>66.0 </td><td>54.3 </td><td>71.1 </td><td>50.0 </td><td>70-74</td></tr>\n",
       "</tbody>\n",
       "</table>\n"
      ],
      "text/latex": [
       "\\begin{tabular}{r|lllll}\n",
       " Rural.Male & Rural.Female & Urban.Male & Urban.Female & age\\_range\\\\\n",
       "\\hline\n",
       "\t 11.7  &  8.7  & 15.4  &  8.4  & 50-54\\\\\n",
       "\t 18.1  & 11.7  & 24.3  & 13.6  & 55-59\\\\\n",
       "\t 26.9  & 20.3  & 37.0  & 19.3  & 60-64\\\\\n",
       "\t 41.0  & 30.9  & 54.6  & 35.1  & 65-69\\\\\n",
       "\t 66.0  & 54.3  & 71.1  & 50.0  & 70-74\\\\\n",
       "\\end{tabular}\n"
      ],
      "text/plain": [
       "  Rural.Male Rural.Female Urban.Male Urban.Female age_range\n",
       "1 11.7        8.7         15.4        8.4         50-54    \n",
       "2 18.1       11.7         24.3       13.6         55-59    \n",
       "3 26.9       20.3         37.0       19.3         60-64    \n",
       "4 41.0       30.9         54.6       35.1         65-69    \n",
       "5 66.0       54.3         71.1       50.0         70-74    "
      ]
     },
     "metadata": {},
     "output_type": "display_data"
    }
   ],
   "source": [
    "df <- df %>% mutate(age_range = rownames(df))\n",
    "df"
   ]
  },
  {
   "cell_type": "code",
   "execution_count": 15,
   "metadata": {
    "collapsed": false
   },
   "outputs": [
    {
     "name": "stdout",
     "output_type": "stream",
     "text": [
      "'data.frame':\t5 obs. of  5 variables:\n",
      " $ Rural.Male  : num  11.7 18.1 26.9 41 66\n",
      " $ Rural.Female: num  8.7 11.7 20.3 30.9 54.3\n",
      " $ Urban.Male  : num  15.4 24.3 37 54.6 71.1\n",
      " $ Urban.Female: num  8.4 13.6 19.3 35.1 50\n",
      " $ age_range   : chr  \"50-54\" \"55-59\" \"60-64\" \"65-69\" ...\n"
     ]
    }
   ],
   "source": [
    "str(df)"
   ]
  },
  {
   "cell_type": "code",
   "execution_count": 16,
   "metadata": {
    "collapsed": false
   },
   "outputs": [
    {
     "data": {},
     "metadata": {},
     "output_type": "display_data"
    },
    {
     "data": {
      "image/png": "[encoded data removed]",
      "text/plain": [
       "plot without title"
      ]
     },
     "metadata": {},
     "output_type": "display_data"
    }
   ],
   "source": [
    "ggplot(df) +\n",
    "  geom_point(aes(x = age_range, y = Urban.Male))"
   ]
  },
  {
   "cell_type": "code",
   "execution_count": 17,
   "metadata": {
    "collapsed": false
   },
   "outputs": [
    {
     "name": "stdout",
     "output_type": "stream",
     "text": [
      "[1] \"70-74\" \"65-69\" \"60-64\" \"55-59\" \"50-54\"\n"
     ]
    }
   ],
   "source": [
    "# Define age_range as a factor with levels, then replot\n",
    "levels <- df$age_range %>% sort(decreasing = TRUE)\n",
    "print(levels)"
   ]
  },
  {
   "cell_type": "code",
   "execution_count": 18,
   "metadata": {
    "collapsed": false
   },
   "outputs": [],
   "source": [
    "df$age_range <- factor(df$age_range, levels = levels)"
   ]
  },
  {
   "cell_type": "markdown",
   "metadata": {},
   "source": [
    "## Tidying\n",
    "\n",
    "A tidy dataset has:\n",
    "1. One observation per row\n",
    "1. One feature per column\n",
    "1. Each value in its own cell\n",
    "\n",
    "Let's look at the canonical example where \"a\" and \"b\" represent different drugs and we have dosage/heart rate measurements."
   ]
  },
  {
   "cell_type": "code",
   "execution_count": 42,
   "metadata": {
    "collapsed": true
   },
   "outputs": [],
   "source": [
    "library(tidyr)"
   ]
  },
  {
   "cell_type": "code",
   "execution_count": 43,
   "metadata": {
    "collapsed": false
   },
   "outputs": [
    {
     "data": {
      "text/html": [
       "<table>\n",
       "<thead><tr><th scope=col>name</th><th scope=col>a</th><th scope=col>b</th></tr></thead>\n",
       "<tbody>\n",
       "\t<tr><td>Wilbur </td><td>50/67  </td><td>50/56  </td></tr>\n",
       "\t<tr><td>Petunia</td><td>25/80  </td><td>25/90  </td></tr>\n",
       "\t<tr><td>Gregory</td><td>10/64  </td><td>10/50  </td></tr>\n",
       "</tbody>\n",
       "</table>\n"
      ],
      "text/latex": [
       "\\begin{tabular}{r|lll}\n",
       " name & a & b\\\\\n",
       "\\hline\n",
       "\t Wilbur  & 50/67   & 50/56  \\\\\n",
       "\t Petunia & 25/80   & 25/90  \\\\\n",
       "\t Gregory & 10/64   & 10/50  \\\\\n",
       "\\end{tabular}\n"
      ],
      "text/plain": [
       "  name    a     b    \n",
       "1 Wilbur  50/67 50/56\n",
       "2 Petunia 25/80 25/90\n",
       "3 Gregory 10/64 10/50"
      ]
     },
     "metadata": {},
     "output_type": "display_data"
    }
   ],
   "source": [
    "messy <- data.frame(\n",
    "  name = c(\"Wilbur\", \"Petunia\", \"Gregory\"),\n",
    "  a = c(\"50/67\", \"25/80\", \"10/64\"),\n",
    "  b = c(\"50/56\", \"25/90\", \"10/50\")\n",
    ")\n",
    "messy"
   ]
  },
  {
   "cell_type": "markdown",
   "metadata": {},
   "source": [
    "We can use `gather()` to take columns which represent different observations and reshape them to follow tidy rules."
   ]
  },
  {
   "cell_type": "code",
   "execution_count": 44,
   "metadata": {
    "collapsed": false
   },
   "outputs": [
    {
     "name": "stderr",
     "output_type": "stream",
     "text": [
      "Warning message:\n",
      "“attributes are not identical across measure variables; they will be dropped”"
     ]
    },
    {
     "data": {
      "text/html": [
       "<table>\n",
       "<thead><tr><th scope=col>name</th><th scope=col>drug</th><th scope=col>measurements</th></tr></thead>\n",
       "<tbody>\n",
       "\t<tr><td>Wilbur </td><td>a      </td><td>50/67  </td></tr>\n",
       "\t<tr><td>Petunia</td><td>a      </td><td>25/80  </td></tr>\n",
       "\t<tr><td>Gregory</td><td>a      </td><td>10/64  </td></tr>\n",
       "\t<tr><td>Wilbur </td><td>b      </td><td>50/56  </td></tr>\n",
       "\t<tr><td>Petunia</td><td>b      </td><td>25/90  </td></tr>\n",
       "\t<tr><td>Gregory</td><td>b      </td><td>10/50  </td></tr>\n",
       "</tbody>\n",
       "</table>\n"
      ],
      "text/latex": [
       "\\begin{tabular}{r|lll}\n",
       " name & drug & measurements\\\\\n",
       "\\hline\n",
       "\t Wilbur  & a       & 50/67  \\\\\n",
       "\t Petunia & a       & 25/80  \\\\\n",
       "\t Gregory & a       & 10/64  \\\\\n",
       "\t Wilbur  & b       & 50/56  \\\\\n",
       "\t Petunia & b       & 25/90  \\\\\n",
       "\t Gregory & b       & 10/50  \\\\\n",
       "\\end{tabular}\n"
      ],
      "text/plain": [
       "  name    drug measurements\n",
       "1 Wilbur  a    50/67       \n",
       "2 Petunia a    25/80       \n",
       "3 Gregory a    10/64       \n",
       "4 Wilbur  b    50/56       \n",
       "5 Petunia b    25/90       \n",
       "6 Gregory b    10/50       "
      ]
     },
     "metadata": {},
     "output_type": "display_data"
    }
   ],
   "source": [
    "gathered <- messy %>%\n",
    "  gather(a:b, key = drug, value = measurements)\n",
    "gathered"
   ]
  },
  {
   "cell_type": "code",
   "execution_count": 45,
   "metadata": {
    "collapsed": false
   },
   "outputs": [
    {
     "name": "stdout",
     "output_type": "stream",
     "text": [
      "'data.frame':\t3 obs. of  3 variables:\n",
      " $ name: Factor w/ 3 levels \"Gregory\",\"Petunia\",..: 3 2 1\n",
      " $ a   : Factor w/ 3 levels \"10/64\",\"25/80\",..: 3 2 1\n",
      " $ b   : Factor w/ 3 levels \"10/50\",\"25/90\",..: 3 2 1\n",
      "'data.frame':\t6 obs. of  3 variables:\n",
      " $ name        : Factor w/ 3 levels \"Gregory\",\"Petunia\",..: 3 2 1 3 2 1\n",
      " $ drug        : chr  \"a\" \"a\" \"a\" \"b\" ...\n",
      " $ measurements: chr  \"50/67\" \"25/80\" \"10/64\" \"50/56\" ...\n"
     ]
    }
   ],
   "source": [
    "str(messy)\n",
    "str(gathered)"
   ]
  },
  {
   "cell_type": "markdown",
   "metadata": {},
   "source": [
    "*Question*: How can I avoid this warning?"
   ]
  },
  {
   "cell_type": "code",
   "execution_count": 23,
   "metadata": {
    "collapsed": false
   },
   "outputs": [
    {
     "data": {
      "text/html": [
       "<table>\n",
       "<thead><tr><th scope=col>name</th><th scope=col>a</th><th scope=col>b</th></tr></thead>\n",
       "<tbody>\n",
       "\t<tr><td>Gregory</td><td>10/64  </td><td>10/50  </td></tr>\n",
       "\t<tr><td>Petunia</td><td>25/80  </td><td>25/90  </td></tr>\n",
       "\t<tr><td>Wilbur </td><td>50/67  </td><td>50/56  </td></tr>\n",
       "</tbody>\n",
       "</table>\n"
      ],
      "text/latex": [
       "\\begin{tabular}{r|lll}\n",
       " name & a & b\\\\\n",
       "\\hline\n",
       "\t Gregory & 10/64   & 10/50  \\\\\n",
       "\t Petunia & 25/80   & 25/90  \\\\\n",
       "\t Wilbur  & 50/67   & 50/56  \\\\\n",
       "\\end{tabular}\n"
      ],
      "text/plain": [
       "  name    a     b    \n",
       "1 Gregory 10/64 10/50\n",
       "2 Petunia 25/80 25/90\n",
       "3 Wilbur  50/67 50/56"
      ]
     },
     "metadata": {},
     "output_type": "display_data"
    }
   ],
   "source": [
    "# The complement of gather() is spread()\n",
    "gathered %>% spread(drug, measurements)"
   ]
  },
  {
   "cell_type": "code",
   "execution_count": 24,
   "metadata": {
    "collapsed": false
   },
   "outputs": [
    {
     "data": {
      "text/html": [
       "<table>\n",
       "<thead><tr><th scope=col>name</th><th scope=col>10/50</th><th scope=col>10/64</th><th scope=col>25/80</th><th scope=col>25/90</th><th scope=col>50/56</th><th scope=col>50/67</th></tr></thead>\n",
       "<tbody>\n",
       "\t<tr><td>Gregory</td><td>b      </td><td>a      </td><td>NA     </td><td>NA     </td><td>NA     </td><td>NA     </td></tr>\n",
       "\t<tr><td>Petunia</td><td>NA     </td><td>NA     </td><td>a      </td><td>b      </td><td>NA     </td><td>NA     </td></tr>\n",
       "\t<tr><td>Wilbur </td><td>NA     </td><td>NA     </td><td>NA     </td><td>NA     </td><td>b      </td><td>a      </td></tr>\n",
       "</tbody>\n",
       "</table>\n"
      ],
      "text/latex": [
       "\\begin{tabular}{r|lllllll}\n",
       " name & 10/50 & 10/64 & 25/80 & 25/90 & 50/56 & 50/67\\\\\n",
       "\\hline\n",
       "\t Gregory & b       & a       & NA      & NA      & NA      & NA     \\\\\n",
       "\t Petunia & NA      & NA      & a       & b       & NA      & NA     \\\\\n",
       "\t Wilbur  & NA      & NA      & NA      & NA      & b       & a      \\\\\n",
       "\\end{tabular}\n"
      ],
      "text/plain": [
       "  name    10/50 10/64 25/80 25/90 50/56 50/67\n",
       "1 Gregory b     a     NA    NA    NA    NA   \n",
       "2 Petunia NA    NA    a     b     NA    NA   \n",
       "3 Wilbur  NA    NA    NA    NA    b     a    "
      ]
     },
     "metadata": {},
     "output_type": "display_data"
    }
   ],
   "source": [
    "gathered %>% spread(measurements,drug)"
   ]
  },
  {
   "cell_type": "markdown",
   "metadata": {},
   "source": [
    "*Question*: What will happen if I call `spread(measurements, drug)`?\n",
    "\n",
    "*Exercise*: Tidy the example data below."
   ]
  },
  {
   "cell_type": "code",
   "execution_count": 25,
   "metadata": {
    "collapsed": false
   },
   "outputs": [],
   "source": [
    "preg <- frame_data(\n",
    "  ~pregnant, ~male, ~female,\n",
    "  \"yes\",     NA,    10,\n",
    "  \"no\",      20,    12\n",
    ")"
   ]
  },
  {
   "cell_type": "code",
   "execution_count": 28,
   "metadata": {
    "collapsed": false
   },
   "outputs": [
    {
     "name": "stdout",
     "output_type": "stream",
     "text": [
      "Classes ‘tbl_df’, ‘tbl’ and 'data.frame':\t2 obs. of  3 variables:\n",
      " $ pregnant: chr  \"yes\" \"no\"\n",
      " $ male    : num  NA 20\n",
      " $ female  : num  10 12\n"
     ]
    }
   ],
   "source": [
    "str(preg)"
   ]
  },
  {
   "cell_type": "code",
   "execution_count": 26,
   "metadata": {
    "collapsed": false
   },
   "outputs": [
    {
     "data": {
      "text/html": [
       "<table>\n",
       "<thead><tr><th scope=col>name</th><th scope=col>drug</th><th scope=col>dosage</th><th scope=col>heartrate</th></tr></thead>\n",
       "<tbody>\n",
       "\t<tr><td>Wilbur </td><td>a      </td><td>50     </td><td>67     </td></tr>\n",
       "\t<tr><td>Petunia</td><td>a      </td><td>25     </td><td>80     </td></tr>\n",
       "\t<tr><td>Gregory</td><td>a      </td><td>10     </td><td>64     </td></tr>\n",
       "\t<tr><td>Wilbur </td><td>b      </td><td>50     </td><td>56     </td></tr>\n",
       "\t<tr><td>Petunia</td><td>b      </td><td>25     </td><td>90     </td></tr>\n",
       "\t<tr><td>Gregory</td><td>b      </td><td>10     </td><td>50     </td></tr>\n",
       "</tbody>\n",
       "</table>\n"
      ],
      "text/latex": [
       "\\begin{tabular}{r|llll}\n",
       " name & drug & dosage & heartrate\\\\\n",
       "\\hline\n",
       "\t Wilbur  & a       & 50      & 67     \\\\\n",
       "\t Petunia & a       & 25      & 80     \\\\\n",
       "\t Gregory & a       & 10      & 64     \\\\\n",
       "\t Wilbur  & b       & 50      & 56     \\\\\n",
       "\t Petunia & b       & 25      & 90     \\\\\n",
       "\t Gregory & b       & 10      & 50     \\\\\n",
       "\\end{tabular}\n"
      ],
      "text/plain": [
       "  name    drug dosage heartrate\n",
       "1 Wilbur  a    50     67       \n",
       "2 Petunia a    25     80       \n",
       "3 Gregory a    10     64       \n",
       "4 Wilbur  b    50     56       \n",
       "5 Petunia b    25     90       \n",
       "6 Gregory b    10     50       "
      ]
     },
     "metadata": {},
     "output_type": "display_data"
    }
   ],
   "source": [
    "# If columns contain more than one observation, use separate()\n",
    "separated <- gathered %>% \n",
    "  separate(measurements, into = c('dosage', 'heartrate'))\n",
    "separated"
   ]
  },
  {
   "cell_type": "markdown",
   "metadata": {},
   "source": [
    "*Exercise*: What if the values are separated by a more uncommon pattern. For example:"
   ]
  },
  {
   "cell_type": "code",
   "execution_count": 29,
   "metadata": {
    "collapsed": false
   },
   "outputs": [
    {
     "data": {
      "text/html": [
       "<table>\n",
       "<thead><tr><th scope=col>rep</th><th scope=col>order</th></tr></thead>\n",
       "<tbody>\n",
       "\t<tr><td>Jim                       </td><td>1998 ## 43,961 ## Malaysia</td></tr>\n",
       "\t<tr><td>Dwight                    </td><td>1999 ## 22,309 ## Scotland</td></tr>\n",
       "\t<tr><td>Stanley                   </td><td>2001 ## 78,230 ## Chile   </td></tr>\n",
       "</tbody>\n",
       "</table>\n"
      ],
      "text/latex": [
       "\\begin{tabular}{r|ll}\n",
       " rep & order\\\\\n",
       "\\hline\n",
       "\t Jim                                & 1998 \\#\\# 43,961 \\#\\# Malaysia\\\\\n",
       "\t Dwight                             & 1999 \\#\\# 22,309 \\#\\# Scotland\\\\\n",
       "\t Stanley                            & 2001 \\#\\# 78,230 \\#\\# Chile   \\\\\n",
       "\\end{tabular}\n"
      ],
      "text/plain": [
       "  rep     order                     \n",
       "1 Jim     1998 ## 43,961 ## Malaysia\n",
       "2 Dwight  1999 ## 22,309 ## Scotland\n",
       "3 Stanley 2001 ## 78,230 ## Chile   "
      ]
     },
     "metadata": {},
     "output_type": "display_data"
    }
   ],
   "source": [
    "sales <- data.frame(\n",
    "    rep = c('Jim', 'Dwight', 'Stanley'),\n",
    "    order = c('1998 ## 43,961 ## Malaysia', '1999 ## 22,309 ## Scotland', '2001 ## 78,230 ## Chile')\n",
    "    )\n",
    "sales"
   ]
  },
  {
   "cell_type": "code",
   "execution_count": 33,
   "metadata": {
    "collapsed": false
   },
   "outputs": [
    {
     "data": {
      "text/html": [
       "<table>\n",
       "<thead><tr><th scope=col>rep</th><th scope=col>year</th><th scope=col>amount</th><th scope=col>country</th></tr></thead>\n",
       "<tbody>\n",
       "\t<tr><td>Jim      </td><td>1998     </td><td> 43,961  </td><td> Malaysia</td></tr>\n",
       "\t<tr><td>Dwight   </td><td>1999     </td><td> 22,309  </td><td> Scotland</td></tr>\n",
       "\t<tr><td>Stanley  </td><td>2001     </td><td> 78,230  </td><td> Chile   </td></tr>\n",
       "</tbody>\n",
       "</table>\n"
      ],
      "text/latex": [
       "\\begin{tabular}{r|llll}\n",
       " rep & year & amount & country\\\\\n",
       "\\hline\n",
       "\t Jim       & 1998      &  43,961   &  Malaysia\\\\\n",
       "\t Dwight    & 1999      &  22,309   &  Scotland\\\\\n",
       "\t Stanley   & 2001      &  78,230   &  Chile   \\\\\n",
       "\\end{tabular}\n"
      ],
      "text/plain": [
       "  rep     year amount   country  \n",
       "1 Jim     1998  43,961   Malaysia\n",
       "2 Dwight  1999  22,309   Scotland\n",
       "3 Stanley 2001  78,230   Chile   "
      ]
     },
     "metadata": {},
     "output_type": "display_data"
    }
   ],
   "source": [
    "# Your code here\n",
    "separated_sales <- sales %>% \n",
    "  separate(order, into = c('year', 'amount','country'),sep=('##'),convert=TRUE)\n",
    "separated_sales"
   ]
  },
  {
   "cell_type": "code",
   "execution_count": 32,
   "metadata": {
    "collapsed": true
   },
   "outputs": [],
   "source": [
    "?separate"
   ]
  },
  {
   "cell_type": "markdown",
   "metadata": {},
   "source": [
    "How do we prevent the new columns from being the wrong type?"
   ]
  },
  {
   "cell_type": "code",
   "execution_count": 34,
   "metadata": {
    "collapsed": false
   },
   "outputs": [
    {
     "data": {
      "text/html": [
       "<table>\n",
       "<thead><tr><th scope=col>name</th><th scope=col>injection</th><th scope=col>heartrate</th></tr></thead>\n",
       "<tbody>\n",
       "\t<tr><td>Wilbur </td><td>50mL a </td><td>67     </td></tr>\n",
       "\t<tr><td>Petunia</td><td>25mL a </td><td>80     </td></tr>\n",
       "\t<tr><td>Gregory</td><td>10mL a </td><td>64     </td></tr>\n",
       "\t<tr><td>Wilbur </td><td>50mL b </td><td>56     </td></tr>\n",
       "\t<tr><td>Petunia</td><td>25mL b </td><td>90     </td></tr>\n",
       "\t<tr><td>Gregory</td><td>10mL b </td><td>50     </td></tr>\n",
       "</tbody>\n",
       "</table>\n"
      ],
      "text/latex": [
       "\\begin{tabular}{r|lll}\n",
       " name & injection & heartrate\\\\\n",
       "\\hline\n",
       "\t Wilbur  & 50mL a  & 67     \\\\\n",
       "\t Petunia & 25mL a  & 80     \\\\\n",
       "\t Gregory & 10mL a  & 64     \\\\\n",
       "\t Wilbur  & 50mL b  & 56     \\\\\n",
       "\t Petunia & 25mL b  & 90     \\\\\n",
       "\t Gregory & 10mL b  & 50     \\\\\n",
       "\\end{tabular}\n"
      ],
      "text/plain": [
       "  name    injection heartrate\n",
       "1 Wilbur  50mL a    67       \n",
       "2 Petunia 25mL a    80       \n",
       "3 Gregory 10mL a    64       \n",
       "4 Wilbur  50mL b    56       \n",
       "5 Petunia 25mL b    90       \n",
       "6 Gregory 10mL b    50       "
      ]
     },
     "metadata": {},
     "output_type": "display_data"
    }
   ],
   "source": [
    "# unite() is the complement of separate()\n",
    "separated %>% unite(injection, dosage, drug, sep = \"mL \")"
   ]
  },
  {
   "cell_type": "markdown",
   "metadata": {},
   "source": [
    "## Missing data\n",
    "\n",
    "It's important to think about how you want to handle missing data early. For example, in `separate()` above, examine the `extra` and `fill` parameters. What are they meant for?\n",
    "\n",
    "We should also think about the case where the data is marked NA vs. the case where the data is simply not present."
   ]
  },
  {
   "cell_type": "code",
   "execution_count": 46,
   "metadata": {
    "collapsed": false
   },
   "outputs": [
    {
     "data": {
      "text/html": [
       "<table>\n",
       "<thead><tr><th scope=col>year</th><th scope=col>qtr</th><th scope=col>rev</th></tr></thead>\n",
       "<tbody>\n",
       "\t<tr><td>2015     </td><td>1        </td><td>4.6690630</td></tr>\n",
       "\t<tr><td>2015     </td><td>2        </td><td>1.1881301</td></tr>\n",
       "\t<tr><td>2015     </td><td>3        </td><td>0.2329165</td></tr>\n",
       "\t<tr><td>2015     </td><td>4        </td><td>       NA</td></tr>\n",
       "\t<tr><td>2016     </td><td>2        </td><td>3.3834850</td></tr>\n",
       "\t<tr><td>2016     </td><td>3        </td><td>4.2788826</td></tr>\n",
       "\t<tr><td>2016     </td><td>4        </td><td>0.2746905</td></tr>\n",
       "</tbody>\n",
       "</table>\n"
      ],
      "text/latex": [
       "\\begin{tabular}{r|lll}\n",
       " year & qtr & rev\\\\\n",
       "\\hline\n",
       "\t 2015      & 1         & 4.6690630\\\\\n",
       "\t 2015      & 2         & 1.1881301\\\\\n",
       "\t 2015      & 3         & 0.2329165\\\\\n",
       "\t 2015      & 4         &        NA\\\\\n",
       "\t 2016      & 2         & 3.3834850\\\\\n",
       "\t 2016      & 3         & 4.2788826\\\\\n",
       "\t 2016      & 4         & 0.2746905\\\\\n",
       "\\end{tabular}\n"
      ],
      "text/plain": [
       "  year qtr rev      \n",
       "1 2015 1   4.6690630\n",
       "2 2015 2   1.1881301\n",
       "3 2015 3   0.2329165\n",
       "4 2015 4          NA\n",
       "5 2016 2   3.3834850\n",
       "6 2016 3   4.2788826\n",
       "7 2016 4   0.2746905"
      ]
     },
     "metadata": {},
     "output_type": "display_data"
    }
   ],
   "source": [
    "stocks <- data_frame(\n",
    "  year   = c(2015, 2015, 2015, 2015, 2016, 2016, 2016),\n",
    "  qtr    = c(   1,    2,    3,    4,    2,    3,    4),\n",
    "  rev    = runif(7, min=0, max=5)\n",
    ")\n",
    "stocks[4, 'rev'] <- NA\n",
    "stocks"
   ]
  },
  {
   "cell_type": "code",
   "execution_count": 47,
   "metadata": {
    "collapsed": false
   },
   "outputs": [
    {
     "data": {
      "text/html": [
       "<table>\n",
       "<thead><tr><th scope=col>qtr</th><th scope=col>2015</th><th scope=col>2016</th></tr></thead>\n",
       "<tbody>\n",
       "\t<tr><td>1        </td><td>4.6690630</td><td>       NA</td></tr>\n",
       "\t<tr><td>2        </td><td>1.1881301</td><td>3.3834850</td></tr>\n",
       "\t<tr><td>3        </td><td>0.2329165</td><td>4.2788826</td></tr>\n",
       "\t<tr><td>4        </td><td>       NA</td><td>0.2746905</td></tr>\n",
       "</tbody>\n",
       "</table>\n"
      ],
      "text/latex": [
       "\\begin{tabular}{r|lll}\n",
       " qtr & 2015 & 2016\\\\\n",
       "\\hline\n",
       "\t 1         & 4.6690630 &        NA\\\\\n",
       "\t 2         & 1.1881301 & 3.3834850\\\\\n",
       "\t 3         & 0.2329165 & 4.2788826\\\\\n",
       "\t 4         &        NA & 0.2746905\\\\\n",
       "\\end{tabular}\n"
      ],
      "text/plain": [
       "  qtr 2015      2016     \n",
       "1 1   4.6690630        NA\n",
       "2 2   1.1881301 3.3834850\n",
       "3 3   0.2329165 4.2788826\n",
       "4 4          NA 0.2746905"
      ]
     },
     "metadata": {},
     "output_type": "display_data"
    }
   ],
   "source": [
    "stocks %>% \n",
    "  spread(year, rev)"
   ]
  },
  {
   "cell_type": "code",
   "execution_count": 37,
   "metadata": {
    "collapsed": false
   },
   "outputs": [
    {
     "data": {
      "text/html": [
       "<table>\n",
       "<thead><tr><th></th><th scope=col>qtr</th><th scope=col>year</th><th scope=col>rev</th></tr></thead>\n",
       "<tbody>\n",
       "\t<tr><th scope=row>1</th><td>1         </td><td>2015      </td><td>0.02047183</td></tr>\n",
       "\t<tr><th scope=row>2</th><td>2         </td><td>2015      </td><td>0.85101563</td></tr>\n",
       "\t<tr><th scope=row>3</th><td>3         </td><td>2015      </td><td>1.46168102</td></tr>\n",
       "\t<tr><th scope=row>6</th><td>2         </td><td>2016      </td><td>4.85172103</td></tr>\n",
       "\t<tr><th scope=row>7</th><td>3         </td><td>2016      </td><td>1.24861716</td></tr>\n",
       "\t<tr><th scope=row>8</th><td>4         </td><td>2016      </td><td>2.84396793</td></tr>\n",
       "</tbody>\n",
       "</table>\n"
      ],
      "text/latex": [
       "\\begin{tabular}{r|lll}\n",
       "  & qtr & year & rev\\\\\n",
       "\\hline\n",
       "\t1 & 1          & 2015       & 0.02047183\\\\\n",
       "\t2 & 2          & 2015       & 0.85101563\\\\\n",
       "\t3 & 3          & 2015       & 1.46168102\\\\\n",
       "\t6 & 2          & 2016       & 4.85172103\\\\\n",
       "\t7 & 3          & 2016       & 1.24861716\\\\\n",
       "\t8 & 4          & 2016       & 2.84396793\\\\\n",
       "\\end{tabular}\n"
      ],
      "text/plain": [
       "  qtr year rev       \n",
       "1 1   2015 0.02047183\n",
       "2 2   2015 0.85101563\n",
       "3 3   2015 1.46168102\n",
       "6 2   2016 4.85172103\n",
       "7 3   2016 1.24861716\n",
       "8 4   2016 2.84396793"
      ]
     },
     "metadata": {},
     "output_type": "display_data"
    }
   ],
   "source": [
    "stocks %>%\n",
    "  spread(year, rev) %>%\n",
    "  gather(year, rev, `2015`:`2016`, na.rm = TRUE)"
   ]
  },
  {
   "cell_type": "code",
   "execution_count": 38,
   "metadata": {
    "collapsed": false
   },
   "outputs": [
    {
     "data": {
      "text/html": [
       "<table>\n",
       "<thead><tr><th scope=col>year</th><th scope=col>qtr</th><th scope=col>rev</th></tr></thead>\n",
       "<tbody>\n",
       "\t<tr><td>2015      </td><td>1         </td><td>0.02047183</td></tr>\n",
       "\t<tr><td>2015      </td><td>2         </td><td>0.85101563</td></tr>\n",
       "\t<tr><td>2015      </td><td>3         </td><td>1.46168102</td></tr>\n",
       "\t<tr><td>2015      </td><td>4         </td><td>        NA</td></tr>\n",
       "\t<tr><td>2016      </td><td>1         </td><td>        NA</td></tr>\n",
       "\t<tr><td>2016      </td><td>2         </td><td>4.85172103</td></tr>\n",
       "\t<tr><td>2016      </td><td>3         </td><td>1.24861716</td></tr>\n",
       "\t<tr><td>2016      </td><td>4         </td><td>2.84396793</td></tr>\n",
       "</tbody>\n",
       "</table>\n"
      ],
      "text/latex": [
       "\\begin{tabular}{r|lll}\n",
       " year & qtr & rev\\\\\n",
       "\\hline\n",
       "\t 2015       & 1          & 0.02047183\\\\\n",
       "\t 2015       & 2          & 0.85101563\\\\\n",
       "\t 2015       & 3          & 1.46168102\\\\\n",
       "\t 2015       & 4          &         NA\\\\\n",
       "\t 2016       & 1          &         NA\\\\\n",
       "\t 2016       & 2          & 4.85172103\\\\\n",
       "\t 2016       & 3          & 1.24861716\\\\\n",
       "\t 2016       & 4          & 2.84396793\\\\\n",
       "\\end{tabular}\n"
      ],
      "text/plain": [
       "  year qtr rev       \n",
       "1 2015 1   0.02047183\n",
       "2 2015 2   0.85101563\n",
       "3 2015 3   1.46168102\n",
       "4 2015 4           NA\n",
       "5 2016 1           NA\n",
       "6 2016 2   4.85172103\n",
       "7 2016 3   1.24861716\n",
       "8 2016 4   2.84396793"
      ]
     },
     "metadata": {},
     "output_type": "display_data"
    }
   ],
   "source": [
    "stocks %>% complete(year, qtr)"
   ]
  },
  {
   "cell_type": "code",
   "execution_count": 39,
   "metadata": {
    "collapsed": false
   },
   "outputs": [
    {
     "data": {
      "text/html": [
       "<table>\n",
       "<thead><tr><th scope=col>year</th><th scope=col>qtr</th><th scope=col>rev</th></tr></thead>\n",
       "<tbody>\n",
       "\t<tr><td>2015      </td><td>1         </td><td>0.02047183</td></tr>\n",
       "\t<tr><td>2015      </td><td>2         </td><td>0.85101563</td></tr>\n",
       "\t<tr><td>2015      </td><td>3         </td><td>1.46168102</td></tr>\n",
       "\t<tr><td>2015      </td><td>4         </td><td>1.46168102</td></tr>\n",
       "\t<tr><td>2016      </td><td>2         </td><td>4.85172103</td></tr>\n",
       "\t<tr><td>2016      </td><td>3         </td><td>1.24861716</td></tr>\n",
       "\t<tr><td>2016      </td><td>4         </td><td>2.84396793</td></tr>\n",
       "</tbody>\n",
       "</table>\n"
      ],
      "text/latex": [
       "\\begin{tabular}{r|lll}\n",
       " year & qtr & rev\\\\\n",
       "\\hline\n",
       "\t 2015       & 1          & 0.02047183\\\\\n",
       "\t 2015       & 2          & 0.85101563\\\\\n",
       "\t 2015       & 3          & 1.46168102\\\\\n",
       "\t 2015       & 4          & 1.46168102\\\\\n",
       "\t 2016       & 2          & 4.85172103\\\\\n",
       "\t 2016       & 3          & 1.24861716\\\\\n",
       "\t 2016       & 4          & 2.84396793\\\\\n",
       "\\end{tabular}\n"
      ],
      "text/plain": [
       "  year qtr rev       \n",
       "1 2015 1   0.02047183\n",
       "2 2015 2   0.85101563\n",
       "3 2015 3   1.46168102\n",
       "4 2015 4   1.46168102\n",
       "5 2016 2   4.85172103\n",
       "6 2016 3   1.24861716\n",
       "7 2016 4   2.84396793"
      ]
     },
     "metadata": {},
     "output_type": "display_data"
    }
   ],
   "source": [
    "stocks %>% fill(rev)"
   ]
  },
  {
   "cell_type": "markdown",
   "metadata": {},
   "source": [
    "For more R packages that handle imputation, see\n",
    "* MICE\n",
    "* Amelia\n",
    "* missForest\n",
    "* Hmisc\n",
    "* mi"
   ]
  },
  {
   "cell_type": "markdown",
   "metadata": {},
   "source": [
    "# Parsing XML/HTML files or fragments with XML2"
   ]
  },
  {
   "cell_type": "code",
   "execution_count": 49,
   "metadata": {
    "collapsed": true
   },
   "outputs": [],
   "source": [
    "library(xml2)"
   ]
  },
  {
   "cell_type": "code",
   "execution_count": 50,
   "metadata": {
    "collapsed": false
   },
   "outputs": [
    {
     "data": {
      "text/html": [
       "'http://www.xmlfiles.com/examples/cd_catalog.xml'"
      ],
      "text/latex": [
       "'http://www.xmlfiles.com/examples/cd\\_catalog.xml'"
      ],
      "text/markdown": [
       "'http://www.xmlfiles.com/examples/cd_catalog.xml'"
      ],
      "text/plain": [
       "[1] \"http://www.xmlfiles.com/examples/cd_catalog.xml\""
      ]
     },
     "metadata": {},
     "output_type": "display_data"
    }
   ],
   "source": [
    "# example \n",
    "catalog <- read_xml(\"http://www.xmlfiles.com/examples/cd_catalog.xml\")\n",
    "xml_url(catalog)"
   ]
  },
  {
   "cell_type": "code",
   "execution_count": 51,
   "metadata": {
    "collapsed": false
   },
   "outputs": [
    {
     "data": {
      "text/plain": [
       "{xml_document}\n",
       "<CATALOG>\n",
       " [1] <CD>\\n  <TITLE>Empire Burlesque</TITLE>\\n  <ARTIST>Bob Dylan</ARTIST>\\n  ...\n",
       " [2] <CD>\\n  <TITLE>Hide your heart</TITLE>\\n  <ARTIST>Bonnie Tylor</ARTIST>\\ ...\n",
       " [3] <CD>\\n  <TITLE>Greatest Hits</TITLE>\\n  <ARTIST>Dolly Parton</ARTIST>\\n  ...\n",
       " [4] <CD>\\n  <TITLE>Still got the blues</TITLE>\\n  <ARTIST>Gary More</ARTIST> ...\n",
       " [5] <CD>\\n  <TITLE>Eros</TITLE>\\n  <ARTIST>Eros Ramazzotti</ARTIST>\\n  <COUN ...\n",
       " [6] <CD>\\n  <TITLE>One night only</TITLE>\\n  <ARTIST>Bee Gees</ARTIST>\\n  <C ...\n",
       " [7] <CD>\\n  <TITLE>Sylvias Mother</TITLE>\\n  <ARTIST>Dr.Hook</ARTIST>\\n  <CO ...\n",
       " [8] <CD>\\n  <TITLE>Maggie May</TITLE>\\n  <ARTIST>Rod Stewart</ARTIST>\\n  <CO ...\n",
       " [9] <CD>\\n  <TITLE>Romanza</TITLE>\\n  <ARTIST>Andrea Bocelli</ARTIST>\\n  <CO ...\n",
       "[10] <CD>\\n  <TITLE>When a man loves a woman</TITLE>\\n  <ARTIST>Percy Sledge< ...\n",
       "[11] <CD>\\n  <TITLE>Black angel</TITLE>\\n  <ARTIST>Savage Rose</ARTIST>\\n  <C ...\n",
       "[12] <CD>\\n  <TITLE>1999 Grammy Nominees</TITLE>\\n  <ARTIST>Many</ARTIST>\\n   ...\n",
       "[13] <CD>\\n  <TITLE>For the good times</TITLE>\\n  <ARTIST>Kenny Rogers</ARTIS ...\n",
       "[14] <CD>\\n  <TITLE>Big Willie style</TITLE>\\n  <ARTIST>Will Smith</ARTIST>\\n ...\n",
       "[15] <CD>\\n  <TITLE>Tupelo Honey</TITLE>\\n  <ARTIST>Van Morrison</ARTIST>\\n   ...\n",
       "[16] <CD>\\n  <TITLE>Soulsville</TITLE>\\n  <ARTIST>Jorn Hoel</ARTIST>\\n  <COUN ...\n",
       "[17] <CD>\\n  <TITLE>The very best of</TITLE>\\n  <ARTIST>Cat Stevens</ARTIST>\\ ...\n",
       "[18] <CD>\\n  <TITLE>Stop</TITLE>\\n  <ARTIST>Sam Brown</ARTIST>\\n  <COUNTRY>UK ...\n",
       "[19] <CD>\\n  <TITLE>Bridge of Spies</TITLE>\\n  <ARTIST>T`Pau</ARTIST>\\n  <COU ...\n",
       "[20] <CD>\\n  <TITLE>Private Dancer</TITLE>\\n  <ARTIST>Tina Turner</ARTIST>\\n  ...\n",
       "..."
      ]
     },
     "metadata": {},
     "output_type": "display_data"
    }
   ],
   "source": [
    "catalog"
   ]
  },
  {
   "cell_type": "code",
   "execution_count": 52,
   "metadata": {
    "collapsed": false
   },
   "outputs": [
    {
     "name": "stdout",
     "output_type": "stream",
     "text": [
      "<CATALOG>\n",
      "  <CD>\n",
      "    <TITLE>\n",
      "      {text}\n",
      "    <ARTIST>\n",
      "      {text}\n",
      "    <COUNTRY>\n",
      "      {text}\n",
      "    <COMPANY>\n",
      "      {text}\n",
      "    <PRICE>\n",
      "      {text}\n",
      "    <YEAR>\n",
      "      {text}\n",
      "  <CD>\n",
      "    <TITLE>\n",
      "      {text}\n",
      "    <ARTIST>\n",
      "      {text}\n",
      "    <COUNTRY>\n",
      "      {text}\n",
      "    <COMPANY>\n",
      "      {text}\n",
      "    <PRICE>\n",
      "      {text}\n",
      "    <YEAR>\n",
      "      {text}\n",
      "  <CD>\n",
      "    <TITLE>\n",
      "      {text}\n",
      "    <ARTIST>\n",
      "      {text}\n",
      "    <COUNTRY>\n",
      "      {text}\n",
      "    <COMPANY>\n",
      "      {text}\n",
      "    <PRICE>\n",
      "      {text}\n",
      "    <YEAR>\n",
      "      {text}\n",
      "  <CD>\n",
      "    <TITLE>\n",
      "      {text}\n",
      "    <ARTIST>\n",
      "      {text}\n",
      "    <COUNTRY>\n",
      "      {text}\n",
      "    <COMPANY>\n",
      "      {text}\n",
      "    <PRICE>\n",
      "      {text}\n",
      "    <YEAR>\n",
      "      {text}\n",
      "  <CD>\n",
      "    <TITLE>\n",
      "      {text}\n",
      "    <ARTIST>\n",
      "      {text}\n",
      "    <COUNTRY>\n",
      "      {text}\n",
      "    <COMPANY>\n",
      "      {text}\n",
      "    <PRICE>\n",
      "      {text}\n",
      "    <YEAR>\n",
      "      {text}\n",
      "  <CD>\n",
      "    <TITLE>\n",
      "      {text}\n",
      "    <ARTIST>\n",
      "      {text}\n",
      "    <COUNTRY>\n",
      "      {text}\n",
      "    <COMPANY>\n",
      "      {text}\n",
      "    <PRICE>\n",
      "      {text}\n",
      "    <YEAR>\n",
      "      {text}\n",
      "  <CD>\n",
      "    <TITLE>\n",
      "      {text}\n",
      "    <ARTIST>\n",
      "      {text}\n",
      "    <COUNTRY>\n",
      "      {text}\n",
      "    <COMPANY>\n",
      "      {text}\n",
      "    <PRICE>\n",
      "      {text}\n",
      "    <YEAR>\n",
      "      {text}\n",
      "  <CD>\n",
      "    <TITLE>\n",
      "      {text}\n",
      "    <ARTIST>\n",
      "      {text}\n",
      "    <COUNTRY>\n",
      "      {text}\n",
      "    <COMPANY>\n",
      "      {text}\n",
      "    <PRICE>\n",
      "      {text}\n",
      "    <YEAR>\n",
      "      {text}\n",
      "  <CD>\n",
      "    <TITLE>\n",
      "      {text}\n",
      "    <ARTIST>\n",
      "      {text}\n",
      "    <COUNTRY>\n",
      "      {text}\n",
      "    <COMPANY>\n",
      "      {text}\n",
      "    <PRICE>\n",
      "      {text}\n",
      "    <YEAR>\n",
      "      {text}\n",
      "  <CD>\n",
      "    <TITLE>\n",
      "      {text}\n",
      "    <ARTIST>\n",
      "      {text}\n",
      "    <COUNTRY>\n",
      "      {text}\n",
      "    <COMPANY>\n",
      "      {text}\n",
      "    <PRICE>\n",
      "      {text}\n",
      "    <YEAR>\n",
      "      {text}\n",
      "  <CD>\n",
      "    <TITLE>\n",
      "      {text}\n",
      "    <ARTIST>\n",
      "      {text}\n",
      "    <COUNTRY>\n",
      "      {text}\n",
      "    <COMPANY>\n",
      "      {text}\n",
      "    <PRICE>\n",
      "      {text}\n",
      "    <YEAR>\n",
      "      {text}\n",
      "  <CD>\n",
      "    <TITLE>\n",
      "      {text}\n",
      "    <ARTIST>\n",
      "      {text}\n",
      "    <COUNTRY>\n",
      "      {text}\n",
      "    <COMPANY>\n",
      "      {text}\n",
      "    <PRICE>\n",
      "      {text}\n",
      "    <YEAR>\n",
      "      {text}\n",
      "  <CD>\n",
      "    <TITLE>\n",
      "      {text}\n",
      "    <ARTIST>\n",
      "      {text}\n",
      "    <COUNTRY>\n",
      "      {text}\n",
      "    <COMPANY>\n",
      "      {text}\n",
      "    <PRICE>\n",
      "      {text}\n",
      "    <YEAR>\n",
      "      {text}\n",
      "  <CD>\n",
      "    <TITLE>\n",
      "      {text}\n",
      "    <ARTIST>\n",
      "      {text}\n",
      "    <COUNTRY>\n",
      "      {text}\n",
      "    <COMPANY>\n",
      "      {text}\n",
      "    <PRICE>\n",
      "      {text}\n",
      "    <YEAR>\n",
      "      {text}\n",
      "  <CD>\n",
      "    <TITLE>\n",
      "      {text}\n",
      "    <ARTIST>\n",
      "      {text}\n",
      "    <COUNTRY>\n",
      "      {text}\n",
      "    <COMPANY>\n",
      "      {text}\n",
      "    <PRICE>\n",
      "      {text}\n",
      "    <YEAR>\n",
      "      {text}\n",
      "  <CD>\n",
      "    <TITLE>\n",
      "      {text}\n",
      "    <ARTIST>\n",
      "      {text}\n",
      "    <COUNTRY>\n",
      "      {text}\n",
      "    <COMPANY>\n",
      "      {text}\n",
      "    <PRICE>\n",
      "      {text}\n",
      "    <YEAR>\n",
      "      {text}\n",
      "  <CD>\n",
      "    <TITLE>\n",
      "      {text}\n",
      "    <ARTIST>\n",
      "      {text}\n",
      "    <COUNTRY>\n",
      "      {text}\n",
      "    <COMPANY>\n",
      "      {text}\n",
      "    <PRICE>\n",
      "      {text}\n",
      "    <YEAR>\n",
      "      {text}\n",
      "  <CD>\n",
      "    <TITLE>\n",
      "      {text}\n",
      "    <ARTIST>\n",
      "      {text}\n",
      "    <COUNTRY>\n",
      "      {text}\n",
      "    <COMPANY>\n",
      "      {text}\n",
      "    <PRICE>\n",
      "      {text}\n",
      "    <YEAR>\n",
      "      {text}\n",
      "  <CD>\n",
      "    <TITLE>\n",
      "      {text}\n",
      "    <ARTIST>\n",
      "      {text}\n",
      "    <COUNTRY>\n",
      "      {text}\n",
      "    <COMPANY>\n",
      "      {text}\n",
      "    <PRICE>\n",
      "      {text}\n",
      "    <YEAR>\n",
      "      {text}\n",
      "  <CD>\n",
      "    <TITLE>\n",
      "      {text}\n",
      "    <ARTIST>\n",
      "      {text}\n",
      "    <COUNTRY>\n",
      "      {text}\n",
      "    <COMPANY>\n",
      "      {text}\n",
      "    <PRICE>\n",
      "      {text}\n",
      "    <YEAR>\n",
      "      {text}\n",
      "  <CD>\n",
      "    <TITLE>\n",
      "      {text}\n",
      "    <ARTIST>\n",
      "      {text}\n",
      "    <COUNTRY>\n",
      "      {text}\n",
      "    <COMPANY>\n",
      "      {text}\n",
      "    <PRICE>\n",
      "      {text}\n",
      "    <YEAR>\n",
      "      {text}\n",
      "  <CD>\n",
      "    <TITLE>\n",
      "      {text}\n",
      "    <ARTIST>\n",
      "      {text}\n",
      "    <COUNTRY>\n",
      "      {text}\n",
      "    <COMPANY>\n",
      "      {text}\n",
      "    <PRICE>\n",
      "      {text}\n",
      "    <YEAR>\n",
      "      {text}\n",
      "  <CD>\n",
      "    <TITLE>\n",
      "      {text}\n",
      "    <ARTIST>\n",
      "      {text}\n",
      "    <COUNTRY>\n",
      "      {text}\n",
      "    <COMPANY>\n",
      "      {text}\n",
      "    <PRICE>\n",
      "      {text}\n",
      "    <YEAR>\n",
      "      {text}\n",
      "  <CD>\n",
      "    <TITLE>\n",
      "      {text}\n",
      "    <ARTIST>\n",
      "      {text}\n",
      "    <COUNTRY>\n",
      "      {text}\n",
      "    <COMPANY>\n",
      "      {text}\n",
      "    <PRICE>\n",
      "      {text}\n",
      "    <YEAR>\n",
      "      {text}\n",
      "  <CD>\n",
      "    <TITLE>\n",
      "      {text}\n",
      "    <ARTIST>\n",
      "      {text}\n",
      "    <COUNTRY>\n",
      "      {text}\n",
      "    <COMPANY>\n",
      "      {text}\n",
      "    <PRICE>\n",
      "      {text}\n",
      "    <YEAR>\n",
      "      {text}\n",
      "  <CD>\n",
      "    <TITLE>\n",
      "      {text}\n",
      "    <ARTIST>\n",
      "      {text}\n",
      "    <COUNTRY>\n",
      "      {text}\n",
      "    <COMPANY>\n",
      "      {text}\n",
      "    <PRICE>\n",
      "      {text}\n",
      "    <YEAR>\n",
      "      {text}\n"
     ]
    }
   ],
   "source": [
    "# print entire tree\n",
    " xml_structure(catalog) "
   ]
  },
  {
   "cell_type": "code",
   "execution_count": 53,
   "metadata": {
    "collapsed": false
   },
   "outputs": [
    {
     "data": {
      "text/html": [
       "'CATALOG'"
      ],
      "text/latex": [
       "'CATALOG'"
      ],
      "text/markdown": [
       "'CATALOG'"
      ],
      "text/plain": [
       "[1] \"CATALOG\""
      ]
     },
     "metadata": {},
     "output_type": "display_data"
    }
   ],
   "source": [
    "# extract parent tag\n",
    "xml_name(catalog) %>% head"
   ]
  },
  {
   "cell_type": "code",
   "execution_count": 54,
   "metadata": {
    "collapsed": false
   },
   "outputs": [
    {
     "data": {
      "text/plain": [
       "{xml_nodeset (6)}\n",
       "[1] <CD>\\n  <TITLE>Empire Burlesque</TITLE>\\n  <ARTIST>Bob Dylan</ARTIST>\\n   ...\n",
       "[2] <CD>\\n  <TITLE>Hide your heart</TITLE>\\n  <ARTIST>Bonnie Tylor</ARTIST>\\n ...\n",
       "[3] <CD>\\n  <TITLE>Greatest Hits</TITLE>\\n  <ARTIST>Dolly Parton</ARTIST>\\n   ...\n",
       "[4] <CD>\\n  <TITLE>Still got the blues</TITLE>\\n  <ARTIST>Gary More</ARTIST>\\ ...\n",
       "[5] <CD>\\n  <TITLE>Eros</TITLE>\\n  <ARTIST>Eros Ramazzotti</ARTIST>\\n  <COUNT ...\n",
       "[6] <CD>\\n  <TITLE>One night only</TITLE>\\n  <ARTIST>Bee Gees</ARTIST>\\n  <CO ..."
      ]
     },
     "metadata": {},
     "output_type": "display_data"
    }
   ],
   "source": [
    "# extract children\n",
    "xml_children(catalog) %>% head"
   ]
  },
  {
   "cell_type": "code",
   "execution_count": 55,
   "metadata": {
    "collapsed": false
   },
   "outputs": [
    {
     "data": {
      "text/html": [
       "'Empire BurlesqueBob DylanUSAColumbia10.901985Hide your heartBonnie TylorUKCBS Records9.901988Greatest HitsDolly PartonUSARCA9.901982Still got the bluesGary MoreUKVirgin redords10.201990ErosEros RamazzottiEUBMG9.901997One night onlyBee GeesUKPolydor10.901998Sylvias MotherDr.HookUKCBS8.101973Maggie MayRod StewartUKPickwick8.501990RomanzaAndrea BocelliEUPolydor10.801996When a man loves a womanPercy SledgeUSAAtlantic8.701987Black angelSavage RoseEUMega10.9019951999 Grammy NomineesManyUSAGrammy10.201999For the good timesKenny RogersUKMucik Master8.701995Big Willie styleWill SmithUSAColumbia9.901997Tupelo HoneyVan MorrisonUKPolydor8.201971SoulsvilleJorn HoelNorwayWEA7.901996The very best ofCat StevensUKIsland8.901990StopSam BrownUKA and M8.901988Bridge of SpiesT`PauUKSiren7.901987Private DancerTina TurnerUKCapitol8.901983Midt om nattenKim LarsenEUMedley7.801983Pavarotti Gala ConcertLuciano PavarottiUKDECCA9.901991The dock of the bayOtis ReddingUSAAtlantic7.901987Picture bookSimply RedEUElektra7.201985RedThe CommunardsUKLondon7.801987Unchain my heartJoe CockerUSAEMI8.201987'"
      ],
      "text/latex": [
       "'Empire BurlesqueBob DylanUSAColumbia10.901985Hide your heartBonnie TylorUKCBS Records9.901988Greatest HitsDolly PartonUSARCA9.901982Still got the bluesGary MoreUKVirgin redords10.201990ErosEros RamazzottiEUBMG9.901997One night onlyBee GeesUKPolydor10.901998Sylvias MotherDr.HookUKCBS8.101973Maggie MayRod StewartUKPickwick8.501990RomanzaAndrea BocelliEUPolydor10.801996When a man loves a womanPercy SledgeUSAAtlantic8.701987Black angelSavage RoseEUMega10.9019951999 Grammy NomineesManyUSAGrammy10.201999For the good timesKenny RogersUKMucik Master8.701995Big Willie styleWill SmithUSAColumbia9.901997Tupelo HoneyVan MorrisonUKPolydor8.201971SoulsvilleJorn HoelNorwayWEA7.901996The very best ofCat StevensUKIsland8.901990StopSam BrownUKA and M8.901988Bridge of SpiesT`PauUKSiren7.901987Private DancerTina TurnerUKCapitol8.901983Midt om nattenKim LarsenEUMedley7.801983Pavarotti Gala ConcertLuciano PavarottiUKDECCA9.901991The dock of the bayOtis ReddingUSAAtlantic7.901987Picture bookSimply RedEUElektra7.201985RedThe CommunardsUKLondon7.801987Unchain my heartJoe CockerUSAEMI8.201987'"
      ],
      "text/markdown": [
       "'Empire BurlesqueBob DylanUSAColumbia10.901985Hide your heartBonnie TylorUKCBS Records9.901988Greatest HitsDolly PartonUSARCA9.901982Still got the bluesGary MoreUKVirgin redords10.201990ErosEros RamazzottiEUBMG9.901997One night onlyBee GeesUKPolydor10.901998Sylvias MotherDr.HookUKCBS8.101973Maggie MayRod StewartUKPickwick8.501990RomanzaAndrea BocelliEUPolydor10.801996When a man loves a womanPercy SledgeUSAAtlantic8.701987Black angelSavage RoseEUMega10.9019951999 Grammy NomineesManyUSAGrammy10.201999For the good timesKenny RogersUKMucik Master8.701995Big Willie styleWill SmithUSAColumbia9.901997Tupelo HoneyVan MorrisonUKPolydor8.201971SoulsvilleJorn HoelNorwayWEA7.901996The very best ofCat StevensUKIsland8.901990StopSam BrownUKA and M8.901988Bridge of SpiesT`PauUKSiren7.901987Private DancerTina TurnerUKCapitol8.901983Midt om nattenKim LarsenEUMedley7.801983Pavarotti Gala ConcertLuciano PavarottiUKDECCA9.901991The dock of the bayOtis ReddingUSAAtlantic7.901987Picture bookSimply RedEUElektra7.201985RedThe CommunardsUKLondon7.801987Unchain my heartJoe CockerUSAEMI8.201987'"
      ],
      "text/plain": [
       "[1] \"Empire BurlesqueBob DylanUSAColumbia10.901985Hide your heartBonnie TylorUKCBS Records9.901988Greatest HitsDolly PartonUSARCA9.901982Still got the bluesGary MoreUKVirgin redords10.201990ErosEros RamazzottiEUBMG9.901997One night onlyBee GeesUKPolydor10.901998Sylvias MotherDr.HookUKCBS8.101973Maggie MayRod StewartUKPickwick8.501990RomanzaAndrea BocelliEUPolydor10.801996When a man loves a womanPercy SledgeUSAAtlantic8.701987Black angelSavage RoseEUMega10.9019951999 Grammy NomineesManyUSAGrammy10.201999For the good timesKenny RogersUKMucik Master8.701995Big Willie styleWill SmithUSAColumbia9.901997Tupelo HoneyVan MorrisonUKPolydor8.201971SoulsvilleJorn HoelNorwayWEA7.901996The very best ofCat StevensUKIsland8.901990StopSam BrownUKA and M8.901988Bridge of SpiesT`PauUKSiren7.901987Private DancerTina TurnerUKCapitol8.901983Midt om nattenKim LarsenEUMedley7.801983Pavarotti Gala ConcertLuciano PavarottiUKDECCA9.901991The dock of the bayOtis ReddingUSAAtlantic7.901987Picture bookSimply RedEUElektra7.201985RedThe CommunardsUKLondon7.801987Unchain my heartJoe CockerUSAEMI8.201987\""
      ]
     },
     "metadata": {},
     "output_type": "display_data"
    }
   ],
   "source": [
    "# easily parse out all the text...\n",
    "xml_text(catalog) %>% head"
   ]
  },
  {
   "cell_type": "code",
   "execution_count": 56,
   "metadata": {
    "collapsed": false
   },
   "outputs": [
    {
     "data": {
      "text/plain": [
       "{xml_nodeset (6)}\n",
       "[1] <TITLE>Empire Burlesque</TITLE>\n",
       "[2] <TITLE>Hide your heart</TITLE>\n",
       "[3] <TITLE>Greatest Hits</TITLE>\n",
       "[4] <TITLE>Still got the blues</TITLE>\n",
       "[5] <TITLE>Eros</TITLE>\n",
       "[6] <TITLE>One night only</TITLE>"
      ]
     },
     "metadata": {},
     "output_type": "display_data"
    }
   ],
   "source": [
    "# ... or individual nodes (using an XPath expression)...\n",
    "xml_find_all(catalog, \".//TITLE\") %>% head"
   ]
  },
  {
   "cell_type": "code",
   "execution_count": 57,
   "metadata": {
    "collapsed": false
   },
   "outputs": [
    {
     "data": {
      "text/html": [
       "<ol class=list-inline>\n",
       "\t<li>'Empire Burlesque'</li>\n",
       "\t<li>'Hide your heart'</li>\n",
       "\t<li>'Greatest Hits'</li>\n",
       "\t<li>'Still got the blues'</li>\n",
       "\t<li>'Eros'</li>\n",
       "\t<li>'One night only'</li>\n",
       "</ol>\n"
      ],
      "text/latex": [
       "\\begin{enumerate*}\n",
       "\\item 'Empire Burlesque'\n",
       "\\item 'Hide your heart'\n",
       "\\item 'Greatest Hits'\n",
       "\\item 'Still got the blues'\n",
       "\\item 'Eros'\n",
       "\\item 'One night only'\n",
       "\\end{enumerate*}\n"
      ],
      "text/markdown": [
       "1. 'Empire Burlesque'\n",
       "2. 'Hide your heart'\n",
       "3. 'Greatest Hits'\n",
       "4. 'Still got the blues'\n",
       "5. 'Eros'\n",
       "6. 'One night only'\n",
       "\n",
       "\n"
      ],
      "text/plain": [
       "[1] \"Empire Burlesque\"    \"Hide your heart\"     \"Greatest Hits\"      \n",
       "[4] \"Still got the blues\" \"Eros\"                \"One night only\"     "
      ]
     },
     "metadata": {},
     "output_type": "display_data"
    }
   ],
   "source": [
    "# ... and possibly just the node text\n",
    "xml_find_all(catalog, \".//TITLE\") %>% xml_text %>% head"
   ]
  },
  {
   "cell_type": "code",
   "execution_count": 58,
   "metadata": {
    "collapsed": false
   },
   "outputs": [
    {
     "data": {
      "text/html": [
       "<ol class=list-inline>\n",
       "\t<li>'Empire Burlesque'</li>\n",
       "\t<li>'Hide your heart'</li>\n",
       "\t<li>'Greatest Hits'</li>\n",
       "\t<li>'Still got the blues'</li>\n",
       "\t<li>'Eros'</li>\n",
       "\t<li>'One night only'</li>\n",
       "</ol>\n"
      ],
      "text/latex": [
       "\\begin{enumerate*}\n",
       "\\item 'Empire Burlesque'\n",
       "\\item 'Hide your heart'\n",
       "\\item 'Greatest Hits'\n",
       "\\item 'Still got the blues'\n",
       "\\item 'Eros'\n",
       "\\item 'One night only'\n",
       "\\end{enumerate*}\n"
      ],
      "text/markdown": [
       "1. 'Empire Burlesque'\n",
       "2. 'Hide your heart'\n",
       "3. 'Greatest Hits'\n",
       "4. 'Still got the blues'\n",
       "5. 'Eros'\n",
       "6. 'One night only'\n",
       "\n",
       "\n"
      ],
      "text/plain": [
       "[1] \"Empire Burlesque\"    \"Hide your heart\"     \"Greatest Hits\"      \n",
       "[4] \"Still got the blues\" \"Eros\"                \"One night only\"     "
      ]
     },
     "metadata": {},
     "output_type": "display_data"
    }
   ],
   "source": [
    "# look within nested nodes (again, with an XPath expression)\n",
    "xml_find_all(catalog, \"CD/TITLE\") %>% xml_text %>% head"
   ]
  },
  {
   "cell_type": "markdown",
   "metadata": {},
   "source": [
    "Details on `xml_find_all()`:\n",
    "* uses XPath expressions:  http://www.w3schools.com/xsl/xpath_syntax.asp\n",
    "    * `CD/TITLE` (child node only) vs. `CD//TITLE` (any level of descendant)\n",
    "    * `//TAG` looks anywhere in document\n",
    "    * `.//TAG` looks only beneath current node\n",
    "    * node tags are case sensitive\n",
    "* repeated nodes are automatically de-duplicated\n",
    "\n",
    "Also see `xml_find_first()`"
   ]
  },
  {
   "cell_type": "code",
   "execution_count": 59,
   "metadata": {
    "collapsed": false
   },
   "outputs": [
    {
     "data": {
      "text/html": [
       "'element'"
      ],
      "text/latex": [
       "'element'"
      ],
      "text/markdown": [
       "'element'"
      ],
      "text/plain": [
       "[1] \"element\""
      ]
     },
     "metadata": {},
     "output_type": "display_data"
    }
   ],
   "source": [
    "# debug \n",
    "xml_find_all(catalog, \".//TITLE\") %>% xml_type %>% unique"
   ]
  },
  {
   "cell_type": "code",
   "execution_count": 60,
   "metadata": {
    "collapsed": false
   },
   "outputs": [
    {
     "data": {
      "text/html": [
       "<ol class=list-inline>\n",
       "\t<li>'USA'</li>\n",
       "\t<li>'UK'</li>\n",
       "\t<li>'USA'</li>\n",
       "\t<li>'UK'</li>\n",
       "\t<li>'EU'</li>\n",
       "\t<li>'UK'</li>\n",
       "\t<li>'UK'</li>\n",
       "\t<li>'UK'</li>\n",
       "\t<li>'EU'</li>\n",
       "\t<li>'USA'</li>\n",
       "\t<li>'EU'</li>\n",
       "\t<li>'USA'</li>\n",
       "\t<li>'UK'</li>\n",
       "\t<li>'USA'</li>\n",
       "\t<li>'UK'</li>\n",
       "\t<li>'Norway'</li>\n",
       "\t<li>'UK'</li>\n",
       "\t<li>'UK'</li>\n",
       "\t<li>'UK'</li>\n",
       "\t<li>'UK'</li>\n",
       "\t<li>'EU'</li>\n",
       "\t<li>'UK'</li>\n",
       "\t<li>'USA'</li>\n",
       "\t<li>'EU'</li>\n",
       "\t<li>'UK'</li>\n",
       "\t<li>'USA'</li>\n",
       "</ol>\n"
      ],
      "text/latex": [
       "\\begin{enumerate*}\n",
       "\\item 'USA'\n",
       "\\item 'UK'\n",
       "\\item 'USA'\n",
       "\\item 'UK'\n",
       "\\item 'EU'\n",
       "\\item 'UK'\n",
       "\\item 'UK'\n",
       "\\item 'UK'\n",
       "\\item 'EU'\n",
       "\\item 'USA'\n",
       "\\item 'EU'\n",
       "\\item 'USA'\n",
       "\\item 'UK'\n",
       "\\item 'USA'\n",
       "\\item 'UK'\n",
       "\\item 'Norway'\n",
       "\\item 'UK'\n",
       "\\item 'UK'\n",
       "\\item 'UK'\n",
       "\\item 'UK'\n",
       "\\item 'EU'\n",
       "\\item 'UK'\n",
       "\\item 'USA'\n",
       "\\item 'EU'\n",
       "\\item 'UK'\n",
       "\\item 'USA'\n",
       "\\end{enumerate*}\n"
      ],
      "text/markdown": [
       "1. 'USA'\n",
       "2. 'UK'\n",
       "3. 'USA'\n",
       "4. 'UK'\n",
       "5. 'EU'\n",
       "6. 'UK'\n",
       "7. 'UK'\n",
       "8. 'UK'\n",
       "9. 'EU'\n",
       "10. 'USA'\n",
       "11. 'EU'\n",
       "12. 'USA'\n",
       "13. 'UK'\n",
       "14. 'USA'\n",
       "15. 'UK'\n",
       "16. 'Norway'\n",
       "17. 'UK'\n",
       "18. 'UK'\n",
       "19. 'UK'\n",
       "20. 'UK'\n",
       "21. 'EU'\n",
       "22. 'UK'\n",
       "23. 'USA'\n",
       "24. 'EU'\n",
       "25. 'UK'\n",
       "26. 'USA'\n",
       "\n",
       "\n"
      ],
      "text/plain": [
       " [1] \"USA\"    \"UK\"     \"USA\"    \"UK\"     \"EU\"     \"UK\"     \"UK\"     \"UK\"    \n",
       " [9] \"EU\"     \"USA\"    \"EU\"     \"USA\"    \"UK\"     \"USA\"    \"UK\"     \"Norway\"\n",
       "[17] \"UK\"     \"UK\"     \"UK\"     \"UK\"     \"EU\"     \"UK\"     \"USA\"    \"EU\"    \n",
       "[25] \"UK\"     \"USA\"   "
      ]
     },
     "metadata": {},
     "output_type": "display_data"
    }
   ],
   "source": [
    "# another example: extract all countries\n",
    "xml_find_all(catalog, \".//COUNTRY\") %>% xml_text "
   ]
  },
  {
   "cell_type": "markdown",
   "metadata": {},
   "source": [
    "### XML2 details\n",
    "* xml2 also supports modification and creation of XML nodes\n",
    "* if you are dealing with namespaces (unique node identifiers), take a look at `xml_ns()`\n",
    "Details are here: https://blog.rstudio.org/2016/07/05/xml2-1-0-0/"
   ]
  },
  {
   "cell_type": "markdown",
   "metadata": {},
   "source": [
    "*Copyright &copy; 2016 The Data Incubator.  All rights reserved.*"
   ]
  }
 ],
 "metadata": {
  "kernelspec": {
   "display_name": "R",
   "language": "R",
   "name": "ir"
  },
  "language_info": {
   "codemirror_mode": "r",
   "file_extension": ".r",
   "mimetype": "text/x-r-source",
   "name": "R",
   "pygments_lexer": "r",
   "version": "3.3.1"
  }
 },
 "nbformat": 4,
 "nbformat_minor": 0
}
