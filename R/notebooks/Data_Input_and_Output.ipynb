{
 "cells": [
  {
   "cell_type": "markdown",
   "metadata": {},
   "source": [
    "# Data Input and Output\n",
    "\n",
    "In this notebook:\n",
    "* Reading flat files using Tidy Tools\n",
    "* Working with external databases"
   ]
  },
  {
   "cell_type": "markdown",
   "metadata": {},
   "source": [
    "# Overview"
   ]
  },
  {
   "cell_type": "markdown",
   "metadata": {},
   "source": [
    "Preferably, use the Tidyverse packages:\n",
    "* `readr` for flat files (CSV, TSV, FWF)\n",
    "* `haven` for SPSS, State, SAS\n",
    "* `readxl` for reading Excel files\n",
    "\n",
    "Unless:\n",
    "* you absolutely need best performance, then use `fread` in `data.table` for fast reading of flat files\n",
    "\n",
    "## Note\n",
    "Ideally, if you work with external files, then you request and share files in a common format, like CSV. It's best if, for example, SPSS itself writes a CSV file that you then use, as opposed to reading in a native SPSS file into R. Of course, that is not always possible, and so we have a choice of packages to use in such situations."
   ]
  },
  {
   "cell_type": "markdown",
   "metadata": {},
   "source": [
    "# Examples"
   ]
  },
  {
   "cell_type": "code",
   "execution_count": null,
   "metadata": {
    "collapsed": true
   },
   "outputs": [],
   "source": [
    "#library(readr)\n",
    "#library(haven)\n",
    "#library(readxl)"
   ]
  },
  {
   "cell_type": "markdown",
   "metadata": {},
   "source": [
    "Usage:\n",
    "```\n",
    "df <- read.csv(\"file.csv\")          # base R has \".\" in function name\n",
    "df <- read.delim(\"file.txt\")\n",
    "\n",
    "df <- read_csv(\"file.csv\")          # readr has \"_\" in function name\n",
    "df <- read_delim(\"file.txt\")\n",
    "\n",
    "df <- read_sas(\"file.sas7bcat\")     # haven\n",
    "df <- read_sav(\"file.sav\")\n",
    "df <- read_dat(\"file.dta\")\n",
    "\n",
    "df <- read_excel(\"file.xlsx\")       # readxl\n",
    "```"
   ]
  },
  {
   "cell_type": "markdown",
   "metadata": {},
   "source": [
    "# Comparison"
   ]
  },
  {
   "cell_type": "markdown",
   "metadata": {},
   "source": [
    "### base R\n",
    "Disadvantages:\n",
    "* stringsAsFactors = TRUE \n",
    "* slow\n",
    "\n",
    "Setting the first to FALSE globally is not good practice, because your code will not be reproducible. Always be explicit with this parameter.\n",
    "\n",
    "Functions for reading data:\n",
    "* read.table or read.csv and similar\n",
    "* read.csv, read.csv2 for different delimiters\n",
    "* read.delim, read.delim2 for different decimal symbol\n",
    "\n",
    "Common options to play with:\n",
    "\n",
    "```\n",
    "df  <- read.csv(file=\"file.csv\", header=TRUE, sep=\",\",\n",
    "                stringsAsFactors=FALSE, row.names=1)\n",
    "```\n",
    "\n",
    "`row.names=1` is helpful, eg, when working with Python `pandas` output.\n",
    "\n",
    "See `?read.table` for details"
   ]
  },
  {
   "cell_type": "markdown",
   "metadata": {},
   "source": [
    "### Readr\n",
    "\n",
    "Readr functions are similar to base R, with `_` replacing `.` :\n",
    "\n",
    "Advantages:\n",
    "* faster\n",
    "* more intelligent\n",
    "* characters are not converted to factors\n",
    "* outputs `tbl_df`\n",
    "* run `problems(df)` to see issues with data\n",
    "* use `locale()` to specify options that can vary between languages and localities\n",
    "\n",
    "\n",
    "Usage:\n",
    "`df <- read_csv(\"file.csv\", locale = locale())`\n",
    "\n",
    "Details are here:  \n",
    "* https://github.com/hadley/readr\n",
    "* locale(): https://cran.r-project.org/web/packages/readr/vignettes/locales.html"
   ]
  },
  {
   "cell_type": "markdown",
   "metadata": {},
   "source": [
    "\n",
    "\n",
    "## readxl\n",
    "https://github.com/hadley/readxl\n",
    "\n",
    "advantages:\n",
    "* reads both `xls` and `xlsx`\n",
    "* you can intuitively specify which sheets to read"
   ]
  },
  {
   "cell_type": "markdown",
   "metadata": {},
   "source": [
    "### haven\n",
    "https://github.com/hadley/haven\n",
    "\n",
    "[Vignette on semantics (working)](https://github.com/hadley/haven/blob/master/vignettes/semantics.Rmd)\n",
    "\n",
    "\n",
    "    df <- read_sas(\"file.sas7bcat\")    # SAS\n",
    "    df <- read_sav(\"file.sav\")         # SPSS\n",
    "    df <- read_dat(\"file.dta\")         # Stata"
   ]
  },
  {
   "cell_type": "markdown",
   "metadata": {},
   "source": [
    "## Example: reading in Excel data\n",
    "\n",
    "A good practice when working with external data is to inspect it in a Unix terminal with `head` and `tail`, but this is usually not possible with proprietary formats. In that case, it's imperative to carefully check the data for any corruptions after loading it into R."
   ]
  },
  {
   "cell_type": "code",
   "execution_count": null,
   "metadata": {
    "collapsed": false
   },
   "outputs": [],
   "source": [
    "library(dplyr)\n",
    "library(readxl)"
   ]
  },
  {
   "cell_type": "code",
   "execution_count": null,
   "metadata": {
    "collapsed": false
   },
   "outputs": [],
   "source": [
    "# First, you may open the file in Excel to see what it looks like\n",
    "# Here, we skip the first 4 rows in order to extract only the data table\n",
    "summary_excel <- read_excel(\"small_data/Medicare_Charge_Inpatient_DRGALL_DRG_Summary_Reports_FY2014.xlsx\",\n",
    "                            col_names=TRUE,            # true by default\n",
    "                            col_types=NULL,            # guess based on data (default) \n",
    "                            sheet=\"Averages_by_DRG\",   # could be an integer\n",
    "                            na=\"\",                     # change as needed\n",
    "                            skip=4) \n",
    "\n",
    "summary_excel %>% names"
   ]
  },
  {
   "cell_type": "markdown",
   "metadata": {
    "collapsed": true
   },
   "source": [
    "# Working with databases"
   ]
  },
  {
   "cell_type": "markdown",
   "metadata": {},
   "source": [
    "Next, we explain how to use `dplyr` with a database. Here are two use cases:\n",
    "* you already have data in a database\n",
    "* your data does not fit in memory, so you have to access it from a database\n",
    "\n",
    "Dplyr supports the three most popular open source databases (`sqlite`, `mysql` and `Postgresql`), and Google’s `bigquery`."
   ]
  },
  {
   "cell_type": "code",
   "execution_count": null,
   "metadata": {
    "collapsed": true
   },
   "outputs": [],
   "source": [
    "library(DBI)"
   ]
  },
  {
   "cell_type": "markdown",
   "metadata": {},
   "source": [
    "## Databases with dplyr\n",
    "Requires no additional packages besides `dplyr`. You can use the same verbs like `select()`, `filter()`, etc.\n",
    "\n",
    "    When working with databases, dplyr tries to be as lazy as possible:\n",
    "\n",
    "    * It never pulls data into R unless you explicitly ask for it.\n",
    "    * It delays doing any work until the last possible moment: it collects together everything you want to do and then sends it to the database in one step."
   ]
  },
  {
   "cell_type": "markdown",
   "metadata": {},
   "source": [
    "### Sqlite"
   ]
  },
  {
   "cell_type": "markdown",
   "metadata": {
    "collapsed": true
   },
   "source": [
    "```{r}\n",
    "# create a database\n",
    "my_db <- src_sqlite(\"DATABASE_NAME.sqlite3\",\n",
    "                    create = TRUE)  # ok to create new tables\n",
    "\n",
    "# write DF to my_db\n",
    "# \"Because all the data has to flow through R,\n",
    "# you should note that this is not suitable for very large datasets.\"\n",
    "copy_to(my_db, MYTABLE)\n",
    "\n",
    "res <- tbl(my_db, sql(\"SELECT * FROM DATABASE_NAME\"))\n",
    "\n",
    "collect(res)\n",
    "```"
   ]
  },
  {
   "cell_type": "markdown",
   "metadata": {},
   "source": [
    "### Postgres"
   ]
  },
  {
   "cell_type": "markdown",
   "metadata": {
    "collapsed": false
   },
   "source": [
    "```{r}\n",
    "flights_postgres <- tbl(src_postgres(\"DATABASE_NAME\"), \"MYTABLE\")\n",
    "# and continue with regular dplyr syntax on `flights_postgres`\n",
    "```"
   ]
  },
  {
   "cell_type": "markdown",
   "metadata": {},
   "source": [
    "For more details, see:\n",
    "* [SQL translation](https://cran.r-project.org/web/packages/dplyr/vignettes/databases.html#sql-translation)\n",
    "* [Grouping](https://cran.r-project.org/web/packages/dplyr/vignettes/databases.html#grouping)\n",
    "* [Bigquery](https://cran.r-project.org/web/packages/dplyr/vignettes/databases.html#bigquery)\n",
    "* [Hadley's advice on picking a database](https://cran.r-project.org/web/packages/dplyr/vignettes/databases.html#picking-a-database)"
   ]
  },
  {
   "cell_type": "markdown",
   "metadata": {},
   "source": [
    "# Other options"
   ]
  },
  {
   "cell_type": "markdown",
   "metadata": {},
   "source": [
    "### 1 of 2: RPostgreSQL"
   ]
  },
  {
   "cell_type": "markdown",
   "metadata": {
    "collapsed": false
   },
   "source": [
    "```{r}\n",
    "\n",
    "library(RPostgreSQL)\n",
    "\n",
    "# open connection\n",
    "driver <- dbDriver(\"PostgreSQL\")\n",
    "\n",
    "con <- dbConnect(drv, dbname = \"DATABASE_NAME\",\n",
    "                 host = \"localhost\",\n",
    "                 port = 5432,         # or any other port specified by your DBA\n",
    "                 user = \"USERNAME\",\n",
    "                 password = \"PASSWORD\")\n",
    "\n",
    "# table exists?\n",
    "dbExistsTable(con, \"MYTABLE\")\n",
    "\n",
    "# write to database\n",
    "dbWriteTable(con, \"MYTABLE\", \n",
    "             value = DF,        # your R dataframe\n",
    "             append = TRUE,\n",
    "             row.names = FALSE)\n",
    " \n",
    "# query data \n",
    "res <- dbGetQuery(con, \"SELECT * from MYTABLE\")\n",
    "\n",
    "# close connection\n",
    "dbDisconnect(con)\n",
    "dbUnloadDriver(drv)\n",
    "```"
   ]
  },
  {
   "cell_type": "markdown",
   "metadata": {},
   "source": [
    "### 2 of 2: RPostgres"
   ]
  },
  {
   "cell_type": "markdown",
   "metadata": {
    "collapsed": true
   },
   "source": [
    "```{r}\n",
    "# seems to have performance advantages:\n",
    "# https://github.com/rstats-db/RPostgres\n",
    "\n",
    "# devtools::install_github(\"rstats-db/RPostgres\")\n",
    "\n",
    "\n",
    "# open connection\n",
    "con <- dbConnect(RPostgres::Postgres(),\n",
    "                 dbname=\"DATABASE_NAME\")\n",
    "\n",
    "# connect to a specific postgres database e.g. Heroku\n",
    "con <- dbConnect(RPostgres::Postgres(),\n",
    "                 dbname = 'DATABASE_NAME', \n",
    "                 host = 'HOST',    # i.e. 'ec2-54-83-201-96.compute-1.amazonaws.com'\n",
    "                 port = 5432,      # or any other port specified by your DBA\n",
    "                 user = 'USERNAME',\n",
    "                 password = 'PASSWORD')\n",
    "\n",
    "# list tables\n",
    "dbListTables(con)\n",
    "\n",
    "# write to database\n",
    "dbWriteTable(conn=con,\n",
    "             name=\"MYTABLE\",\n",
    "             value=DF,          # your R dataframe\n",
    "             overwrite=TRUE)    # overwrite existing?\n",
    "\n",
    "\n",
    "# print table\n",
    "dbReadTable(con, \"MYTABLE\") %>% head\n",
    "\n",
    "# query database\n",
    "res <- dbSendQuery(con, \"SELECT * FROM mtcars WHERE cyl = 4\")\n",
    "dbFetch(res)\n",
    "dbClearResult(res)\n",
    "\n",
    "# close connection\n",
    "dbDisconnect(con)\n",
    "```"
   ]
  },
  {
   "cell_type": "markdown",
   "metadata": {},
   "source": [
    "*Copyright &copy; 2016 The Data Incubator.  All rights reserved.*"
   ]
  }
 ],
 "metadata": {
  "kernelspec": {
   "display_name": "R",
   "language": "R",
   "name": "ir"
  },
  "language_info": {
   "codemirror_mode": "r",
   "file_extension": ".r",
   "mimetype": "text/x-r-source",
   "name": "R",
   "pygments_lexer": "r",
   "version": "3.3.1"
  }
 },
 "nbformat": 4,
 "nbformat_minor": 0
}
